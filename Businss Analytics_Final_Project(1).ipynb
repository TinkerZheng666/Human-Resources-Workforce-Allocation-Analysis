{
 "cells": [
  {
   "cell_type": "markdown",
   "metadata": {},
   "source": [
    "### BA Final Group Project \n",
    "#### Group Member: Yunpeng Hou | Yihuan He | Tianzi Zheng | Ziqing Li | Lifu Sun | Jesus Alejandro Garza"
   ]
  },
  {
   "cell_type": "markdown",
   "metadata": {},
   "source": [
    "#                  Human Resources & Workforce Allocation Analysis"
   ]
  },
  {
   "cell_type": "markdown",
   "metadata": {},
   "source": [
    "### Brief Description: \n",
    "### A HR company has demographic data about people who are looking for a job, and what position they end up having, with what salary and how long does it take for them to get the job"
   ]
  },
  {
   "attachments": {},
   "cell_type": "markdown",
   "metadata": {},
   "source": [
    "### Problem Statements: \n",
    "### Can we predict what might their wages be, what's their position, their education or how long will it take for them to get hired based on the information that we already have?\n",
    "### By solving above problems, we can minimize the resources of HR company spent in matching candidates with the right job and salary."
   ]
  },
  {
   "cell_type": "markdown",
   "metadata": {},
   "source": [
    "### Project Structure\n",
    "Data Cleaning: BA\n",
    "\n",
    "Data Filtering:  FT & PT\n",
    "\n",
    "1. Descriptive Data Mining           \n",
    "      1.1 Data Visualization                    \n",
    "      1.2 K-Means\n",
    "      \n",
    "\n",
    "2. Predictive Data Mining                         \n",
    "\n",
    "    2.1 Prediction for Numerical Data                   \n",
    "      2.1.1 Full-Time DayDiff & Part-Time DayDiff\n",
    "         2.1.1 a) Linear Regression\n",
    "\n",
    "      2.1.2  Full-Time TotalWages \n",
    "         2.1.2 a) Linear Regression\n",
    "         2.1.2 b) Regression Tree\n",
    "             \n",
    "      2.1.3  Part-Time TotalWages\n",
    "         2.1.3 a) Linear Regression\n",
    "         2.1.3 b) Regression Tree\n",
    "         \n",
    "\n",
    "    2.2 Prediction for Categorical Data                                \n",
    "      2.2.1 Full-Time Education                                                      \n",
    "         2.2.1 a) Logistic Regression                                                                  \n",
    "         2.2.1 b) K-Nearest Neighbors\n",
    "         2.2.1 c) Classification Tree\n",
    "         2.2.1 d) Random Forest          \n",
    "\n",
    "      2.2.2 Part-Time Position\n",
    "         2.2.2 a) Logistic Regression\n",
    "         2.2.2 b) K-Nearest Neighbors\n",
    "         2.2.2 c) Classification Tree\n",
    "         2.2.2 d) Random Forest\n",
    "\n",
    "3. Overall Conclusion           \n",
    "      3.1 Numerical Data - Regression                    \n",
    "      3.2 Categorical Data - Classification"
   ]
  },
  {
   "cell_type": "code",
   "execution_count": 1,
   "metadata": {},
   "outputs": [],
   "source": [
    "import pandas as pd\n",
    "import numpy as np\n",
    "import matplotlib.pyplot as plt\n",
    "import seaborn as sns\n",
    "%matplotlib inline"
   ]
  },
  {
   "cell_type": "code",
   "execution_count": 2,
   "metadata": {},
   "outputs": [],
   "source": [
    "BA = pd.read_csv('Employment_Now_Data.csv')"
   ]
  },
  {
   "cell_type": "code",
   "execution_count": 3,
   "metadata": {},
   "outputs": [
    {
     "data": {
      "text/html": [
       "<div>\n",
       "<style scoped>\n",
       "    .dataframe tbody tr th:only-of-type {\n",
       "        vertical-align: middle;\n",
       "    }\n",
       "\n",
       "    .dataframe tbody tr th {\n",
       "        vertical-align: top;\n",
       "    }\n",
       "\n",
       "    .dataframe thead th {\n",
       "        text-align: right;\n",
       "    }\n",
       "</style>\n",
       "<table border=\"1\" class=\"dataframe\">\n",
       "  <thead>\n",
       "    <tr style=\"text-align: right;\">\n",
       "      <th></th>\n",
       "      <th>PID</th>\n",
       "      <th>AGE</th>\n",
       "      <th>GENDER</th>\n",
       "      <th>ZIP CODE</th>\n",
       "      <th>COUNTY</th>\n",
       "      <th>PROGRAM START DATE</th>\n",
       "      <th>POSITION</th>\n",
       "      <th>JOB START DATE</th>\n",
       "      <th>JOB TERMINATION DATE</th>\n",
       "      <th>WAGE</th>\n",
       "      <th>HOURS PER WEEK</th>\n",
       "      <th>EDUCATION</th>\n",
       "      <th>Quarter and Year</th>\n",
       "    </tr>\n",
       "  </thead>\n",
       "  <tbody>\n",
       "    <tr>\n",
       "      <th>0</th>\n",
       "      <td>PID02994</td>\n",
       "      <td>29</td>\n",
       "      <td>male</td>\n",
       "      <td>11692</td>\n",
       "      <td>Arverne</td>\n",
       "      <td>2015/6/24</td>\n",
       "      <td>Administrative</td>\n",
       "      <td>2015/9/3</td>\n",
       "      <td>NaN</td>\n",
       "      <td>15.60</td>\n",
       "      <td>30.0</td>\n",
       "      <td>HS Graduate</td>\n",
       "      <td>Q3-2015</td>\n",
       "    </tr>\n",
       "    <tr>\n",
       "      <th>1</th>\n",
       "      <td>PID00542</td>\n",
       "      <td>50</td>\n",
       "      <td>male</td>\n",
       "      <td>10456</td>\n",
       "      <td>Bronx</td>\n",
       "      <td>2015/7/4</td>\n",
       "      <td>Administrative</td>\n",
       "      <td>2015/8/3</td>\n",
       "      <td>NaN</td>\n",
       "      <td>8.75</td>\n",
       "      <td>30.0</td>\n",
       "      <td>HS Graduate</td>\n",
       "      <td>Q3-2015</td>\n",
       "    </tr>\n",
       "    <tr>\n",
       "      <th>2</th>\n",
       "      <td>PID03451</td>\n",
       "      <td>50</td>\n",
       "      <td>male</td>\n",
       "      <td>11420</td>\n",
       "      <td>South Ozone Park</td>\n",
       "      <td>2014/8/29</td>\n",
       "      <td>Administrative</td>\n",
       "      <td>2015/9/8</td>\n",
       "      <td>NaN</td>\n",
       "      <td>16.00</td>\n",
       "      <td>35.0</td>\n",
       "      <td>HS Graduate</td>\n",
       "      <td>Q3-2015</td>\n",
       "    </tr>\n",
       "    <tr>\n",
       "      <th>3</th>\n",
       "      <td>PID00543</td>\n",
       "      <td>50</td>\n",
       "      <td>male</td>\n",
       "      <td>10456</td>\n",
       "      <td>Bronx</td>\n",
       "      <td>2015/4/25</td>\n",
       "      <td>Administrative</td>\n",
       "      <td>2015/8/3</td>\n",
       "      <td>NaN</td>\n",
       "      <td>8.75</td>\n",
       "      <td>30.0</td>\n",
       "      <td>HS Graduate</td>\n",
       "      <td>Q3-2015</td>\n",
       "    </tr>\n",
       "    <tr>\n",
       "      <th>4</th>\n",
       "      <td>PID11335</td>\n",
       "      <td>40</td>\n",
       "      <td>male</td>\n",
       "      <td>11220</td>\n",
       "      <td>Brooklyn</td>\n",
       "      <td>2015/3/19</td>\n",
       "      <td>Administrative</td>\n",
       "      <td>2015/8/17</td>\n",
       "      <td>NaN</td>\n",
       "      <td>13.92</td>\n",
       "      <td>40.0</td>\n",
       "      <td>HS Graduate</td>\n",
       "      <td>Q3-2015</td>\n",
       "    </tr>\n",
       "    <tr>\n",
       "      <th>5</th>\n",
       "      <td>PID05307</td>\n",
       "      <td>26</td>\n",
       "      <td>male</td>\n",
       "      <td>11693</td>\n",
       "      <td>Far Rockaway</td>\n",
       "      <td>2015/4/5</td>\n",
       "      <td>Administrative</td>\n",
       "      <td>2015/9/16</td>\n",
       "      <td>NaN</td>\n",
       "      <td>16.50</td>\n",
       "      <td>35.0</td>\n",
       "      <td>HS Graduate</td>\n",
       "      <td>Q3-2015</td>\n",
       "    </tr>\n",
       "    <tr>\n",
       "      <th>6</th>\n",
       "      <td>PID05308</td>\n",
       "      <td>26</td>\n",
       "      <td>male</td>\n",
       "      <td>11693</td>\n",
       "      <td>Far Rockaway</td>\n",
       "      <td>2015/8/13</td>\n",
       "      <td>Administrative</td>\n",
       "      <td>2015/9/16</td>\n",
       "      <td>NaN</td>\n",
       "      <td>16.50</td>\n",
       "      <td>35.0</td>\n",
       "      <td>HS Graduate</td>\n",
       "      <td>Q3-2015</td>\n",
       "    </tr>\n",
       "    <tr>\n",
       "      <th>7</th>\n",
       "      <td>PID15814</td>\n",
       "      <td>33</td>\n",
       "      <td>male</td>\n",
       "      <td>11413</td>\n",
       "      <td>Springfield Gardens</td>\n",
       "      <td>2015/1/21</td>\n",
       "      <td>Administrative</td>\n",
       "      <td>2015/9/14</td>\n",
       "      <td>NaN</td>\n",
       "      <td>20.00</td>\n",
       "      <td>35.0</td>\n",
       "      <td>HS Graduate</td>\n",
       "      <td>Q3-2015</td>\n",
       "    </tr>\n",
       "    <tr>\n",
       "      <th>8</th>\n",
       "      <td>PID17406</td>\n",
       "      <td>22</td>\n",
       "      <td>female</td>\n",
       "      <td>11691</td>\n",
       "      <td>Far Rockaway</td>\n",
       "      <td>2014/4/28</td>\n",
       "      <td>Administrative</td>\n",
       "      <td>2014/10/2</td>\n",
       "      <td>2014/10/24</td>\n",
       "      <td>8.00</td>\n",
       "      <td>25.0</td>\n",
       "      <td>HS Graduate</td>\n",
       "      <td>Q4-2014</td>\n",
       "    </tr>\n",
       "    <tr>\n",
       "      <th>9</th>\n",
       "      <td>PID01003</td>\n",
       "      <td>31</td>\n",
       "      <td>female</td>\n",
       "      <td>11433</td>\n",
       "      <td>Jamaica</td>\n",
       "      <td>2014/1/8</td>\n",
       "      <td>Administrative</td>\n",
       "      <td>2014/5/8</td>\n",
       "      <td>NaN</td>\n",
       "      <td>12.00</td>\n",
       "      <td>40.0</td>\n",
       "      <td>HS Graduate</td>\n",
       "      <td>Q2-2014</td>\n",
       "    </tr>\n",
       "    <tr>\n",
       "      <th>10</th>\n",
       "      <td>PID00547</td>\n",
       "      <td>38</td>\n",
       "      <td>female</td>\n",
       "      <td>11216</td>\n",
       "      <td>Brooklyn</td>\n",
       "      <td>2013/5/23</td>\n",
       "      <td>Administrative</td>\n",
       "      <td>2014/6/1</td>\n",
       "      <td>NaN</td>\n",
       "      <td>13.00</td>\n",
       "      <td>30.0</td>\n",
       "      <td>HS Graduate</td>\n",
       "      <td>Q2-2014</td>\n",
       "    </tr>\n",
       "    <tr>\n",
       "      <th>11</th>\n",
       "      <td>PID01004</td>\n",
       "      <td>31</td>\n",
       "      <td>female</td>\n",
       "      <td>11433</td>\n",
       "      <td>Jamaica</td>\n",
       "      <td>2014/3/23</td>\n",
       "      <td>Administrative</td>\n",
       "      <td>2014/5/8</td>\n",
       "      <td>NaN</td>\n",
       "      <td>12.00</td>\n",
       "      <td>40.0</td>\n",
       "      <td>HS Graduate</td>\n",
       "      <td>Q2-2014</td>\n",
       "    </tr>\n",
       "    <tr>\n",
       "      <th>12</th>\n",
       "      <td>PID15261</td>\n",
       "      <td>30</td>\n",
       "      <td>female</td>\n",
       "      <td>11226</td>\n",
       "      <td>Brooklyn</td>\n",
       "      <td>2014/5/18</td>\n",
       "      <td>Administrative</td>\n",
       "      <td>2015/1/12</td>\n",
       "      <td>NaN</td>\n",
       "      <td>10.00</td>\n",
       "      <td>30.0</td>\n",
       "      <td>HS Graduate</td>\n",
       "      <td>Q1-2015</td>\n",
       "    </tr>\n",
       "    <tr>\n",
       "      <th>13</th>\n",
       "      <td>PID16399</td>\n",
       "      <td>48</td>\n",
       "      <td>male</td>\n",
       "      <td>11691</td>\n",
       "      <td>Far Rockaway</td>\n",
       "      <td>2014/3/18</td>\n",
       "      <td>Administrative</td>\n",
       "      <td>2014/7/1</td>\n",
       "      <td>NaN</td>\n",
       "      <td>15.00</td>\n",
       "      <td>25.0</td>\n",
       "      <td>HS Graduate</td>\n",
       "      <td>Q3-2014</td>\n",
       "    </tr>\n",
       "    <tr>\n",
       "      <th>14</th>\n",
       "      <td>PID06715</td>\n",
       "      <td>27</td>\n",
       "      <td>female</td>\n",
       "      <td>11233</td>\n",
       "      <td>Brooklyn</td>\n",
       "      <td>2014/11/2</td>\n",
       "      <td>Administrative</td>\n",
       "      <td>2015/8/24</td>\n",
       "      <td>NaN</td>\n",
       "      <td>11.00</td>\n",
       "      <td>35.0</td>\n",
       "      <td>HS Graduate</td>\n",
       "      <td>Q3-2015</td>\n",
       "    </tr>\n",
       "    <tr>\n",
       "      <th>15</th>\n",
       "      <td>PID00482</td>\n",
       "      <td>23</td>\n",
       "      <td>female</td>\n",
       "      <td>11212</td>\n",
       "      <td>Brooklyn</td>\n",
       "      <td>2015/8/6</td>\n",
       "      <td>Administrative</td>\n",
       "      <td>2015/10/26</td>\n",
       "      <td>NaN</td>\n",
       "      <td>8.75</td>\n",
       "      <td>30.0</td>\n",
       "      <td>HS Graduate</td>\n",
       "      <td>Q4-2015</td>\n",
       "    </tr>\n",
       "    <tr>\n",
       "      <th>16</th>\n",
       "      <td>PID15263</td>\n",
       "      <td>28</td>\n",
       "      <td>male</td>\n",
       "      <td>11691</td>\n",
       "      <td>Far Rockaway</td>\n",
       "      <td>2014/5/31</td>\n",
       "      <td>Administrative</td>\n",
       "      <td>2014/12/29</td>\n",
       "      <td>NaN</td>\n",
       "      <td>8.75</td>\n",
       "      <td>20.0</td>\n",
       "      <td>HS Graduate</td>\n",
       "      <td>Q4-2014</td>\n",
       "    </tr>\n",
       "    <tr>\n",
       "      <th>17</th>\n",
       "      <td>PID15264</td>\n",
       "      <td>28</td>\n",
       "      <td>male</td>\n",
       "      <td>11691</td>\n",
       "      <td>Far Rockaway</td>\n",
       "      <td>2013/11/26</td>\n",
       "      <td>Administrative</td>\n",
       "      <td>2014/12/29</td>\n",
       "      <td>NaN</td>\n",
       "      <td>8.75</td>\n",
       "      <td>20.0</td>\n",
       "      <td>HS Graduate</td>\n",
       "      <td>Q4-2014</td>\n",
       "    </tr>\n",
       "    <tr>\n",
       "      <th>18</th>\n",
       "      <td>PID04900</td>\n",
       "      <td>30</td>\n",
       "      <td>female</td>\n",
       "      <td>11229</td>\n",
       "      <td>Brooklyn</td>\n",
       "      <td>2014/6/1</td>\n",
       "      <td>Administrative</td>\n",
       "      <td>2014/8/15</td>\n",
       "      <td>NaN</td>\n",
       "      <td>8.00</td>\n",
       "      <td>35.0</td>\n",
       "      <td>HS Graduate</td>\n",
       "      <td>Q3-2014</td>\n",
       "    </tr>\n",
       "    <tr>\n",
       "      <th>19</th>\n",
       "      <td>PID19785</td>\n",
       "      <td>26</td>\n",
       "      <td>female</td>\n",
       "      <td>11233</td>\n",
       "      <td>Brooklyn</td>\n",
       "      <td>2015/6/15</td>\n",
       "      <td>Administrative</td>\n",
       "      <td>2015/7/17</td>\n",
       "      <td>2015/7/22</td>\n",
       "      <td>10.00</td>\n",
       "      <td>40.0</td>\n",
       "      <td>HS Graduate</td>\n",
       "      <td>Q3-2015</td>\n",
       "    </tr>\n",
       "    <tr>\n",
       "      <th>20</th>\n",
       "      <td>PID19793</td>\n",
       "      <td>39</td>\n",
       "      <td>female</td>\n",
       "      <td>11221</td>\n",
       "      <td>Brooklyn</td>\n",
       "      <td>2013/8/29</td>\n",
       "      <td>Administrative</td>\n",
       "      <td>2013/9/26</td>\n",
       "      <td>2014/1/17</td>\n",
       "      <td>17.00</td>\n",
       "      <td>20.0</td>\n",
       "      <td>HS Graduate</td>\n",
       "      <td>Q3-2013</td>\n",
       "    </tr>\n",
       "    <tr>\n",
       "      <th>21</th>\n",
       "      <td>PID03444</td>\n",
       "      <td>37</td>\n",
       "      <td>female</td>\n",
       "      <td>11417</td>\n",
       "      <td>Ozone Park</td>\n",
       "      <td>2014/5/17</td>\n",
       "      <td>Administrative</td>\n",
       "      <td>2014/10/20</td>\n",
       "      <td>2015/2/18</td>\n",
       "      <td>13.00</td>\n",
       "      <td>40.0</td>\n",
       "      <td>HS Graduate</td>\n",
       "      <td>Q4-2014</td>\n",
       "    </tr>\n",
       "    <tr>\n",
       "      <th>22</th>\n",
       "      <td>PID06596</td>\n",
       "      <td>45</td>\n",
       "      <td>female</td>\n",
       "      <td>11233</td>\n",
       "      <td>Brooklyn</td>\n",
       "      <td>2014/9/20</td>\n",
       "      <td>Administrative</td>\n",
       "      <td>2015/1/5</td>\n",
       "      <td>NaN</td>\n",
       "      <td>17.78</td>\n",
       "      <td>35.0</td>\n",
       "      <td>HS Graduate</td>\n",
       "      <td>Q1-2015</td>\n",
       "    </tr>\n",
       "    <tr>\n",
       "      <th>23</th>\n",
       "      <td>PID05160</td>\n",
       "      <td>51</td>\n",
       "      <td>male</td>\n",
       "      <td>11226</td>\n",
       "      <td>Brooklyn</td>\n",
       "      <td>2012/11/12</td>\n",
       "      <td>Administrative</td>\n",
       "      <td>2013/11/1</td>\n",
       "      <td>2013/12/26</td>\n",
       "      <td>10.00</td>\n",
       "      <td>20.0</td>\n",
       "      <td>HS Graduate</td>\n",
       "      <td>Q4-2013</td>\n",
       "    </tr>\n",
       "    <tr>\n",
       "      <th>24</th>\n",
       "      <td>PID11398</td>\n",
       "      <td>33</td>\n",
       "      <td>male</td>\n",
       "      <td>11412</td>\n",
       "      <td>Saint Albans</td>\n",
       "      <td>2013/4/3</td>\n",
       "      <td>Administrative</td>\n",
       "      <td>2013/10/23</td>\n",
       "      <td>NaN</td>\n",
       "      <td>7.50</td>\n",
       "      <td>20.0</td>\n",
       "      <td>HS Graduate</td>\n",
       "      <td>Q4-2013</td>\n",
       "    </tr>\n",
       "    <tr>\n",
       "      <th>25</th>\n",
       "      <td>PID00680</td>\n",
       "      <td>43</td>\n",
       "      <td>male</td>\n",
       "      <td>11208</td>\n",
       "      <td>Brooklyn</td>\n",
       "      <td>2013/10/28</td>\n",
       "      <td>Administrative</td>\n",
       "      <td>2014/3/19</td>\n",
       "      <td>NaN</td>\n",
       "      <td>11.00</td>\n",
       "      <td>20.0</td>\n",
       "      <td>HS Graduate</td>\n",
       "      <td>Q1-2014</td>\n",
       "    </tr>\n",
       "    <tr>\n",
       "      <th>26</th>\n",
       "      <td>PID17685</td>\n",
       "      <td>27</td>\n",
       "      <td>female</td>\n",
       "      <td>11203</td>\n",
       "      <td>Brooklyn</td>\n",
       "      <td>2014/6/29</td>\n",
       "      <td>Administrative</td>\n",
       "      <td>2015/5/31</td>\n",
       "      <td>NaN</td>\n",
       "      <td>25.00</td>\n",
       "      <td>30.0</td>\n",
       "      <td>HS Graduate</td>\n",
       "      <td>Q2-2015</td>\n",
       "    </tr>\n",
       "    <tr>\n",
       "      <th>27</th>\n",
       "      <td>PID13957</td>\n",
       "      <td>25</td>\n",
       "      <td>female</td>\n",
       "      <td>11206</td>\n",
       "      <td>Brooklyn</td>\n",
       "      <td>2014/3/11</td>\n",
       "      <td>Administrative</td>\n",
       "      <td>2014/4/21</td>\n",
       "      <td>NaN</td>\n",
       "      <td>15.14</td>\n",
       "      <td>40.0</td>\n",
       "      <td>HS Graduate</td>\n",
       "      <td>Q2-2014</td>\n",
       "    </tr>\n",
       "    <tr>\n",
       "      <th>28</th>\n",
       "      <td>PID02806</td>\n",
       "      <td>35</td>\n",
       "      <td>male</td>\n",
       "      <td>11692</td>\n",
       "      <td>Arverne</td>\n",
       "      <td>2014/10/24</td>\n",
       "      <td>Administrative</td>\n",
       "      <td>2015/9/18</td>\n",
       "      <td>NaN</td>\n",
       "      <td>12.00</td>\n",
       "      <td>30.0</td>\n",
       "      <td>HS Graduate</td>\n",
       "      <td>Q3-2015</td>\n",
       "    </tr>\n",
       "    <tr>\n",
       "      <th>29</th>\n",
       "      <td>PID01814</td>\n",
       "      <td>51</td>\n",
       "      <td>male</td>\n",
       "      <td>11226</td>\n",
       "      <td>Brooklyn</td>\n",
       "      <td>2013/7/1</td>\n",
       "      <td>Administrative</td>\n",
       "      <td>2013/7/22</td>\n",
       "      <td>2013/8/20</td>\n",
       "      <td>10.00</td>\n",
       "      <td>25.0</td>\n",
       "      <td>College</td>\n",
       "      <td>Q3-2013</td>\n",
       "    </tr>\n",
       "    <tr>\n",
       "      <th>...</th>\n",
       "      <td>...</td>\n",
       "      <td>...</td>\n",
       "      <td>...</td>\n",
       "      <td>...</td>\n",
       "      <td>...</td>\n",
       "      <td>...</td>\n",
       "      <td>...</td>\n",
       "      <td>...</td>\n",
       "      <td>...</td>\n",
       "      <td>...</td>\n",
       "      <td>...</td>\n",
       "      <td>...</td>\n",
       "      <td>...</td>\n",
       "    </tr>\n",
       "    <tr>\n",
       "      <th>19859</th>\n",
       "      <td>PID09678</td>\n",
       "      <td>57</td>\n",
       "      <td>male</td>\n",
       "      <td>11236</td>\n",
       "      <td>Brooklyn</td>\n",
       "      <td>2014/12/2</td>\n",
       "      <td>Transportation</td>\n",
       "      <td>2014/12/22</td>\n",
       "      <td>NaN</td>\n",
       "      <td>10.50</td>\n",
       "      <td>50.0</td>\n",
       "      <td>HS Graduate</td>\n",
       "      <td>Q4-2014</td>\n",
       "    </tr>\n",
       "    <tr>\n",
       "      <th>19860</th>\n",
       "      <td>PID14529</td>\n",
       "      <td>31</td>\n",
       "      <td>female</td>\n",
       "      <td>11238</td>\n",
       "      <td>Brooklyn</td>\n",
       "      <td>2015/6/5</td>\n",
       "      <td>Transportation</td>\n",
       "      <td>2015/6/25</td>\n",
       "      <td>NaN</td>\n",
       "      <td>8.75</td>\n",
       "      <td>21.0</td>\n",
       "      <td>HS Graduate</td>\n",
       "      <td>Q2-2015</td>\n",
       "    </tr>\n",
       "    <tr>\n",
       "      <th>19861</th>\n",
       "      <td>PID07070</td>\n",
       "      <td>34</td>\n",
       "      <td>female</td>\n",
       "      <td>11204</td>\n",
       "      <td>Brooklyn</td>\n",
       "      <td>2013/8/13</td>\n",
       "      <td>Transportation</td>\n",
       "      <td>2013/9/2</td>\n",
       "      <td>2013/11/27</td>\n",
       "      <td>7.25</td>\n",
       "      <td>20.0</td>\n",
       "      <td>HS Graduate</td>\n",
       "      <td>Q3-2013</td>\n",
       "    </tr>\n",
       "    <tr>\n",
       "      <th>19862</th>\n",
       "      <td>PID01449</td>\n",
       "      <td>50</td>\n",
       "      <td>male</td>\n",
       "      <td>11691</td>\n",
       "      <td>Far Rockaway</td>\n",
       "      <td>2013/8/4</td>\n",
       "      <td>Transportation</td>\n",
       "      <td>2013/8/23</td>\n",
       "      <td>NaN</td>\n",
       "      <td>10.00</td>\n",
       "      <td>30.0</td>\n",
       "      <td>HS Graduate</td>\n",
       "      <td>Q3-2013</td>\n",
       "    </tr>\n",
       "    <tr>\n",
       "      <th>19863</th>\n",
       "      <td>PID08438</td>\n",
       "      <td>20</td>\n",
       "      <td>male</td>\n",
       "      <td>10467</td>\n",
       "      <td>Bronx</td>\n",
       "      <td>2015/7/15</td>\n",
       "      <td>Transportation</td>\n",
       "      <td>2015/8/3</td>\n",
       "      <td>NaN</td>\n",
       "      <td>8.75</td>\n",
       "      <td>40.0</td>\n",
       "      <td>HS Graduate</td>\n",
       "      <td>Q3-2015</td>\n",
       "    </tr>\n",
       "    <tr>\n",
       "      <th>19864</th>\n",
       "      <td>PID08436</td>\n",
       "      <td>44</td>\n",
       "      <td>male</td>\n",
       "      <td>11226</td>\n",
       "      <td>Brooklyn</td>\n",
       "      <td>2012/3/5</td>\n",
       "      <td>Transportation</td>\n",
       "      <td>2012/3/23</td>\n",
       "      <td>NaN</td>\n",
       "      <td>11.00</td>\n",
       "      <td>30.0</td>\n",
       "      <td>HS Graduate</td>\n",
       "      <td>Q1-2012</td>\n",
       "    </tr>\n",
       "    <tr>\n",
       "      <th>19865</th>\n",
       "      <td>PID13258</td>\n",
       "      <td>35</td>\n",
       "      <td>female</td>\n",
       "      <td>11233</td>\n",
       "      <td>Brooklyn</td>\n",
       "      <td>2013/2/21</td>\n",
       "      <td>Transportation</td>\n",
       "      <td>2013/3/11</td>\n",
       "      <td>NaN</td>\n",
       "      <td>13.69</td>\n",
       "      <td>25.0</td>\n",
       "      <td>HS Graduate</td>\n",
       "      <td>Q1-2013</td>\n",
       "    </tr>\n",
       "    <tr>\n",
       "      <th>19866</th>\n",
       "      <td>PID13752</td>\n",
       "      <td>45</td>\n",
       "      <td>male</td>\n",
       "      <td>12226</td>\n",
       "      <td>Albany</td>\n",
       "      <td>2012/8/7</td>\n",
       "      <td>Transportation</td>\n",
       "      <td>2012/8/25</td>\n",
       "      <td>2012/9/11</td>\n",
       "      <td>16.00</td>\n",
       "      <td>40.0</td>\n",
       "      <td>HS Graduate</td>\n",
       "      <td>Q3-2012</td>\n",
       "    </tr>\n",
       "    <tr>\n",
       "      <th>19867</th>\n",
       "      <td>PID14246</td>\n",
       "      <td>40</td>\n",
       "      <td>female</td>\n",
       "      <td>10469</td>\n",
       "      <td>Bronx</td>\n",
       "      <td>2015/5/14</td>\n",
       "      <td>Transportation</td>\n",
       "      <td>2015/6/1</td>\n",
       "      <td>NaN</td>\n",
       "      <td>15.75</td>\n",
       "      <td>40.0</td>\n",
       "      <td>College</td>\n",
       "      <td>Q2-2015</td>\n",
       "    </tr>\n",
       "    <tr>\n",
       "      <th>19868</th>\n",
       "      <td>PID01446</td>\n",
       "      <td>42</td>\n",
       "      <td>female</td>\n",
       "      <td>11230</td>\n",
       "      <td>Brooklyn</td>\n",
       "      <td>2012/8/20</td>\n",
       "      <td>Transportation</td>\n",
       "      <td>2012/9/6</td>\n",
       "      <td>NaN</td>\n",
       "      <td>8.82</td>\n",
       "      <td>35.0</td>\n",
       "      <td>HS Graduate</td>\n",
       "      <td>Q3-2012</td>\n",
       "    </tr>\n",
       "    <tr>\n",
       "      <th>19869</th>\n",
       "      <td>PID01563</td>\n",
       "      <td>37</td>\n",
       "      <td>female</td>\n",
       "      <td>11207</td>\n",
       "      <td>Brooklyn</td>\n",
       "      <td>2014/7/19</td>\n",
       "      <td>Transportation</td>\n",
       "      <td>2014/8/5</td>\n",
       "      <td>NaN</td>\n",
       "      <td>8.00</td>\n",
       "      <td>30.0</td>\n",
       "      <td>HS Graduate</td>\n",
       "      <td>Q3-2014</td>\n",
       "    </tr>\n",
       "    <tr>\n",
       "      <th>19870</th>\n",
       "      <td>PID02763</td>\n",
       "      <td>53</td>\n",
       "      <td>male</td>\n",
       "      <td>11216</td>\n",
       "      <td>Brooklyn</td>\n",
       "      <td>2011/2/16</td>\n",
       "      <td>Transportation</td>\n",
       "      <td>2011/3/4</td>\n",
       "      <td>NaN</td>\n",
       "      <td>7.25</td>\n",
       "      <td>40.0</td>\n",
       "      <td>10</td>\n",
       "      <td>Q1-2011</td>\n",
       "    </tr>\n",
       "    <tr>\n",
       "      <th>19871</th>\n",
       "      <td>PID18457</td>\n",
       "      <td>49</td>\n",
       "      <td>male</td>\n",
       "      <td>11201</td>\n",
       "      <td>Brooklyn</td>\n",
       "      <td>2013/11/14</td>\n",
       "      <td>Transportation</td>\n",
       "      <td>2013/11/30</td>\n",
       "      <td>2014/2/25</td>\n",
       "      <td>10.00</td>\n",
       "      <td>30.0</td>\n",
       "      <td>HS Graduate</td>\n",
       "      <td>Q4-2013</td>\n",
       "    </tr>\n",
       "    <tr>\n",
       "      <th>19872</th>\n",
       "      <td>PID13252</td>\n",
       "      <td>56</td>\n",
       "      <td>male</td>\n",
       "      <td>11212</td>\n",
       "      <td>Brooklyn</td>\n",
       "      <td>2013/10/2</td>\n",
       "      <td>Transportation</td>\n",
       "      <td>2013/10/17</td>\n",
       "      <td>NaN</td>\n",
       "      <td>24.90</td>\n",
       "      <td>40.0</td>\n",
       "      <td>Some College</td>\n",
       "      <td>Q4-2013</td>\n",
       "    </tr>\n",
       "    <tr>\n",
       "      <th>19873</th>\n",
       "      <td>PID15800</td>\n",
       "      <td>26</td>\n",
       "      <td>male</td>\n",
       "      <td>11236</td>\n",
       "      <td>Brooklyn</td>\n",
       "      <td>2013/9/11</td>\n",
       "      <td>Transportation</td>\n",
       "      <td>2013/9/26</td>\n",
       "      <td>NaN</td>\n",
       "      <td>7.50</td>\n",
       "      <td>30.0</td>\n",
       "      <td>HS Graduate</td>\n",
       "      <td>Q3-2013</td>\n",
       "    </tr>\n",
       "    <tr>\n",
       "      <th>19874</th>\n",
       "      <td>PID02230</td>\n",
       "      <td>30</td>\n",
       "      <td>female</td>\n",
       "      <td>10455</td>\n",
       "      <td>Bronx</td>\n",
       "      <td>2015/7/31</td>\n",
       "      <td>Transportation</td>\n",
       "      <td>2015/8/15</td>\n",
       "      <td>NaN</td>\n",
       "      <td>11.00</td>\n",
       "      <td>37.0</td>\n",
       "      <td>HS Graduate</td>\n",
       "      <td>Q3-2015</td>\n",
       "    </tr>\n",
       "    <tr>\n",
       "      <th>19875</th>\n",
       "      <td>PID18530</td>\n",
       "      <td>27</td>\n",
       "      <td>male</td>\n",
       "      <td>11434</td>\n",
       "      <td>Jamaica</td>\n",
       "      <td>2013/1/13</td>\n",
       "      <td>Transportation</td>\n",
       "      <td>2013/1/28</td>\n",
       "      <td>2013/5/1</td>\n",
       "      <td>10.00</td>\n",
       "      <td>40.0</td>\n",
       "      <td>HS Graduate</td>\n",
       "      <td>Q1-2013</td>\n",
       "    </tr>\n",
       "    <tr>\n",
       "      <th>19876</th>\n",
       "      <td>PID06281</td>\n",
       "      <td>54</td>\n",
       "      <td>male</td>\n",
       "      <td>10025</td>\n",
       "      <td>New York</td>\n",
       "      <td>2012/8/30</td>\n",
       "      <td>Transportation</td>\n",
       "      <td>2012/9/13</td>\n",
       "      <td>NaN</td>\n",
       "      <td>8.25</td>\n",
       "      <td>35.0</td>\n",
       "      <td>HS Graduate</td>\n",
       "      <td>Q3-2012</td>\n",
       "    </tr>\n",
       "    <tr>\n",
       "      <th>19877</th>\n",
       "      <td>PID11145</td>\n",
       "      <td>55</td>\n",
       "      <td>male</td>\n",
       "      <td>11213</td>\n",
       "      <td>Brooklyn</td>\n",
       "      <td>2015/3/14</td>\n",
       "      <td>Transportation</td>\n",
       "      <td>2015/3/26</td>\n",
       "      <td>2015/6/26</td>\n",
       "      <td>10.00</td>\n",
       "      <td>40.0</td>\n",
       "      <td>HS Graduate</td>\n",
       "      <td>Q1-2015</td>\n",
       "    </tr>\n",
       "    <tr>\n",
       "      <th>19878</th>\n",
       "      <td>PID15778</td>\n",
       "      <td>53</td>\n",
       "      <td>male</td>\n",
       "      <td>11230</td>\n",
       "      <td>Brooklyn</td>\n",
       "      <td>2011/11/11</td>\n",
       "      <td>Transportation</td>\n",
       "      <td>2011/11/22</td>\n",
       "      <td>NaN</td>\n",
       "      <td>7.25</td>\n",
       "      <td>35.0</td>\n",
       "      <td>HS Graduate</td>\n",
       "      <td>Q4-2011</td>\n",
       "    </tr>\n",
       "    <tr>\n",
       "      <th>19879</th>\n",
       "      <td>PID02766</td>\n",
       "      <td>36</td>\n",
       "      <td>female</td>\n",
       "      <td>11354</td>\n",
       "      <td>Flushing</td>\n",
       "      <td>2014/3/15</td>\n",
       "      <td>Transportation</td>\n",
       "      <td>2014/3/26</td>\n",
       "      <td>2015/4/3</td>\n",
       "      <td>11.00</td>\n",
       "      <td>30.0</td>\n",
       "      <td>HS Graduate</td>\n",
       "      <td>Q1-2014</td>\n",
       "    </tr>\n",
       "    <tr>\n",
       "      <th>19880</th>\n",
       "      <td>PID13296</td>\n",
       "      <td>50</td>\n",
       "      <td>female</td>\n",
       "      <td>11230</td>\n",
       "      <td>Brooklyn</td>\n",
       "      <td>2015/6/4</td>\n",
       "      <td>Transportation</td>\n",
       "      <td>2015/6/15</td>\n",
       "      <td>2015/7/6</td>\n",
       "      <td>15.00</td>\n",
       "      <td>35.0</td>\n",
       "      <td>Some College</td>\n",
       "      <td>Q2-2015</td>\n",
       "    </tr>\n",
       "    <tr>\n",
       "      <th>19881</th>\n",
       "      <td>PID17726</td>\n",
       "      <td>50</td>\n",
       "      <td>male</td>\n",
       "      <td>11209</td>\n",
       "      <td>Brooklyn</td>\n",
       "      <td>2011/7/8</td>\n",
       "      <td>Transportation</td>\n",
       "      <td>2011/7/18</td>\n",
       "      <td>NaN</td>\n",
       "      <td>20.00</td>\n",
       "      <td>40.0</td>\n",
       "      <td>College</td>\n",
       "      <td>Q3-2011</td>\n",
       "    </tr>\n",
       "    <tr>\n",
       "      <th>19882</th>\n",
       "      <td>PID01106</td>\n",
       "      <td>41</td>\n",
       "      <td>female</td>\n",
       "      <td>11691</td>\n",
       "      <td>Far Rockaway</td>\n",
       "      <td>2014/8/8</td>\n",
       "      <td>Transportation</td>\n",
       "      <td>2014/8/18</td>\n",
       "      <td>NaN</td>\n",
       "      <td>10.00</td>\n",
       "      <td>40.0</td>\n",
       "      <td>HS Graduate</td>\n",
       "      <td>Q3-2014</td>\n",
       "    </tr>\n",
       "    <tr>\n",
       "      <th>19883</th>\n",
       "      <td>PID15525</td>\n",
       "      <td>35</td>\n",
       "      <td>male</td>\n",
       "      <td>11221</td>\n",
       "      <td>Brooklyn</td>\n",
       "      <td>2014/3/16</td>\n",
       "      <td>Transportation</td>\n",
       "      <td>2014/3/25</td>\n",
       "      <td>NaN</td>\n",
       "      <td>9.00</td>\n",
       "      <td>40.0</td>\n",
       "      <td>HS Graduate</td>\n",
       "      <td>Q1-2014</td>\n",
       "    </tr>\n",
       "    <tr>\n",
       "      <th>19884</th>\n",
       "      <td>PID13285</td>\n",
       "      <td>45</td>\n",
       "      <td>female</td>\n",
       "      <td>10457</td>\n",
       "      <td>Bronx</td>\n",
       "      <td>2015/9/22</td>\n",
       "      <td>Transportation</td>\n",
       "      <td>2015/10/1</td>\n",
       "      <td>NaN</td>\n",
       "      <td>8.75</td>\n",
       "      <td>25.0</td>\n",
       "      <td>HS Graduate</td>\n",
       "      <td>Q4-2015</td>\n",
       "    </tr>\n",
       "    <tr>\n",
       "      <th>19885</th>\n",
       "      <td>PID15909</td>\n",
       "      <td>27</td>\n",
       "      <td>female</td>\n",
       "      <td>11221</td>\n",
       "      <td>Brooklyn</td>\n",
       "      <td>2014/10/14</td>\n",
       "      <td>Transportation</td>\n",
       "      <td>2014/10/22</td>\n",
       "      <td>NaN</td>\n",
       "      <td>14.00</td>\n",
       "      <td>35.0</td>\n",
       "      <td>HS Graduate</td>\n",
       "      <td>Q4-2014</td>\n",
       "    </tr>\n",
       "    <tr>\n",
       "      <th>19886</th>\n",
       "      <td>PID01103</td>\n",
       "      <td>57</td>\n",
       "      <td>male</td>\n",
       "      <td>11236</td>\n",
       "      <td>Brooklyn</td>\n",
       "      <td>2014/12/2</td>\n",
       "      <td>Transportation</td>\n",
       "      <td>2014/12/8</td>\n",
       "      <td>NaN</td>\n",
       "      <td>10.00</td>\n",
       "      <td>30.0</td>\n",
       "      <td>HS Graduate</td>\n",
       "      <td>Q4-2014</td>\n",
       "    </tr>\n",
       "    <tr>\n",
       "      <th>19887</th>\n",
       "      <td>PID13245</td>\n",
       "      <td>56</td>\n",
       "      <td>female</td>\n",
       "      <td>11216</td>\n",
       "      <td>Brooklyn</td>\n",
       "      <td>2015/3/17</td>\n",
       "      <td>Transportation</td>\n",
       "      <td>2015/3/23</td>\n",
       "      <td>NaN</td>\n",
       "      <td>22.25</td>\n",
       "      <td>40.0</td>\n",
       "      <td>HS Graduate</td>\n",
       "      <td>Q1-2015</td>\n",
       "    </tr>\n",
       "    <tr>\n",
       "      <th>19888</th>\n",
       "      <td>PID13255</td>\n",
       "      <td>45</td>\n",
       "      <td>female</td>\n",
       "      <td>11214</td>\n",
       "      <td>Brooklyn</td>\n",
       "      <td>2012/9/5</td>\n",
       "      <td>Transportation</td>\n",
       "      <td>2012/9/10</td>\n",
       "      <td>NaN</td>\n",
       "      <td>29.00</td>\n",
       "      <td>40.0</td>\n",
       "      <td>HS Graduate</td>\n",
       "      <td>Q3-2012</td>\n",
       "    </tr>\n",
       "  </tbody>\n",
       "</table>\n",
       "<p>19889 rows × 13 columns</p>\n",
       "</div>"
      ],
      "text/plain": [
       "            PID  AGE  GENDER  ZIP CODE               COUNTY  \\\n",
       "0      PID02994   29    male     11692              Arverne   \n",
       "1      PID00542   50    male     10456                Bronx   \n",
       "2      PID03451   50    male     11420     South Ozone Park   \n",
       "3      PID00543   50    male     10456                Bronx   \n",
       "4      PID11335   40    male     11220             Brooklyn   \n",
       "5      PID05307   26    male     11693         Far Rockaway   \n",
       "6      PID05308   26    male     11693         Far Rockaway   \n",
       "7      PID15814   33    male     11413  Springfield Gardens   \n",
       "8      PID17406   22  female     11691         Far Rockaway   \n",
       "9      PID01003   31  female     11433              Jamaica   \n",
       "10     PID00547   38  female     11216             Brooklyn   \n",
       "11     PID01004   31  female     11433              Jamaica   \n",
       "12     PID15261   30  female     11226             Brooklyn   \n",
       "13     PID16399   48    male     11691         Far Rockaway   \n",
       "14     PID06715   27  female     11233             Brooklyn   \n",
       "15     PID00482   23  female     11212             Brooklyn   \n",
       "16     PID15263   28    male     11691         Far Rockaway   \n",
       "17     PID15264   28    male     11691         Far Rockaway   \n",
       "18     PID04900   30  female     11229             Brooklyn   \n",
       "19     PID19785   26  female     11233             Brooklyn   \n",
       "20     PID19793   39  female     11221             Brooklyn   \n",
       "21     PID03444   37  female     11417           Ozone Park   \n",
       "22     PID06596   45  female     11233             Brooklyn   \n",
       "23     PID05160   51    male     11226             Brooklyn   \n",
       "24     PID11398   33    male     11412         Saint Albans   \n",
       "25     PID00680   43    male     11208             Brooklyn   \n",
       "26     PID17685   27  female     11203             Brooklyn   \n",
       "27     PID13957   25  female     11206             Brooklyn   \n",
       "28     PID02806   35    male     11692              Arverne   \n",
       "29     PID01814   51    male     11226             Brooklyn   \n",
       "...         ...  ...     ...       ...                  ...   \n",
       "19859  PID09678   57    male     11236             Brooklyn   \n",
       "19860  PID14529   31  female     11238             Brooklyn   \n",
       "19861  PID07070   34  female     11204             Brooklyn   \n",
       "19862  PID01449   50    male     11691         Far Rockaway   \n",
       "19863  PID08438   20    male     10467                Bronx   \n",
       "19864  PID08436   44    male     11226             Brooklyn   \n",
       "19865  PID13258   35  female     11233             Brooklyn   \n",
       "19866  PID13752   45    male     12226               Albany   \n",
       "19867  PID14246   40  female     10469                Bronx   \n",
       "19868  PID01446   42  female     11230             Brooklyn   \n",
       "19869  PID01563   37  female     11207             Brooklyn   \n",
       "19870  PID02763   53    male     11216             Brooklyn   \n",
       "19871  PID18457   49    male     11201             Brooklyn   \n",
       "19872  PID13252   56    male     11212             Brooklyn   \n",
       "19873  PID15800   26    male     11236             Brooklyn   \n",
       "19874  PID02230   30  female     10455                Bronx   \n",
       "19875  PID18530   27    male     11434              Jamaica   \n",
       "19876  PID06281   54    male     10025             New York   \n",
       "19877  PID11145   55    male     11213             Brooklyn   \n",
       "19878  PID15778   53    male     11230             Brooklyn   \n",
       "19879  PID02766   36  female     11354             Flushing   \n",
       "19880  PID13296   50  female     11230             Brooklyn   \n",
       "19881  PID17726   50    male     11209             Brooklyn   \n",
       "19882  PID01106   41  female     11691         Far Rockaway   \n",
       "19883  PID15525   35    male     11221             Brooklyn   \n",
       "19884  PID13285   45  female     10457                Bronx   \n",
       "19885  PID15909   27  female     11221             Brooklyn   \n",
       "19886  PID01103   57    male     11236             Brooklyn   \n",
       "19887  PID13245   56  female     11216             Brooklyn   \n",
       "19888  PID13255   45  female     11214             Brooklyn   \n",
       "\n",
       "      PROGRAM START DATE        POSITION JOB START DATE JOB TERMINATION DATE  \\\n",
       "0              2015/6/24  Administrative       2015/9/3                  NaN   \n",
       "1               2015/7/4  Administrative       2015/8/3                  NaN   \n",
       "2              2014/8/29  Administrative       2015/9/8                  NaN   \n",
       "3              2015/4/25  Administrative       2015/8/3                  NaN   \n",
       "4              2015/3/19  Administrative      2015/8/17                  NaN   \n",
       "5               2015/4/5  Administrative      2015/9/16                  NaN   \n",
       "6              2015/8/13  Administrative      2015/9/16                  NaN   \n",
       "7              2015/1/21  Administrative      2015/9/14                  NaN   \n",
       "8              2014/4/28  Administrative      2014/10/2           2014/10/24   \n",
       "9               2014/1/8  Administrative       2014/5/8                  NaN   \n",
       "10             2013/5/23  Administrative       2014/6/1                  NaN   \n",
       "11             2014/3/23  Administrative       2014/5/8                  NaN   \n",
       "12             2014/5/18  Administrative      2015/1/12                  NaN   \n",
       "13             2014/3/18  Administrative       2014/7/1                  NaN   \n",
       "14             2014/11/2  Administrative      2015/8/24                  NaN   \n",
       "15              2015/8/6  Administrative     2015/10/26                  NaN   \n",
       "16             2014/5/31  Administrative     2014/12/29                  NaN   \n",
       "17            2013/11/26  Administrative     2014/12/29                  NaN   \n",
       "18              2014/6/1  Administrative      2014/8/15                  NaN   \n",
       "19             2015/6/15  Administrative      2015/7/17            2015/7/22   \n",
       "20             2013/8/29  Administrative      2013/9/26            2014/1/17   \n",
       "21             2014/5/17  Administrative     2014/10/20            2015/2/18   \n",
       "22             2014/9/20  Administrative       2015/1/5                  NaN   \n",
       "23            2012/11/12  Administrative      2013/11/1           2013/12/26   \n",
       "24              2013/4/3  Administrative     2013/10/23                  NaN   \n",
       "25            2013/10/28  Administrative      2014/3/19                  NaN   \n",
       "26             2014/6/29  Administrative      2015/5/31                  NaN   \n",
       "27             2014/3/11  Administrative      2014/4/21                  NaN   \n",
       "28            2014/10/24  Administrative      2015/9/18                  NaN   \n",
       "29              2013/7/1  Administrative      2013/7/22            2013/8/20   \n",
       "...                  ...             ...            ...                  ...   \n",
       "19859          2014/12/2  Transportation     2014/12/22                  NaN   \n",
       "19860           2015/6/5  Transportation      2015/6/25                  NaN   \n",
       "19861          2013/8/13  Transportation       2013/9/2           2013/11/27   \n",
       "19862           2013/8/4  Transportation      2013/8/23                  NaN   \n",
       "19863          2015/7/15  Transportation       2015/8/3                  NaN   \n",
       "19864           2012/3/5  Transportation      2012/3/23                  NaN   \n",
       "19865          2013/2/21  Transportation      2013/3/11                  NaN   \n",
       "19866           2012/8/7  Transportation      2012/8/25            2012/9/11   \n",
       "19867          2015/5/14  Transportation       2015/6/1                  NaN   \n",
       "19868          2012/8/20  Transportation       2012/9/6                  NaN   \n",
       "19869          2014/7/19  Transportation       2014/8/5                  NaN   \n",
       "19870          2011/2/16  Transportation       2011/3/4                  NaN   \n",
       "19871         2013/11/14  Transportation     2013/11/30            2014/2/25   \n",
       "19872          2013/10/2  Transportation     2013/10/17                  NaN   \n",
       "19873          2013/9/11  Transportation      2013/9/26                  NaN   \n",
       "19874          2015/7/31  Transportation      2015/8/15                  NaN   \n",
       "19875          2013/1/13  Transportation      2013/1/28             2013/5/1   \n",
       "19876          2012/8/30  Transportation      2012/9/13                  NaN   \n",
       "19877          2015/3/14  Transportation      2015/3/26            2015/6/26   \n",
       "19878         2011/11/11  Transportation     2011/11/22                  NaN   \n",
       "19879          2014/3/15  Transportation      2014/3/26             2015/4/3   \n",
       "19880           2015/6/4  Transportation      2015/6/15             2015/7/6   \n",
       "19881           2011/7/8  Transportation      2011/7/18                  NaN   \n",
       "19882           2014/8/8  Transportation      2014/8/18                  NaN   \n",
       "19883          2014/3/16  Transportation      2014/3/25                  NaN   \n",
       "19884          2015/9/22  Transportation      2015/10/1                  NaN   \n",
       "19885         2014/10/14  Transportation     2014/10/22                  NaN   \n",
       "19886          2014/12/2  Transportation      2014/12/8                  NaN   \n",
       "19887          2015/3/17  Transportation      2015/3/23                  NaN   \n",
       "19888           2012/9/5  Transportation      2012/9/10                  NaN   \n",
       "\n",
       "        WAGE  HOURS PER WEEK     EDUCATION Quarter and Year  \n",
       "0      15.60            30.0   HS Graduate          Q3-2015  \n",
       "1       8.75            30.0   HS Graduate          Q3-2015  \n",
       "2      16.00            35.0   HS Graduate          Q3-2015  \n",
       "3       8.75            30.0   HS Graduate          Q3-2015  \n",
       "4      13.92            40.0   HS Graduate          Q3-2015  \n",
       "5      16.50            35.0   HS Graduate          Q3-2015  \n",
       "6      16.50            35.0   HS Graduate          Q3-2015  \n",
       "7      20.00            35.0   HS Graduate          Q3-2015  \n",
       "8       8.00            25.0   HS Graduate          Q4-2014  \n",
       "9      12.00            40.0   HS Graduate          Q2-2014  \n",
       "10     13.00            30.0   HS Graduate          Q2-2014  \n",
       "11     12.00            40.0   HS Graduate          Q2-2014  \n",
       "12     10.00            30.0   HS Graduate          Q1-2015  \n",
       "13     15.00            25.0   HS Graduate          Q3-2014  \n",
       "14     11.00            35.0   HS Graduate          Q3-2015  \n",
       "15      8.75            30.0   HS Graduate          Q4-2015  \n",
       "16      8.75            20.0   HS Graduate          Q4-2014  \n",
       "17      8.75            20.0   HS Graduate          Q4-2014  \n",
       "18      8.00            35.0   HS Graduate          Q3-2014  \n",
       "19     10.00            40.0   HS Graduate          Q3-2015  \n",
       "20     17.00            20.0   HS Graduate          Q3-2013  \n",
       "21     13.00            40.0   HS Graduate          Q4-2014  \n",
       "22     17.78            35.0   HS Graduate          Q1-2015  \n",
       "23     10.00            20.0   HS Graduate          Q4-2013  \n",
       "24      7.50            20.0   HS Graduate          Q4-2013  \n",
       "25     11.00            20.0   HS Graduate          Q1-2014  \n",
       "26     25.00            30.0   HS Graduate          Q2-2015  \n",
       "27     15.14            40.0   HS Graduate          Q2-2014  \n",
       "28     12.00            30.0   HS Graduate          Q3-2015  \n",
       "29     10.00            25.0       College          Q3-2013  \n",
       "...      ...             ...           ...              ...  \n",
       "19859  10.50            50.0   HS Graduate          Q4-2014  \n",
       "19860   8.75            21.0   HS Graduate          Q2-2015  \n",
       "19861   7.25            20.0   HS Graduate          Q3-2013  \n",
       "19862  10.00            30.0   HS Graduate          Q3-2013  \n",
       "19863   8.75            40.0   HS Graduate          Q3-2015  \n",
       "19864  11.00            30.0   HS Graduate          Q1-2012  \n",
       "19865  13.69            25.0   HS Graduate          Q1-2013  \n",
       "19866  16.00            40.0   HS Graduate          Q3-2012  \n",
       "19867  15.75            40.0       College          Q2-2015  \n",
       "19868   8.82            35.0   HS Graduate          Q3-2012  \n",
       "19869   8.00            30.0   HS Graduate          Q3-2014  \n",
       "19870   7.25            40.0            10          Q1-2011  \n",
       "19871  10.00            30.0   HS Graduate          Q4-2013  \n",
       "19872  24.90            40.0  Some College          Q4-2013  \n",
       "19873   7.50            30.0   HS Graduate          Q3-2013  \n",
       "19874  11.00            37.0   HS Graduate          Q3-2015  \n",
       "19875  10.00            40.0   HS Graduate          Q1-2013  \n",
       "19876   8.25            35.0   HS Graduate          Q3-2012  \n",
       "19877  10.00            40.0   HS Graduate          Q1-2015  \n",
       "19878   7.25            35.0   HS Graduate          Q4-2011  \n",
       "19879  11.00            30.0   HS Graduate          Q1-2014  \n",
       "19880  15.00            35.0  Some College          Q2-2015  \n",
       "19881  20.00            40.0       College          Q3-2011  \n",
       "19882  10.00            40.0   HS Graduate          Q3-2014  \n",
       "19883   9.00            40.0   HS Graduate          Q1-2014  \n",
       "19884   8.75            25.0   HS Graduate          Q4-2015  \n",
       "19885  14.00            35.0   HS Graduate          Q4-2014  \n",
       "19886  10.00            30.0   HS Graduate          Q4-2014  \n",
       "19887  22.25            40.0   HS Graduate          Q1-2015  \n",
       "19888  29.00            40.0   HS Graduate          Q3-2012  \n",
       "\n",
       "[19889 rows x 13 columns]"
      ]
     },
     "execution_count": 3,
     "metadata": {},
     "output_type": "execute_result"
    }
   ],
   "source": [
    "BA"
   ]
  },
  {
   "cell_type": "code",
   "execution_count": 4,
   "metadata": {},
   "outputs": [
    {
     "data": {
      "text/plain": [
       "PID                      object\n",
       "AGE                       int64\n",
       "GENDER                   object\n",
       "ZIP CODE                  int64\n",
       "COUNTY                   object\n",
       "PROGRAM START DATE       object\n",
       "POSITION                 object\n",
       "JOB START DATE           object\n",
       "JOB TERMINATION DATE     object\n",
       "WAGE                    float64\n",
       "HOURS PER WEEK          float64\n",
       "EDUCATION                object\n",
       "Quarter and Year         object\n",
       "dtype: object"
      ]
     },
     "execution_count": 4,
     "metadata": {},
     "output_type": "execute_result"
    }
   ],
   "source": [
    "BA.dtypes"
   ]
  },
  {
   "cell_type": "markdown",
   "metadata": {},
   "source": [
    "# Data Cleaning"
   ]
  },
  {
   "cell_type": "code",
   "execution_count": 5,
   "metadata": {},
   "outputs": [
    {
     "data": {
      "text/html": [
       "<div>\n",
       "<style scoped>\n",
       "    .dataframe tbody tr th:only-of-type {\n",
       "        vertical-align: middle;\n",
       "    }\n",
       "\n",
       "    .dataframe tbody tr th {\n",
       "        vertical-align: top;\n",
       "    }\n",
       "\n",
       "    .dataframe thead th {\n",
       "        text-align: right;\n",
       "    }\n",
       "</style>\n",
       "<table border=\"1\" class=\"dataframe\">\n",
       "  <thead>\n",
       "    <tr style=\"text-align: right;\">\n",
       "      <th></th>\n",
       "      <th>PID</th>\n",
       "      <th>AGE</th>\n",
       "      <th>GENDER</th>\n",
       "      <th>PROGRAM START DATE</th>\n",
       "      <th>POSITION</th>\n",
       "      <th>JOB START DATE</th>\n",
       "      <th>WAGE</th>\n",
       "      <th>HOURS PER WEEK</th>\n",
       "      <th>EDUCATION</th>\n",
       "      <th>Quarter and Year</th>\n",
       "    </tr>\n",
       "  </thead>\n",
       "  <tbody>\n",
       "    <tr>\n",
       "      <th>0</th>\n",
       "      <td>PID02994</td>\n",
       "      <td>29</td>\n",
       "      <td>male</td>\n",
       "      <td>2015/6/24</td>\n",
       "      <td>Administrative</td>\n",
       "      <td>2015/9/3</td>\n",
       "      <td>15.60</td>\n",
       "      <td>30.0</td>\n",
       "      <td>HS Graduate</td>\n",
       "      <td>Q3-2015</td>\n",
       "    </tr>\n",
       "    <tr>\n",
       "      <th>1</th>\n",
       "      <td>PID00542</td>\n",
       "      <td>50</td>\n",
       "      <td>male</td>\n",
       "      <td>2015/7/4</td>\n",
       "      <td>Administrative</td>\n",
       "      <td>2015/8/3</td>\n",
       "      <td>8.75</td>\n",
       "      <td>30.0</td>\n",
       "      <td>HS Graduate</td>\n",
       "      <td>Q3-2015</td>\n",
       "    </tr>\n",
       "    <tr>\n",
       "      <th>2</th>\n",
       "      <td>PID03451</td>\n",
       "      <td>50</td>\n",
       "      <td>male</td>\n",
       "      <td>2014/8/29</td>\n",
       "      <td>Administrative</td>\n",
       "      <td>2015/9/8</td>\n",
       "      <td>16.00</td>\n",
       "      <td>35.0</td>\n",
       "      <td>HS Graduate</td>\n",
       "      <td>Q3-2015</td>\n",
       "    </tr>\n",
       "    <tr>\n",
       "      <th>3</th>\n",
       "      <td>PID00543</td>\n",
       "      <td>50</td>\n",
       "      <td>male</td>\n",
       "      <td>2015/4/25</td>\n",
       "      <td>Administrative</td>\n",
       "      <td>2015/8/3</td>\n",
       "      <td>8.75</td>\n",
       "      <td>30.0</td>\n",
       "      <td>HS Graduate</td>\n",
       "      <td>Q3-2015</td>\n",
       "    </tr>\n",
       "    <tr>\n",
       "      <th>4</th>\n",
       "      <td>PID11335</td>\n",
       "      <td>40</td>\n",
       "      <td>male</td>\n",
       "      <td>2015/3/19</td>\n",
       "      <td>Administrative</td>\n",
       "      <td>2015/8/17</td>\n",
       "      <td>13.92</td>\n",
       "      <td>40.0</td>\n",
       "      <td>HS Graduate</td>\n",
       "      <td>Q3-2015</td>\n",
       "    </tr>\n",
       "  </tbody>\n",
       "</table>\n",
       "</div>"
      ],
      "text/plain": [
       "        PID  AGE GENDER PROGRAM START DATE        POSITION JOB START DATE  \\\n",
       "0  PID02994   29   male          2015/6/24  Administrative       2015/9/3   \n",
       "1  PID00542   50   male           2015/7/4  Administrative       2015/8/3   \n",
       "2  PID03451   50   male          2014/8/29  Administrative       2015/9/8   \n",
       "3  PID00543   50   male          2015/4/25  Administrative       2015/8/3   \n",
       "4  PID11335   40   male          2015/3/19  Administrative      2015/8/17   \n",
       "\n",
       "    WAGE  HOURS PER WEEK    EDUCATION Quarter and Year  \n",
       "0  15.60            30.0  HS Graduate          Q3-2015  \n",
       "1   8.75            30.0  HS Graduate          Q3-2015  \n",
       "2  16.00            35.0  HS Graduate          Q3-2015  \n",
       "3   8.75            30.0  HS Graduate          Q3-2015  \n",
       "4  13.92            40.0  HS Graduate          Q3-2015  "
      ]
     },
     "execution_count": 5,
     "metadata": {},
     "output_type": "execute_result"
    }
   ],
   "source": [
    "BA.drop([\"ZIP CODE\",\"COUNTY\",\"JOB TERMINATION DATE\"],axis=1,inplace=True)\n",
    "BA.head()\n",
    "# There are too many Zip Code and County, so we just dropped \n",
    "# Because it may cause overfitted problem as we reviewed and assumed there are too many different values for each columns. \n",
    "# We will not analyze job termination date."
   ]
  },
  {
   "cell_type": "code",
   "execution_count": 6,
   "metadata": {},
   "outputs": [
    {
     "data": {
      "text/html": [
       "<div>\n",
       "<style scoped>\n",
       "    .dataframe tbody tr th:only-of-type {\n",
       "        vertical-align: middle;\n",
       "    }\n",
       "\n",
       "    .dataframe tbody tr th {\n",
       "        vertical-align: top;\n",
       "    }\n",
       "\n",
       "    .dataframe thead th {\n",
       "        text-align: right;\n",
       "    }\n",
       "</style>\n",
       "<table border=\"1\" class=\"dataframe\">\n",
       "  <thead>\n",
       "    <tr style=\"text-align: right;\">\n",
       "      <th></th>\n",
       "      <th>PID</th>\n",
       "      <th>AGE</th>\n",
       "      <th>GENDER</th>\n",
       "      <th>PROGRAM START DATE</th>\n",
       "      <th>POSITION</th>\n",
       "      <th>JOB START DATE</th>\n",
       "      <th>WAGE</th>\n",
       "      <th>HOURS PER WEEK</th>\n",
       "      <th>EDUCATION</th>\n",
       "      <th>Quarter and Year</th>\n",
       "    </tr>\n",
       "  </thead>\n",
       "  <tbody>\n",
       "    <tr>\n",
       "      <th>0</th>\n",
       "      <td>PID02994</td>\n",
       "      <td>29</td>\n",
       "      <td>male</td>\n",
       "      <td>2015/6/24</td>\n",
       "      <td>Administrative</td>\n",
       "      <td>2015/9/3</td>\n",
       "      <td>15.60</td>\n",
       "      <td>30.0</td>\n",
       "      <td>HS Graduate</td>\n",
       "      <td>Q3-2015</td>\n",
       "    </tr>\n",
       "    <tr>\n",
       "      <th>1</th>\n",
       "      <td>PID00542</td>\n",
       "      <td>50</td>\n",
       "      <td>male</td>\n",
       "      <td>2015/7/4</td>\n",
       "      <td>Administrative</td>\n",
       "      <td>2015/8/3</td>\n",
       "      <td>8.75</td>\n",
       "      <td>30.0</td>\n",
       "      <td>HS Graduate</td>\n",
       "      <td>Q3-2015</td>\n",
       "    </tr>\n",
       "    <tr>\n",
       "      <th>2</th>\n",
       "      <td>PID03451</td>\n",
       "      <td>50</td>\n",
       "      <td>male</td>\n",
       "      <td>2014/8/29</td>\n",
       "      <td>Administrative</td>\n",
       "      <td>2015/9/8</td>\n",
       "      <td>16.00</td>\n",
       "      <td>35.0</td>\n",
       "      <td>HS Graduate</td>\n",
       "      <td>Q3-2015</td>\n",
       "    </tr>\n",
       "    <tr>\n",
       "      <th>3</th>\n",
       "      <td>PID00543</td>\n",
       "      <td>50</td>\n",
       "      <td>male</td>\n",
       "      <td>2015/4/25</td>\n",
       "      <td>Administrative</td>\n",
       "      <td>2015/8/3</td>\n",
       "      <td>8.75</td>\n",
       "      <td>30.0</td>\n",
       "      <td>HS Graduate</td>\n",
       "      <td>Q3-2015</td>\n",
       "    </tr>\n",
       "    <tr>\n",
       "      <th>4</th>\n",
       "      <td>PID11335</td>\n",
       "      <td>40</td>\n",
       "      <td>male</td>\n",
       "      <td>2015/3/19</td>\n",
       "      <td>Administrative</td>\n",
       "      <td>2015/8/17</td>\n",
       "      <td>13.92</td>\n",
       "      <td>40.0</td>\n",
       "      <td>HS Graduate</td>\n",
       "      <td>Q3-2015</td>\n",
       "    </tr>\n",
       "  </tbody>\n",
       "</table>\n",
       "</div>"
      ],
      "text/plain": [
       "        PID  AGE GENDER PROGRAM START DATE        POSITION JOB START DATE  \\\n",
       "0  PID02994   29   male          2015/6/24  Administrative       2015/9/3   \n",
       "1  PID00542   50   male           2015/7/4  Administrative       2015/8/3   \n",
       "2  PID03451   50   male          2014/8/29  Administrative       2015/9/8   \n",
       "3  PID00543   50   male          2015/4/25  Administrative       2015/8/3   \n",
       "4  PID11335   40   male          2015/3/19  Administrative      2015/8/17   \n",
       "\n",
       "    WAGE  HOURS PER WEEK    EDUCATION Quarter and Year  \n",
       "0  15.60            30.0  HS Graduate          Q3-2015  \n",
       "1   8.75            30.0  HS Graduate          Q3-2015  \n",
       "2  16.00            35.0  HS Graduate          Q3-2015  \n",
       "3   8.75            30.0  HS Graduate          Q3-2015  \n",
       "4  13.92            40.0  HS Graduate          Q3-2015  "
      ]
     },
     "execution_count": 6,
     "metadata": {},
     "output_type": "execute_result"
    }
   ],
   "source": [
    "BA.dropna(subset=[\"AGE\",\"GENDER\",\"POSITION\",\"EDUCATION\",\"WAGE\",\"HOURS PER WEEK\"],inplace=True)\n",
    "BA.head()"
   ]
  },
  {
   "cell_type": "code",
   "execution_count": 7,
   "metadata": {},
   "outputs": [],
   "source": [
    "# Convert the data type of Date\n",
    "BA[\"JOB_START_DATE\"] = pd.to_datetime(BA[\"JOB START DATE\"])\n",
    "BA[\"PROGRAM START DATE\"] = pd.to_datetime(BA[\"PROGRAM START DATE\"])"
   ]
  },
  {
   "cell_type": "code",
   "execution_count": 8,
   "metadata": {},
   "outputs": [
    {
     "data": {
      "text/html": [
       "<div>\n",
       "<style scoped>\n",
       "    .dataframe tbody tr th:only-of-type {\n",
       "        vertical-align: middle;\n",
       "    }\n",
       "\n",
       "    .dataframe tbody tr th {\n",
       "        vertical-align: top;\n",
       "    }\n",
       "\n",
       "    .dataframe thead th {\n",
       "        text-align: right;\n",
       "    }\n",
       "</style>\n",
       "<table border=\"1\" class=\"dataframe\">\n",
       "  <thead>\n",
       "    <tr style=\"text-align: right;\">\n",
       "      <th></th>\n",
       "      <th>PID</th>\n",
       "      <th>AGE</th>\n",
       "      <th>GENDER</th>\n",
       "      <th>PROGRAM START DATE</th>\n",
       "      <th>POSITION</th>\n",
       "      <th>JOB START DATE</th>\n",
       "      <th>WAGE</th>\n",
       "      <th>HOURS PER WEEK</th>\n",
       "      <th>EDUCATION</th>\n",
       "      <th>Quarter and Year</th>\n",
       "      <th>JOB_START_DATE</th>\n",
       "      <th>DayDiff</th>\n",
       "    </tr>\n",
       "  </thead>\n",
       "  <tbody>\n",
       "    <tr>\n",
       "      <th>0</th>\n",
       "      <td>PID02994</td>\n",
       "      <td>29</td>\n",
       "      <td>male</td>\n",
       "      <td>2015-06-24</td>\n",
       "      <td>Administrative</td>\n",
       "      <td>2015/9/3</td>\n",
       "      <td>15.60</td>\n",
       "      <td>30.0</td>\n",
       "      <td>HS Graduate</td>\n",
       "      <td>Q3-2015</td>\n",
       "      <td>2015-09-03</td>\n",
       "      <td>71 days</td>\n",
       "    </tr>\n",
       "    <tr>\n",
       "      <th>1</th>\n",
       "      <td>PID00542</td>\n",
       "      <td>50</td>\n",
       "      <td>male</td>\n",
       "      <td>2015-07-04</td>\n",
       "      <td>Administrative</td>\n",
       "      <td>2015/8/3</td>\n",
       "      <td>8.75</td>\n",
       "      <td>30.0</td>\n",
       "      <td>HS Graduate</td>\n",
       "      <td>Q3-2015</td>\n",
       "      <td>2015-08-03</td>\n",
       "      <td>30 days</td>\n",
       "    </tr>\n",
       "    <tr>\n",
       "      <th>2</th>\n",
       "      <td>PID03451</td>\n",
       "      <td>50</td>\n",
       "      <td>male</td>\n",
       "      <td>2014-08-29</td>\n",
       "      <td>Administrative</td>\n",
       "      <td>2015/9/8</td>\n",
       "      <td>16.00</td>\n",
       "      <td>35.0</td>\n",
       "      <td>HS Graduate</td>\n",
       "      <td>Q3-2015</td>\n",
       "      <td>2015-09-08</td>\n",
       "      <td>375 days</td>\n",
       "    </tr>\n",
       "    <tr>\n",
       "      <th>3</th>\n",
       "      <td>PID00543</td>\n",
       "      <td>50</td>\n",
       "      <td>male</td>\n",
       "      <td>2015-04-25</td>\n",
       "      <td>Administrative</td>\n",
       "      <td>2015/8/3</td>\n",
       "      <td>8.75</td>\n",
       "      <td>30.0</td>\n",
       "      <td>HS Graduate</td>\n",
       "      <td>Q3-2015</td>\n",
       "      <td>2015-08-03</td>\n",
       "      <td>100 days</td>\n",
       "    </tr>\n",
       "    <tr>\n",
       "      <th>4</th>\n",
       "      <td>PID11335</td>\n",
       "      <td>40</td>\n",
       "      <td>male</td>\n",
       "      <td>2015-03-19</td>\n",
       "      <td>Administrative</td>\n",
       "      <td>2015/8/17</td>\n",
       "      <td>13.92</td>\n",
       "      <td>40.0</td>\n",
       "      <td>HS Graduate</td>\n",
       "      <td>Q3-2015</td>\n",
       "      <td>2015-08-17</td>\n",
       "      <td>151 days</td>\n",
       "    </tr>\n",
       "  </tbody>\n",
       "</table>\n",
       "</div>"
      ],
      "text/plain": [
       "        PID  AGE GENDER PROGRAM START DATE        POSITION JOB START DATE  \\\n",
       "0  PID02994   29   male         2015-06-24  Administrative       2015/9/3   \n",
       "1  PID00542   50   male         2015-07-04  Administrative       2015/8/3   \n",
       "2  PID03451   50   male         2014-08-29  Administrative       2015/9/8   \n",
       "3  PID00543   50   male         2015-04-25  Administrative       2015/8/3   \n",
       "4  PID11335   40   male         2015-03-19  Administrative      2015/8/17   \n",
       "\n",
       "    WAGE  HOURS PER WEEK    EDUCATION Quarter and Year JOB_START_DATE  DayDiff  \n",
       "0  15.60            30.0  HS Graduate          Q3-2015     2015-09-03  71 days  \n",
       "1   8.75            30.0  HS Graduate          Q3-2015     2015-08-03  30 days  \n",
       "2  16.00            35.0  HS Graduate          Q3-2015     2015-09-08 375 days  \n",
       "3   8.75            30.0  HS Graduate          Q3-2015     2015-08-03 100 days  \n",
       "4  13.92            40.0  HS Graduate          Q3-2015     2015-08-17 151 days  "
      ]
     },
     "execution_count": 8,
     "metadata": {},
     "output_type": "execute_result"
    }
   ],
   "source": [
    "BA[\"DayDiff\"] = BA[\"JOB_START_DATE\"] - BA[\"PROGRAM START DATE\"]\n",
    "BA.head()"
   ]
  },
  {
   "cell_type": "code",
   "execution_count": 9,
   "metadata": {},
   "outputs": [
    {
     "data": {
      "text/html": [
       "<div>\n",
       "<style scoped>\n",
       "    .dataframe tbody tr th:only-of-type {\n",
       "        vertical-align: middle;\n",
       "    }\n",
       "\n",
       "    .dataframe tbody tr th {\n",
       "        vertical-align: top;\n",
       "    }\n",
       "\n",
       "    .dataframe thead th {\n",
       "        text-align: right;\n",
       "    }\n",
       "</style>\n",
       "<table border=\"1\" class=\"dataframe\">\n",
       "  <thead>\n",
       "    <tr style=\"text-align: right;\">\n",
       "      <th></th>\n",
       "      <th>PID</th>\n",
       "      <th>AGE</th>\n",
       "      <th>GENDER</th>\n",
       "      <th>PROGRAM START DATE</th>\n",
       "      <th>POSITION</th>\n",
       "      <th>JOB START DATE</th>\n",
       "      <th>WAGE</th>\n",
       "      <th>HOURS PER WEEK</th>\n",
       "      <th>EDUCATION</th>\n",
       "      <th>Quarter and Year</th>\n",
       "      <th>JOB_START_DATE</th>\n",
       "      <th>DayDiff</th>\n",
       "    </tr>\n",
       "  </thead>\n",
       "  <tbody>\n",
       "    <tr>\n",
       "      <th>0</th>\n",
       "      <td>PID02994</td>\n",
       "      <td>29</td>\n",
       "      <td>male</td>\n",
       "      <td>2015-06-24</td>\n",
       "      <td>Administrative</td>\n",
       "      <td>2015/9/3</td>\n",
       "      <td>15.60</td>\n",
       "      <td>30.0</td>\n",
       "      <td>HS Graduate</td>\n",
       "      <td>Q3-2015</td>\n",
       "      <td>2015-09-03</td>\n",
       "      <td>71</td>\n",
       "    </tr>\n",
       "    <tr>\n",
       "      <th>1</th>\n",
       "      <td>PID00542</td>\n",
       "      <td>50</td>\n",
       "      <td>male</td>\n",
       "      <td>2015-07-04</td>\n",
       "      <td>Administrative</td>\n",
       "      <td>2015/8/3</td>\n",
       "      <td>8.75</td>\n",
       "      <td>30.0</td>\n",
       "      <td>HS Graduate</td>\n",
       "      <td>Q3-2015</td>\n",
       "      <td>2015-08-03</td>\n",
       "      <td>30</td>\n",
       "    </tr>\n",
       "    <tr>\n",
       "      <th>2</th>\n",
       "      <td>PID03451</td>\n",
       "      <td>50</td>\n",
       "      <td>male</td>\n",
       "      <td>2014-08-29</td>\n",
       "      <td>Administrative</td>\n",
       "      <td>2015/9/8</td>\n",
       "      <td>16.00</td>\n",
       "      <td>35.0</td>\n",
       "      <td>HS Graduate</td>\n",
       "      <td>Q3-2015</td>\n",
       "      <td>2015-09-08</td>\n",
       "      <td>375</td>\n",
       "    </tr>\n",
       "    <tr>\n",
       "      <th>3</th>\n",
       "      <td>PID00543</td>\n",
       "      <td>50</td>\n",
       "      <td>male</td>\n",
       "      <td>2015-04-25</td>\n",
       "      <td>Administrative</td>\n",
       "      <td>2015/8/3</td>\n",
       "      <td>8.75</td>\n",
       "      <td>30.0</td>\n",
       "      <td>HS Graduate</td>\n",
       "      <td>Q3-2015</td>\n",
       "      <td>2015-08-03</td>\n",
       "      <td>100</td>\n",
       "    </tr>\n",
       "    <tr>\n",
       "      <th>4</th>\n",
       "      <td>PID11335</td>\n",
       "      <td>40</td>\n",
       "      <td>male</td>\n",
       "      <td>2015-03-19</td>\n",
       "      <td>Administrative</td>\n",
       "      <td>2015/8/17</td>\n",
       "      <td>13.92</td>\n",
       "      <td>40.0</td>\n",
       "      <td>HS Graduate</td>\n",
       "      <td>Q3-2015</td>\n",
       "      <td>2015-08-17</td>\n",
       "      <td>151</td>\n",
       "    </tr>\n",
       "  </tbody>\n",
       "</table>\n",
       "</div>"
      ],
      "text/plain": [
       "        PID  AGE GENDER PROGRAM START DATE        POSITION JOB START DATE  \\\n",
       "0  PID02994   29   male         2015-06-24  Administrative       2015/9/3   \n",
       "1  PID00542   50   male         2015-07-04  Administrative       2015/8/3   \n",
       "2  PID03451   50   male         2014-08-29  Administrative       2015/9/8   \n",
       "3  PID00543   50   male         2015-04-25  Administrative       2015/8/3   \n",
       "4  PID11335   40   male         2015-03-19  Administrative      2015/8/17   \n",
       "\n",
       "    WAGE  HOURS PER WEEK    EDUCATION Quarter and Year JOB_START_DATE  DayDiff  \n",
       "0  15.60            30.0  HS Graduate          Q3-2015     2015-09-03       71  \n",
       "1   8.75            30.0  HS Graduate          Q3-2015     2015-08-03       30  \n",
       "2  16.00            35.0  HS Graduate          Q3-2015     2015-09-08      375  \n",
       "3   8.75            30.0  HS Graduate          Q3-2015     2015-08-03      100  \n",
       "4  13.92            40.0  HS Graduate          Q3-2015     2015-08-17      151  "
      ]
     },
     "execution_count": 9,
     "metadata": {},
     "output_type": "execute_result"
    }
   ],
   "source": [
    "BA[\"DayDiff\"] = BA['DayDiff'].dt.days\n",
    "BA.head()\n",
    "# DayDiff is how many days for candidates to get a job after submitting application."
   ]
  },
  {
   "cell_type": "code",
   "execution_count": 10,
   "metadata": {},
   "outputs": [
    {
     "data": {
      "text/plain": [
       "PID                           object\n",
       "AGE                            int64\n",
       "GENDER                        object\n",
       "PROGRAM START DATE    datetime64[ns]\n",
       "POSITION                      object\n",
       "JOB START DATE                object\n",
       "WAGE                         float64\n",
       "HOURS PER WEEK               float64\n",
       "EDUCATION                     object\n",
       "Quarter and Year              object\n",
       "JOB_START_DATE        datetime64[ns]\n",
       "DayDiff                        int64\n",
       "dtype: object"
      ]
     },
     "execution_count": 10,
     "metadata": {},
     "output_type": "execute_result"
    }
   ],
   "source": [
    "BA.dtypes"
   ]
  },
  {
   "cell_type": "markdown",
   "metadata": {},
   "source": [
    "# Data Filtering"
   ]
  },
  {
   "cell_type": "code",
   "execution_count": 11,
   "metadata": {},
   "outputs": [
    {
     "name": "stderr",
     "output_type": "stream",
     "text": [
      "D:\\Python NYU\\lib\\site-packages\\ipykernel_launcher.py:4: SettingWithCopyWarning: \n",
      "A value is trying to be set on a copy of a slice from a DataFrame.\n",
      "Try using .loc[row_indexer,col_indexer] = value instead\n",
      "\n",
      "See the caveats in the documentation: http://pandas.pydata.org/pandas-docs/stable/indexing.html#indexing-view-versus-copy\n",
      "  after removing the cwd from sys.path.\n"
     ]
    },
    {
     "data": {
      "text/html": [
       "<div>\n",
       "<style scoped>\n",
       "    .dataframe tbody tr th:only-of-type {\n",
       "        vertical-align: middle;\n",
       "    }\n",
       "\n",
       "    .dataframe tbody tr th {\n",
       "        vertical-align: top;\n",
       "    }\n",
       "\n",
       "    .dataframe thead th {\n",
       "        text-align: right;\n",
       "    }\n",
       "</style>\n",
       "<table border=\"1\" class=\"dataframe\">\n",
       "  <thead>\n",
       "    <tr style=\"text-align: right;\">\n",
       "      <th></th>\n",
       "      <th>PID</th>\n",
       "      <th>AGE</th>\n",
       "      <th>GENDER</th>\n",
       "      <th>PROGRAM START DATE</th>\n",
       "      <th>POSITION</th>\n",
       "      <th>JOB START DATE</th>\n",
       "      <th>WAGE</th>\n",
       "      <th>HOURS PER WEEK</th>\n",
       "      <th>EDUCATION</th>\n",
       "      <th>Quarter and Year</th>\n",
       "      <th>JOB_START_DATE</th>\n",
       "      <th>DayDiff</th>\n",
       "      <th>TotalWages</th>\n",
       "    </tr>\n",
       "  </thead>\n",
       "  <tbody>\n",
       "    <tr>\n",
       "      <th>4</th>\n",
       "      <td>PID11335</td>\n",
       "      <td>40</td>\n",
       "      <td>male</td>\n",
       "      <td>2015-03-19</td>\n",
       "      <td>Administrative</td>\n",
       "      <td>2015/8/17</td>\n",
       "      <td>13.92</td>\n",
       "      <td>40.0</td>\n",
       "      <td>HS Graduate</td>\n",
       "      <td>Q3-2015</td>\n",
       "      <td>2015-08-17</td>\n",
       "      <td>151</td>\n",
       "      <td>556.8</td>\n",
       "    </tr>\n",
       "    <tr>\n",
       "      <th>9</th>\n",
       "      <td>PID01003</td>\n",
       "      <td>31</td>\n",
       "      <td>female</td>\n",
       "      <td>2014-01-08</td>\n",
       "      <td>Administrative</td>\n",
       "      <td>2014/5/8</td>\n",
       "      <td>12.00</td>\n",
       "      <td>40.0</td>\n",
       "      <td>HS Graduate</td>\n",
       "      <td>Q2-2014</td>\n",
       "      <td>2014-05-08</td>\n",
       "      <td>120</td>\n",
       "      <td>480.0</td>\n",
       "    </tr>\n",
       "    <tr>\n",
       "      <th>11</th>\n",
       "      <td>PID01004</td>\n",
       "      <td>31</td>\n",
       "      <td>female</td>\n",
       "      <td>2014-03-23</td>\n",
       "      <td>Administrative</td>\n",
       "      <td>2014/5/8</td>\n",
       "      <td>12.00</td>\n",
       "      <td>40.0</td>\n",
       "      <td>HS Graduate</td>\n",
       "      <td>Q2-2014</td>\n",
       "      <td>2014-05-08</td>\n",
       "      <td>46</td>\n",
       "      <td>480.0</td>\n",
       "    </tr>\n",
       "    <tr>\n",
       "      <th>19</th>\n",
       "      <td>PID19785</td>\n",
       "      <td>26</td>\n",
       "      <td>female</td>\n",
       "      <td>2015-06-15</td>\n",
       "      <td>Administrative</td>\n",
       "      <td>2015/7/17</td>\n",
       "      <td>10.00</td>\n",
       "      <td>40.0</td>\n",
       "      <td>HS Graduate</td>\n",
       "      <td>Q3-2015</td>\n",
       "      <td>2015-07-17</td>\n",
       "      <td>32</td>\n",
       "      <td>400.0</td>\n",
       "    </tr>\n",
       "    <tr>\n",
       "      <th>21</th>\n",
       "      <td>PID03444</td>\n",
       "      <td>37</td>\n",
       "      <td>female</td>\n",
       "      <td>2014-05-17</td>\n",
       "      <td>Administrative</td>\n",
       "      <td>2014/10/20</td>\n",
       "      <td>13.00</td>\n",
       "      <td>40.0</td>\n",
       "      <td>HS Graduate</td>\n",
       "      <td>Q4-2014</td>\n",
       "      <td>2014-10-20</td>\n",
       "      <td>156</td>\n",
       "      <td>520.0</td>\n",
       "    </tr>\n",
       "  </tbody>\n",
       "</table>\n",
       "</div>"
      ],
      "text/plain": [
       "         PID  AGE  GENDER PROGRAM START DATE        POSITION JOB START DATE  \\\n",
       "4   PID11335   40    male         2015-03-19  Administrative      2015/8/17   \n",
       "9   PID01003   31  female         2014-01-08  Administrative       2014/5/8   \n",
       "11  PID01004   31  female         2014-03-23  Administrative       2014/5/8   \n",
       "19  PID19785   26  female         2015-06-15  Administrative      2015/7/17   \n",
       "21  PID03444   37  female         2014-05-17  Administrative     2014/10/20   \n",
       "\n",
       "     WAGE  HOURS PER WEEK    EDUCATION Quarter and Year JOB_START_DATE  \\\n",
       "4   13.92            40.0  HS Graduate          Q3-2015     2015-08-17   \n",
       "9   12.00            40.0  HS Graduate          Q2-2014     2014-05-08   \n",
       "11  12.00            40.0  HS Graduate          Q2-2014     2014-05-08   \n",
       "19  10.00            40.0  HS Graduate          Q3-2015     2015-07-17   \n",
       "21  13.00            40.0  HS Graduate          Q4-2014     2014-10-20   \n",
       "\n",
       "    DayDiff  TotalWages  \n",
       "4       151       556.8  \n",
       "9       120       480.0  \n",
       "11       46       480.0  \n",
       "19       32       400.0  \n",
       "21      156       520.0  "
      ]
     },
     "execution_count": 11,
     "metadata": {},
     "output_type": "execute_result"
    }
   ],
   "source": [
    "# According to hours per week, we divided dataframe into full-time dataframe and part-time dataframe.\n",
    "# Total wages is calculated and added.  \n",
    "FT = BA.loc[BA[\"HOURS PER WEEK\"]>=40.0,:]\n",
    "FT[\"TotalWages\"] = FT[\"HOURS PER WEEK\"] * FT[\"WAGE\"]\n",
    "FT.head()"
   ]
  },
  {
   "cell_type": "code",
   "execution_count": 12,
   "metadata": {},
   "outputs": [
    {
     "name": "stderr",
     "output_type": "stream",
     "text": [
      "D:\\Python NYU\\lib\\site-packages\\ipykernel_launcher.py:4: SettingWithCopyWarning: \n",
      "A value is trying to be set on a copy of a slice from a DataFrame.\n",
      "Try using .loc[row_indexer,col_indexer] = value instead\n",
      "\n",
      "See the caveats in the documentation: http://pandas.pydata.org/pandas-docs/stable/indexing.html#indexing-view-versus-copy\n",
      "  after removing the cwd from sys.path.\n"
     ]
    },
    {
     "data": {
      "text/html": [
       "<div>\n",
       "<style scoped>\n",
       "    .dataframe tbody tr th:only-of-type {\n",
       "        vertical-align: middle;\n",
       "    }\n",
       "\n",
       "    .dataframe tbody tr th {\n",
       "        vertical-align: top;\n",
       "    }\n",
       "\n",
       "    .dataframe thead th {\n",
       "        text-align: right;\n",
       "    }\n",
       "</style>\n",
       "<table border=\"1\" class=\"dataframe\">\n",
       "  <thead>\n",
       "    <tr style=\"text-align: right;\">\n",
       "      <th></th>\n",
       "      <th>PID</th>\n",
       "      <th>AGE</th>\n",
       "      <th>GENDER</th>\n",
       "      <th>PROGRAM START DATE</th>\n",
       "      <th>POSITION</th>\n",
       "      <th>JOB START DATE</th>\n",
       "      <th>WAGE</th>\n",
       "      <th>HOURS PER WEEK</th>\n",
       "      <th>EDUCATION</th>\n",
       "      <th>Quarter and Year</th>\n",
       "      <th>JOB_START_DATE</th>\n",
       "      <th>DayDiff</th>\n",
       "      <th>TotalWages</th>\n",
       "    </tr>\n",
       "  </thead>\n",
       "  <tbody>\n",
       "    <tr>\n",
       "      <th>0</th>\n",
       "      <td>PID02994</td>\n",
       "      <td>29</td>\n",
       "      <td>male</td>\n",
       "      <td>2015-06-24</td>\n",
       "      <td>Administrative</td>\n",
       "      <td>2015/9/3</td>\n",
       "      <td>15.60</td>\n",
       "      <td>30.0</td>\n",
       "      <td>HS Graduate</td>\n",
       "      <td>Q3-2015</td>\n",
       "      <td>2015-09-03</td>\n",
       "      <td>71</td>\n",
       "      <td>468.0</td>\n",
       "    </tr>\n",
       "    <tr>\n",
       "      <th>1</th>\n",
       "      <td>PID00542</td>\n",
       "      <td>50</td>\n",
       "      <td>male</td>\n",
       "      <td>2015-07-04</td>\n",
       "      <td>Administrative</td>\n",
       "      <td>2015/8/3</td>\n",
       "      <td>8.75</td>\n",
       "      <td>30.0</td>\n",
       "      <td>HS Graduate</td>\n",
       "      <td>Q3-2015</td>\n",
       "      <td>2015-08-03</td>\n",
       "      <td>30</td>\n",
       "      <td>262.5</td>\n",
       "    </tr>\n",
       "    <tr>\n",
       "      <th>2</th>\n",
       "      <td>PID03451</td>\n",
       "      <td>50</td>\n",
       "      <td>male</td>\n",
       "      <td>2014-08-29</td>\n",
       "      <td>Administrative</td>\n",
       "      <td>2015/9/8</td>\n",
       "      <td>16.00</td>\n",
       "      <td>35.0</td>\n",
       "      <td>HS Graduate</td>\n",
       "      <td>Q3-2015</td>\n",
       "      <td>2015-09-08</td>\n",
       "      <td>375</td>\n",
       "      <td>560.0</td>\n",
       "    </tr>\n",
       "    <tr>\n",
       "      <th>3</th>\n",
       "      <td>PID00543</td>\n",
       "      <td>50</td>\n",
       "      <td>male</td>\n",
       "      <td>2015-04-25</td>\n",
       "      <td>Administrative</td>\n",
       "      <td>2015/8/3</td>\n",
       "      <td>8.75</td>\n",
       "      <td>30.0</td>\n",
       "      <td>HS Graduate</td>\n",
       "      <td>Q3-2015</td>\n",
       "      <td>2015-08-03</td>\n",
       "      <td>100</td>\n",
       "      <td>262.5</td>\n",
       "    </tr>\n",
       "    <tr>\n",
       "      <th>5</th>\n",
       "      <td>PID05307</td>\n",
       "      <td>26</td>\n",
       "      <td>male</td>\n",
       "      <td>2015-04-05</td>\n",
       "      <td>Administrative</td>\n",
       "      <td>2015/9/16</td>\n",
       "      <td>16.50</td>\n",
       "      <td>35.0</td>\n",
       "      <td>HS Graduate</td>\n",
       "      <td>Q3-2015</td>\n",
       "      <td>2015-09-16</td>\n",
       "      <td>164</td>\n",
       "      <td>577.5</td>\n",
       "    </tr>\n",
       "  </tbody>\n",
       "</table>\n",
       "</div>"
      ],
      "text/plain": [
       "        PID  AGE GENDER PROGRAM START DATE        POSITION JOB START DATE  \\\n",
       "0  PID02994   29   male         2015-06-24  Administrative       2015/9/3   \n",
       "1  PID00542   50   male         2015-07-04  Administrative       2015/8/3   \n",
       "2  PID03451   50   male         2014-08-29  Administrative       2015/9/8   \n",
       "3  PID00543   50   male         2015-04-25  Administrative       2015/8/3   \n",
       "5  PID05307   26   male         2015-04-05  Administrative      2015/9/16   \n",
       "\n",
       "    WAGE  HOURS PER WEEK    EDUCATION Quarter and Year JOB_START_DATE  \\\n",
       "0  15.60            30.0  HS Graduate          Q3-2015     2015-09-03   \n",
       "1   8.75            30.0  HS Graduate          Q3-2015     2015-08-03   \n",
       "2  16.00            35.0  HS Graduate          Q3-2015     2015-09-08   \n",
       "3   8.75            30.0  HS Graduate          Q3-2015     2015-08-03   \n",
       "5  16.50            35.0  HS Graduate          Q3-2015     2015-09-16   \n",
       "\n",
       "   DayDiff  TotalWages  \n",
       "0       71       468.0  \n",
       "1       30       262.5  \n",
       "2      375       560.0  \n",
       "3      100       262.5  \n",
       "5      164       577.5  "
      ]
     },
     "execution_count": 12,
     "metadata": {},
     "output_type": "execute_result"
    }
   ],
   "source": [
    "# According to hours per week, we divided dataframe into full-time dataframe and part-time dataframe.\n",
    "# Total wages is calculated and added.  \n",
    "PT = BA.loc[BA[\"HOURS PER WEEK\"]<40.0,:]\n",
    "PT[\"TotalWages\"] = PT[\"HOURS PER WEEK\"] * PT[\"WAGE\"]\n",
    "PT.head()"
   ]
  },
  {
   "cell_type": "markdown",
   "metadata": {},
   "source": [
    "# 1.Descriptive Data Mining"
   ]
  },
  {
   "cell_type": "markdown",
   "metadata": {},
   "source": [
    "## 1.1 Data Visualization"
   ]
  },
  {
   "cell_type": "markdown",
   "metadata": {},
   "source": [
    "#### Gender"
   ]
  },
  {
   "cell_type": "code",
   "execution_count": 13,
   "metadata": {},
   "outputs": [
    {
     "data": {
      "image/png": "[encoded data removed]",
      "text/plain": [
       "<Figure size 720x360 with 1 Axes>"
      ]
     },
     "metadata": {},
     "output_type": "display_data"
    }
   ],
   "source": [
    "explode = (0.1,0)  \n",
    "fig1, ax1 = plt.subplots(figsize=(10,5))\n",
    "ax1.pie(BA['GENDER'].value_counts(), explode=explode,labels=['Male','Female'], autopct='%1.1f%%',\n",
    "        shadow=True, startangle=90)\n",
    "ax1.axis('equal')  \n",
    "plt.tight_layout()\n",
    "plt.legend()\n",
    "plt.show()"
   ]
  },
  {
   "cell_type": "markdown",
   "metadata": {},
   "source": [
    "#### Age"
   ]
  },
  {
   "cell_type": "code",
   "execution_count": 14,
   "metadata": {},
   "outputs": [
    {
     "data": {
      "text/plain": [
       "<matplotlib.axes._subplots.AxesSubplot at 0x1f1cb10f5f8>"
      ]
     },
     "execution_count": 14,
     "metadata": {},
     "output_type": "execute_result"
    },
    {
     "data": {
      "image/png": "[encoded data removed]",
      "text/plain": [
       "<Figure size 1296x504 with 1 Axes>"
      ]
     },
     "metadata": {
      "needs_background": "light"
     },
     "output_type": "display_data"
    }
   ],
   "source": [
    "fig1, ax1 = plt.subplots(figsize=(18,7))\n",
    "sns.countplot(BA['AGE'],hue=BA['GENDER'])"
   ]
  },
  {
   "cell_type": "markdown",
   "metadata": {},
   "source": [
    "#### Position"
   ]
  },
  {
   "cell_type": "code",
   "execution_count": 15,
   "metadata": {},
   "outputs": [
    {
     "data": {
      "text/plain": [
       "<matplotlib.axes._subplots.AxesSubplot at 0x1f1cb2d0588>"
      ]
     },
     "execution_count": 15,
     "metadata": {},
     "output_type": "execute_result"
    },
    {
     "data": {
      "image/png": "[encoded data removed]",
      "text/plain": [
       "<Figure size 1080x360 with 1 Axes>"
      ]
     },
     "metadata": {
      "needs_background": "light"
     },
     "output_type": "display_data"
    }
   ],
   "source": [
    "BA['POSITION'].value_counts().plot.bar(figsize=(15,5))"
   ]
  },
  {
   "cell_type": "markdown",
   "metadata": {},
   "source": [
    "#### Education"
   ]
  },
  {
   "cell_type": "code",
   "execution_count": 16,
   "metadata": {},
   "outputs": [
    {
     "data": {
      "text/plain": [
       "<matplotlib.axes._subplots.AxesSubplot at 0x1f1cb399e10>"
      ]
     },
     "execution_count": 16,
     "metadata": {},
     "output_type": "execute_result"
    },
    {
     "data": {
      "image/png": "[encoded data removed]",
      "text/plain": [
       "<Figure size 1080x360 with 1 Axes>"
      ]
     },
     "metadata": {
      "needs_background": "light"
     },
     "output_type": "display_data"
    }
   ],
   "source": [
    "BA['EDUCATION'].value_counts().plot.bar(figsize=(15,5))"
   ]
  },
  {
   "cell_type": "markdown",
   "metadata": {},
   "source": [
    "We can use below code to combine or groupby any variables to observe"
   ]
  },
  {
   "cell_type": "code",
   "execution_count": 17,
   "metadata": {},
   "outputs": [
    {
     "data": {
      "text/plain": [
       "<matplotlib.axes._subplots.AxesSubplot at 0x1f1cb411390>"
      ]
     },
     "execution_count": 17,
     "metadata": {},
     "output_type": "execute_result"
    },
    {
     "data": {
      "image/png": "[encoded data removed]",
      "text/plain": [
       "<Figure size 1440x288 with 1 Axes>"
      ]
     },
     "metadata": {
      "needs_background": "light"
     },
     "output_type": "display_data"
    }
   ],
   "source": [
    "FT.pivot_table(values='TotalWages',index='AGE',columns='GENDER').plot.bar(figsize=(20,4))\n",
    "#Full-time Total Wages per week"
   ]
  },
  {
   "cell_type": "code",
   "execution_count": 18,
   "metadata": {},
   "outputs": [
    {
     "data": {
      "text/plain": [
       "<matplotlib.axes._subplots.AxesSubplot at 0x1f1cb3f1128>"
      ]
     },
     "execution_count": 18,
     "metadata": {},
     "output_type": "execute_result"
    },
    {
     "data": {
      "image/png": "[encoded data removed]",
      "text/plain": [
       "<Figure size 1440x288 with 1 Axes>"
      ]
     },
     "metadata": {
      "needs_background": "light"
     },
     "output_type": "display_data"
    }
   ],
   "source": [
    "PT.pivot_table(values='TotalWages',index='AGE',columns='GENDER').plot.bar(figsize=(20,4))\n",
    "# Part-time Total Wages per week"
   ]
  },
  {
   "cell_type": "code",
   "execution_count": 19,
   "metadata": {},
   "outputs": [
    {
     "data": {
      "text/plain": [
       "<seaborn.axisgrid.PairGrid at 0x1f1c99fd710>"
      ]
     },
     "execution_count": 19,
     "metadata": {},
     "output_type": "execute_result"
    },
    {
     "data": {
      "image/png": "[encoded data removed]",
      "text/plain": [
       "<Figure size 720x720 with 20 Axes>"
      ]
     },
     "metadata": {
      "needs_background": "light"
     },
     "output_type": "display_data"
    }
   ],
   "source": [
    "sns.pairplot(BA) \n",
    "# We can see the correltation between each variable. \n",
    "# It does not make sense as most of them are categorical data"
   ]
  },
  {
   "cell_type": "markdown",
   "metadata": {},
   "source": [
    "## 1.2 K-Means"
   ]
  },
  {
   "cell_type": "code",
   "execution_count": 20,
   "metadata": {},
   "outputs": [],
   "source": [
    "from sklearn.cluster import KMeans"
   ]
  },
  {
   "cell_type": "code",
   "execution_count": 21,
   "metadata": {},
   "outputs": [
    {
     "data": {
      "text/plain": [
       "KMeans(algorithm='auto', copy_x=True, init='k-means++', max_iter=300,\n",
       "    n_clusters=3, n_init=10, n_jobs=None, precompute_distances='auto',\n",
       "    random_state=0, tol=0.0001, verbose=0)"
      ]
     },
     "execution_count": 21,
     "metadata": {},
     "output_type": "execute_result"
    }
   ],
   "source": [
    "X = PT[[\"WAGE\",\"HOURS PER WEEK\"]]\n",
    "kmeans = KMeans(n_clusters=3, random_state=0).fit(X)\n",
    "kmeans"
   ]
  },
  {
   "cell_type": "code",
   "execution_count": 22,
   "metadata": {},
   "outputs": [
    {
     "data": {
      "text/plain": [
       "array([2, 0, 2, ..., 1, 2, 0])"
      ]
     },
     "execution_count": 22,
     "metadata": {},
     "output_type": "execute_result"
    }
   ],
   "source": [
    "kmeans.labels_\n",
    "# We can determine it belongs to which group"
   ]
  },
  {
   "cell_type": "code",
   "execution_count": 23,
   "metadata": {},
   "outputs": [
    {
     "data": {
      "text/plain": [
       "array([1, 2])"
      ]
     },
     "execution_count": 23,
     "metadata": {},
     "output_type": "execute_result"
    }
   ],
   "source": [
    "y_kmeans = kmeans.predict([[15.8, 20], [20, 40]])\n",
    "y_kmeans\n",
    "# We can predict it belongs to which group"
   ]
  },
  {
   "cell_type": "code",
   "execution_count": 24,
   "metadata": {},
   "outputs": [
    {
     "data": {
      "text/plain": [
       "array([[ 8.99078275, 31.25124175],\n",
       "       [ 9.0519841 , 22.09444444],\n",
       "       [17.55978031, 31.40489914]])"
      ]
     },
     "execution_count": 24,
     "metadata": {},
     "output_type": "execute_result"
    }
   ],
   "source": [
    "kmeans.cluster_centers_"
   ]
  },
  {
   "cell_type": "code",
   "execution_count": 25,
   "metadata": {},
   "outputs": [
    {
     "data": {
      "text/plain": [
       "<matplotlib.collections.PathCollection at 0x1f1ce95fc18>"
      ]
     },
     "execution_count": 25,
     "metadata": {},
     "output_type": "execute_result"
    },
    {
     "data": {
      "image/png": "[encoded data removed]",
      "text/plain": [
       "<Figure size 432x288 with 1 Axes>"
      ]
     },
     "metadata": {
      "needs_background": "light"
     },
     "output_type": "display_data"
    }
   ],
   "source": [
    "x = np.array(X)\n",
    "y_kmeans = kmeans.predict(x)\n",
    "\n",
    "plt.scatter(x[:, 0], x[:, 1], c=y_kmeans, s=50, cmap='viridis')\n",
    "\n",
    "centers = kmeans.cluster_centers_\n",
    "plt.scatter(centers[:, 0], centers[:, 1], c='red', s=200, alpha=0.5)"
   ]
  },
  {
   "cell_type": "markdown",
   "metadata": {},
   "source": [
    "##### In overall, K-means does not help us to do predictive data mining. Because we already have columns to seperate these data as different independent variables, we just show what we did. \n",
    "\n"
   ]
  },
  {
   "cell_type": "markdown",
   "metadata": {},
   "source": [
    "# 2. Predictive Data Mining"
   ]
  },
  {
   "cell_type": "markdown",
   "metadata": {},
   "source": [
    "## 2.1 Prediction for Numerical Data"
   ]
  },
  {
   "cell_type": "markdown",
   "metadata": {},
   "source": [
    "### 2.1.1 Full-Time DayDiff & Part-Time DayDiff"
   ]
  },
  {
   "cell_type": "markdown",
   "metadata": {},
   "source": [
    "#### 2.1.1 a) Linear Regression"
   ]
  },
  {
   "cell_type": "code",
   "execution_count": 26,
   "metadata": {},
   "outputs": [
    {
     "data": {
      "text/html": [
       "<div>\n",
       "<style scoped>\n",
       "    .dataframe tbody tr th:only-of-type {\n",
       "        vertical-align: middle;\n",
       "    }\n",
       "\n",
       "    .dataframe tbody tr th {\n",
       "        vertical-align: top;\n",
       "    }\n",
       "\n",
       "    .dataframe thead th {\n",
       "        text-align: right;\n",
       "    }\n",
       "</style>\n",
       "<table border=\"1\" class=\"dataframe\">\n",
       "  <thead>\n",
       "    <tr style=\"text-align: right;\">\n",
       "      <th></th>\n",
       "      <th>PID</th>\n",
       "      <th>AGE</th>\n",
       "      <th>GENDER</th>\n",
       "      <th>PROGRAM START DATE</th>\n",
       "      <th>POSITION</th>\n",
       "      <th>JOB START DATE</th>\n",
       "      <th>WAGE</th>\n",
       "      <th>HOURS PER WEEK</th>\n",
       "      <th>EDUCATION</th>\n",
       "      <th>Quarter and Year</th>\n",
       "      <th>JOB_START_DATE</th>\n",
       "      <th>DayDiff</th>\n",
       "      <th>TotalWages</th>\n",
       "    </tr>\n",
       "  </thead>\n",
       "  <tbody>\n",
       "    <tr>\n",
       "      <th>4</th>\n",
       "      <td>PID11335</td>\n",
       "      <td>40</td>\n",
       "      <td>male</td>\n",
       "      <td>2015-03-19</td>\n",
       "      <td>Administrative</td>\n",
       "      <td>2015/8/17</td>\n",
       "      <td>13.92</td>\n",
       "      <td>40.0</td>\n",
       "      <td>HS Graduate</td>\n",
       "      <td>Q3-2015</td>\n",
       "      <td>2015-08-17</td>\n",
       "      <td>151</td>\n",
       "      <td>556.8</td>\n",
       "    </tr>\n",
       "    <tr>\n",
       "      <th>9</th>\n",
       "      <td>PID01003</td>\n",
       "      <td>31</td>\n",
       "      <td>female</td>\n",
       "      <td>2014-01-08</td>\n",
       "      <td>Administrative</td>\n",
       "      <td>2014/5/8</td>\n",
       "      <td>12.00</td>\n",
       "      <td>40.0</td>\n",
       "      <td>HS Graduate</td>\n",
       "      <td>Q2-2014</td>\n",
       "      <td>2014-05-08</td>\n",
       "      <td>120</td>\n",
       "      <td>480.0</td>\n",
       "    </tr>\n",
       "    <tr>\n",
       "      <th>11</th>\n",
       "      <td>PID01004</td>\n",
       "      <td>31</td>\n",
       "      <td>female</td>\n",
       "      <td>2014-03-23</td>\n",
       "      <td>Administrative</td>\n",
       "      <td>2014/5/8</td>\n",
       "      <td>12.00</td>\n",
       "      <td>40.0</td>\n",
       "      <td>HS Graduate</td>\n",
       "      <td>Q2-2014</td>\n",
       "      <td>2014-05-08</td>\n",
       "      <td>46</td>\n",
       "      <td>480.0</td>\n",
       "    </tr>\n",
       "    <tr>\n",
       "      <th>19</th>\n",
       "      <td>PID19785</td>\n",
       "      <td>26</td>\n",
       "      <td>female</td>\n",
       "      <td>2015-06-15</td>\n",
       "      <td>Administrative</td>\n",
       "      <td>2015/7/17</td>\n",
       "      <td>10.00</td>\n",
       "      <td>40.0</td>\n",
       "      <td>HS Graduate</td>\n",
       "      <td>Q3-2015</td>\n",
       "      <td>2015-07-17</td>\n",
       "      <td>32</td>\n",
       "      <td>400.0</td>\n",
       "    </tr>\n",
       "    <tr>\n",
       "      <th>21</th>\n",
       "      <td>PID03444</td>\n",
       "      <td>37</td>\n",
       "      <td>female</td>\n",
       "      <td>2014-05-17</td>\n",
       "      <td>Administrative</td>\n",
       "      <td>2014/10/20</td>\n",
       "      <td>13.00</td>\n",
       "      <td>40.0</td>\n",
       "      <td>HS Graduate</td>\n",
       "      <td>Q4-2014</td>\n",
       "      <td>2014-10-20</td>\n",
       "      <td>156</td>\n",
       "      <td>520.0</td>\n",
       "    </tr>\n",
       "  </tbody>\n",
       "</table>\n",
       "</div>"
      ],
      "text/plain": [
       "         PID  AGE  GENDER PROGRAM START DATE        POSITION JOB START DATE  \\\n",
       "4   PID11335   40    male         2015-03-19  Administrative      2015/8/17   \n",
       "9   PID01003   31  female         2014-01-08  Administrative       2014/5/8   \n",
       "11  PID01004   31  female         2014-03-23  Administrative       2014/5/8   \n",
       "19  PID19785   26  female         2015-06-15  Administrative      2015/7/17   \n",
       "21  PID03444   37  female         2014-05-17  Administrative     2014/10/20   \n",
       "\n",
       "     WAGE  HOURS PER WEEK    EDUCATION Quarter and Year JOB_START_DATE  \\\n",
       "4   13.92            40.0  HS Graduate          Q3-2015     2015-08-17   \n",
       "9   12.00            40.0  HS Graduate          Q2-2014     2014-05-08   \n",
       "11  12.00            40.0  HS Graduate          Q2-2014     2014-05-08   \n",
       "19  10.00            40.0  HS Graduate          Q3-2015     2015-07-17   \n",
       "21  13.00            40.0  HS Graduate          Q4-2014     2014-10-20   \n",
       "\n",
       "    DayDiff  TotalWages  \n",
       "4       151       556.8  \n",
       "9       120       480.0  \n",
       "11       46       480.0  \n",
       "19       32       400.0  \n",
       "21      156       520.0  "
      ]
     },
     "execution_count": 26,
     "metadata": {},
     "output_type": "execute_result"
    }
   ],
   "source": [
    "FT.head()"
   ]
  },
  {
   "cell_type": "code",
   "execution_count": 27,
   "metadata": {},
   "outputs": [
    {
     "data": {
      "text/plain": [
       "<matplotlib.axes._subplots.AxesSubplot at 0x1f1ce985668>"
      ]
     },
     "execution_count": 27,
     "metadata": {},
     "output_type": "execute_result"
    },
    {
     "data": {
      "image/png": "[encoded data removed]",
      "text/plain": [
       "<Figure size 432x288 with 1 Axes>"
      ]
     },
     "metadata": {
      "needs_background": "light"
     },
     "output_type": "display_data"
    }
   ],
   "source": [
    "FT.plot.scatter(y='DayDiff',x='AGE')\n",
    "# The relationship between age and daydiff is random"
   ]
  },
  {
   "cell_type": "markdown",
   "metadata": {},
   "source": [
    "##### There is no need to show scatterplot for categorical data"
   ]
  },
  {
   "cell_type": "code",
   "execution_count": 28,
   "metadata": {},
   "outputs": [],
   "source": [
    "import statsmodels.formula.api as smf"
   ]
  },
  {
   "cell_type": "code",
   "execution_count": 29,
   "metadata": {},
   "outputs": [
    {
     "name": "stdout",
     "output_type": "stream",
     "text": [
      "                            OLS Regression Results                            \n",
      "==============================================================================\n",
      "Dep. Variable:                DayDiff   R-squared:                       0.011\n",
      "Model:                            OLS   Adj. R-squared:                  0.000\n",
      "Method:                 Least Squares   F-statistic:                     1.024\n",
      "Date:                Thu, 16 May 2019   Prob (F-statistic):              0.430\n",
      "Time:                        01:45:05   Log-Likelihood:                -18429.\n",
      "No. Observations:                3276   AIC:                         3.693e+04\n",
      "Df Residuals:                    3241   BIC:                         3.714e+04\n",
      "Df Model:                          34                                         \n",
      "Covariance Type:            nonrobust                                         \n",
      "=======================================================================================================\n",
      "                                          coef    std err          t      P>|t|      [0.025      0.975]\n",
      "-------------------------------------------------------------------------------------------------------\n",
      "Intercept                              85.2320     22.507      3.787      0.000      41.103     129.361\n",
      "GENDER[T.male]                          6.7339      2.571      2.619      0.009       1.693      11.774\n",
      "EDUCATION[T.11]                       -18.8170     27.661     -0.680      0.496     -73.053      35.419\n",
      "EDUCATION[T.12]                        10.7643     52.403      0.205      0.837     -91.981     113.510\n",
      "EDUCATION[T.College]                    9.0941     21.994      0.413      0.679     -34.030      52.218\n",
      "EDUCATION[T.HS Graduate]               10.4506     21.464      0.487      0.626     -31.634      52.535\n",
      "EDUCATION[T.Post Graduate]             38.5699     30.446      1.267      0.205     -21.125      98.265\n",
      "EDUCATION[T.Some College]               0.0480     22.733      0.002      0.998     -44.525      44.621\n",
      "POSITION[T.Bank Attendent]              3.6433     19.293      0.189      0.850     -34.184      41.470\n",
      "POSITION[T.Childcare]                  10.6650     10.893      0.979      0.328     -10.692      32.022\n",
      "POSITION[T.College]                    79.3201     67.768      1.170      0.242     -53.553     212.194\n",
      "POSITION[T.Construction]               16.7188      9.121      1.833      0.067      -1.165      34.603\n",
      "POSITION[T.Customer Service]            8.9634      8.419      1.065      0.287      -7.544      25.471\n",
      "POSITION[T.Food Service]                4.7790      5.958      0.802      0.423      -6.902      16.460\n",
      "POSITION[T.General Labor]              13.2798     12.784      1.039      0.299     -11.786      38.345\n",
      "POSITION[T.General Sales]               6.5114      8.839      0.737      0.461     -10.818      23.841\n",
      "POSITION[T.Grocery Store Attendent]    11.5520     12.306      0.939      0.348     -12.576      35.680\n",
      "POSITION[T.Hair Dresser]               50.8431     39.252      1.295      0.195     -26.118     127.804\n",
      "POSITION[T.Healthcare]                 12.2880      6.019      2.041      0.041       0.486      24.090\n",
      "POSITION[T.Janitorial Services]        10.9586      5.713      1.918      0.055      -0.242      22.159\n",
      "POSITION[T.Leisure And Hospitality]    11.1044      9.417      1.179      0.238      -7.359      29.568\n",
      "POSITION[T.Messenger]                   9.4401     10.806      0.874      0.382     -11.747      30.627\n",
      "POSITION[T.Other]                       2.6076      5.578      0.467      0.640      -8.330      13.545\n",
      "POSITION[T.Parking Lot Attendent]       2.4290     10.993      0.221      0.825     -19.124      23.982\n",
      "POSITION[T.Retail]                      9.5035      5.553      1.711      0.087      -1.384      20.391\n",
      "POSITION[T.Sales]                      20.9074     67.655      0.309      0.757    -111.743     153.558\n",
      "POSITION[T.Security]                   13.9615      6.177      2.260      0.024       1.851      26.072\n",
      "POSITION[T.Shipping And Receiving ]    14.7305     20.045      0.735      0.462     -24.572      54.033\n",
      "POSITION[T.Social Work]                -3.3898     13.977     -0.243      0.808     -30.795      24.015\n",
      "POSITION[T.Teacher]                    -9.4907     39.228     -0.242      0.809     -86.404      67.423\n",
      "POSITION[T.Telemarketing]              12.2516     13.761      0.890      0.373     -14.730      39.233\n",
      "POSITION[T.Temp Staffing]              -0.2985      8.309     -0.036      0.971     -16.591      15.994\n",
      "POSITION[T.Trade Work]                 18.6984     10.043      1.862      0.063      -0.993      38.390\n",
      "POSITION[T.Transportation]              2.7367      7.361      0.372      0.710     -11.696      17.169\n",
      "AGE                                    -0.0704      0.113     -0.621      0.535      -0.293       0.152\n",
      "==============================================================================\n",
      "Omnibus:                      605.238   Durbin-Watson:                   0.482\n",
      "Prob(Omnibus):                  0.000   Jarque-Bera (JB):             1280.877\n",
      "Skew:                           1.077   Prob(JB):                    7.26e-279\n",
      "Kurtosis:                       5.178   Cond. No.                     2.31e+03\n",
      "==============================================================================\n",
      "\n",
      "Warnings:\n",
      "[1] Standard Errors assume that the covariance matrix of the errors is correctly specified.\n",
      "[2] The condition number is large, 2.31e+03. This might indicate that there are\n",
      "strong multicollinearity or other numerical problems.\n"
     ]
    }
   ],
   "source": [
    "reg_DayDiff = smf.ols('DayDiff~ AGE + GENDER + EDUCATION + POSITION ',data=FT).fit()\n",
    "print(reg_DayDiff.summary())"
   ]
  },
  {
   "cell_type": "markdown",
   "metadata": {},
   "source": [
    "##### There is no linear regression as most of variable of p-value is very high. "
   ]
  },
  {
   "cell_type": "code",
   "execution_count": 30,
   "metadata": {},
   "outputs": [
    {
     "data": {
      "text/html": [
       "<div>\n",
       "<style scoped>\n",
       "    .dataframe tbody tr th:only-of-type {\n",
       "        vertical-align: middle;\n",
       "    }\n",
       "\n",
       "    .dataframe tbody tr th {\n",
       "        vertical-align: top;\n",
       "    }\n",
       "\n",
       "    .dataframe thead th {\n",
       "        text-align: right;\n",
       "    }\n",
       "</style>\n",
       "<table border=\"1\" class=\"dataframe\">\n",
       "  <thead>\n",
       "    <tr style=\"text-align: right;\">\n",
       "      <th></th>\n",
       "      <th>PID</th>\n",
       "      <th>AGE</th>\n",
       "      <th>GENDER</th>\n",
       "      <th>PROGRAM START DATE</th>\n",
       "      <th>POSITION</th>\n",
       "      <th>JOB START DATE</th>\n",
       "      <th>WAGE</th>\n",
       "      <th>HOURS PER WEEK</th>\n",
       "      <th>EDUCATION</th>\n",
       "      <th>Quarter and Year</th>\n",
       "      <th>JOB_START_DATE</th>\n",
       "      <th>DayDiff</th>\n",
       "      <th>TotalWages</th>\n",
       "    </tr>\n",
       "  </thead>\n",
       "  <tbody>\n",
       "    <tr>\n",
       "      <th>0</th>\n",
       "      <td>PID02994</td>\n",
       "      <td>29</td>\n",
       "      <td>male</td>\n",
       "      <td>2015-06-24</td>\n",
       "      <td>Administrative</td>\n",
       "      <td>2015/9/3</td>\n",
       "      <td>15.60</td>\n",
       "      <td>30.0</td>\n",
       "      <td>HS Graduate</td>\n",
       "      <td>Q3-2015</td>\n",
       "      <td>2015-09-03</td>\n",
       "      <td>71</td>\n",
       "      <td>468.0</td>\n",
       "    </tr>\n",
       "    <tr>\n",
       "      <th>1</th>\n",
       "      <td>PID00542</td>\n",
       "      <td>50</td>\n",
       "      <td>male</td>\n",
       "      <td>2015-07-04</td>\n",
       "      <td>Administrative</td>\n",
       "      <td>2015/8/3</td>\n",
       "      <td>8.75</td>\n",
       "      <td>30.0</td>\n",
       "      <td>HS Graduate</td>\n",
       "      <td>Q3-2015</td>\n",
       "      <td>2015-08-03</td>\n",
       "      <td>30</td>\n",
       "      <td>262.5</td>\n",
       "    </tr>\n",
       "    <tr>\n",
       "      <th>2</th>\n",
       "      <td>PID03451</td>\n",
       "      <td>50</td>\n",
       "      <td>male</td>\n",
       "      <td>2014-08-29</td>\n",
       "      <td>Administrative</td>\n",
       "      <td>2015/9/8</td>\n",
       "      <td>16.00</td>\n",
       "      <td>35.0</td>\n",
       "      <td>HS Graduate</td>\n",
       "      <td>Q3-2015</td>\n",
       "      <td>2015-09-08</td>\n",
       "      <td>375</td>\n",
       "      <td>560.0</td>\n",
       "    </tr>\n",
       "    <tr>\n",
       "      <th>3</th>\n",
       "      <td>PID00543</td>\n",
       "      <td>50</td>\n",
       "      <td>male</td>\n",
       "      <td>2015-04-25</td>\n",
       "      <td>Administrative</td>\n",
       "      <td>2015/8/3</td>\n",
       "      <td>8.75</td>\n",
       "      <td>30.0</td>\n",
       "      <td>HS Graduate</td>\n",
       "      <td>Q3-2015</td>\n",
       "      <td>2015-08-03</td>\n",
       "      <td>100</td>\n",
       "      <td>262.5</td>\n",
       "    </tr>\n",
       "    <tr>\n",
       "      <th>5</th>\n",
       "      <td>PID05307</td>\n",
       "      <td>26</td>\n",
       "      <td>male</td>\n",
       "      <td>2015-04-05</td>\n",
       "      <td>Administrative</td>\n",
       "      <td>2015/9/16</td>\n",
       "      <td>16.50</td>\n",
       "      <td>35.0</td>\n",
       "      <td>HS Graduate</td>\n",
       "      <td>Q3-2015</td>\n",
       "      <td>2015-09-16</td>\n",
       "      <td>164</td>\n",
       "      <td>577.5</td>\n",
       "    </tr>\n",
       "  </tbody>\n",
       "</table>\n",
       "</div>"
      ],
      "text/plain": [
       "        PID  AGE GENDER PROGRAM START DATE        POSITION JOB START DATE  \\\n",
       "0  PID02994   29   male         2015-06-24  Administrative       2015/9/3   \n",
       "1  PID00542   50   male         2015-07-04  Administrative       2015/8/3   \n",
       "2  PID03451   50   male         2014-08-29  Administrative       2015/9/8   \n",
       "3  PID00543   50   male         2015-04-25  Administrative       2015/8/3   \n",
       "5  PID05307   26   male         2015-04-05  Administrative      2015/9/16   \n",
       "\n",
       "    WAGE  HOURS PER WEEK    EDUCATION Quarter and Year JOB_START_DATE  \\\n",
       "0  15.60            30.0  HS Graduate          Q3-2015     2015-09-03   \n",
       "1   8.75            30.0  HS Graduate          Q3-2015     2015-08-03   \n",
       "2  16.00            35.0  HS Graduate          Q3-2015     2015-09-08   \n",
       "3   8.75            30.0  HS Graduate          Q3-2015     2015-08-03   \n",
       "5  16.50            35.0  HS Graduate          Q3-2015     2015-09-16   \n",
       "\n",
       "   DayDiff  TotalWages  \n",
       "0       71       468.0  \n",
       "1       30       262.5  \n",
       "2      375       560.0  \n",
       "3      100       262.5  \n",
       "5      164       577.5  "
      ]
     },
     "execution_count": 30,
     "metadata": {},
     "output_type": "execute_result"
    }
   ],
   "source": [
    "PT.head()"
   ]
  },
  {
   "cell_type": "code",
   "execution_count": 31,
   "metadata": {},
   "outputs": [
    {
     "name": "stdout",
     "output_type": "stream",
     "text": [
      "                            OLS Regression Results                            \n",
      "==============================================================================\n",
      "Dep. Variable:                DayDiff   R-squared:                       0.003\n",
      "Model:                            OLS   Adj. R-squared:                  0.001\n",
      "Method:                 Least Squares   F-statistic:                     1.476\n",
      "Date:                Thu, 16 May 2019   Prob (F-statistic):             0.0365\n",
      "Time:                        01:45:06   Log-Likelihood:                -94031.\n",
      "No. Observations:               16613   AIC:                         1.881e+05\n",
      "Df Residuals:                   16578   BIC:                         1.884e+05\n",
      "Df Model:                          34                                         \n",
      "Covariance Type:            nonrobust                                         \n",
      "=======================================================================================================\n",
      "                                          coef    std err          t      P>|t|      [0.025      0.975]\n",
      "-------------------------------------------------------------------------------------------------------\n",
      "Intercept                              98.2567      8.813     11.150      0.000      80.983     115.530\n",
      "GENDER[T.male]                         -0.1868      1.169     -0.160      0.873      -2.478       2.105\n",
      "EDUCATION[T.11]                         0.8677      9.818      0.088      0.930     -18.377      20.112\n",
      "EDUCATION[T.12]                        15.0531     17.235      0.873      0.382     -18.730      48.836\n",
      "EDUCATION[T.9]                         -3.8855     25.928     -0.150      0.881     -54.707      46.936\n",
      "EDUCATION[T.College]                   -2.4576      8.612     -0.285      0.775     -19.338      14.423\n",
      "EDUCATION[T.HS Graduate]                2.6952      8.173      0.330      0.742     -13.325      18.715\n",
      "EDUCATION[T.Post Graduate]             11.8821     18.775      0.633      0.527     -24.918      48.682\n",
      "EDUCATION[T.Some College]              -4.8975      9.348     -0.524      0.600     -23.220      13.425\n",
      "POSITION[T.Bank Attendent]              6.6036     17.622      0.375      0.708     -27.938      41.145\n",
      "POSITION[T.Childcare]                   4.7234      4.873      0.969      0.332      -4.828      14.275\n",
      "POSITION[T.Construction]               17.7776      6.185      2.874      0.004       5.655      29.900\n",
      "POSITION[T.Customer Service]            7.6673      3.973      1.930      0.054      -0.121      15.455\n",
      "POSITION[T.Food Service]                1.6167      3.170      0.510      0.610      -4.597       7.831\n",
      "POSITION[T.General Labor]               4.3964      5.737      0.766      0.443      -6.848      15.641\n",
      "POSITION[T.General Sales]               4.1324      5.250      0.787      0.431      -6.159      14.423\n",
      "POSITION[T.Grocery Store Attendent]     7.6705      5.241      1.463      0.143      -2.603      17.944\n",
      "POSITION[T.Hair Dresser]                4.6864      8.026      0.584      0.559     -11.046      20.419\n",
      "POSITION[T.Healthcare]                  4.8166      3.271      1.473      0.141      -1.595      11.228\n",
      "POSITION[T.Janitorial Services]         3.0470      3.327      0.916      0.360      -3.474       9.568\n",
      "POSITION[T.Leisure And Hospitality]    11.6624      5.463      2.135      0.033       0.954      22.371\n",
      "POSITION[T.Messenger]                  20.8549      6.185      3.372      0.001       8.731      32.979\n",
      "POSITION[T.Other]                       3.5736      3.353      1.066      0.287      -2.999      10.146\n",
      "POSITION[T.Parking Lot Attendent]      -5.4787      7.150     -0.766      0.444     -19.493       8.536\n",
      "POSITION[T.Retail]                      3.9535      3.102      1.275      0.202      -2.126      10.033\n",
      "POSITION[T.Sales]                      -4.2654     28.547     -0.149      0.881     -60.220      51.689\n",
      "POSITION[T.Security]                    9.7807      3.417      2.862      0.004       3.083      16.479\n",
      "POSITION[T.Shipping And Receiving ]     8.8986     11.233      0.792      0.428     -13.119      30.916\n",
      "POSITION[T.Social Work]                 3.4198      9.278      0.369      0.712     -14.766      21.605\n",
      "POSITION[T.Teacher]                    10.7540     18.189      0.591      0.554     -24.898      46.406\n",
      "POSITION[T.Telemarketing]              -0.4157      4.587     -0.091      0.928      -9.408       8.576\n",
      "POSITION[T.Temp Staffing]               4.4134      4.110      1.074      0.283      -3.643      12.470\n",
      "POSITION[T.Trade Work]                 -2.2903      8.734     -0.262      0.793     -19.410      14.830\n",
      "POSITION[T.Transportation]             12.4824      4.871      2.563      0.010       2.935      22.030\n",
      "AGE                                     0.0091      0.051      0.177      0.859      -0.092       0.110\n",
      "==============================================================================\n",
      "Omnibus:                     3117.909   Durbin-Watson:                   0.412\n",
      "Prob(Omnibus):                  0.000   Jarque-Bera (JB):             6416.319\n",
      "Skew:                           1.118   Prob(JB):                         0.00\n",
      "Kurtosis:                       5.066   Cond. No.                     1.98e+03\n",
      "==============================================================================\n",
      "\n",
      "Warnings:\n",
      "[1] Standard Errors assume that the covariance matrix of the errors is correctly specified.\n",
      "[2] The condition number is large, 1.98e+03. This might indicate that there are\n",
      "strong multicollinearity or other numerical problems.\n"
     ]
    }
   ],
   "source": [
    "reg_DayDiff = smf.ols('DayDiff~ AGE + GENDER + EDUCATION + POSITION ',data=PT).fit()\n",
    "print(reg_DayDiff.summary())"
   ]
  },
  {
   "cell_type": "markdown",
   "metadata": {},
   "source": [
    "##### There is no linear relationship as most of variable of p-value is very high. "
   ]
  },
  {
   "cell_type": "markdown",
   "metadata": {},
   "source": [
    "##### Since there is no linear relationship between independent varibale and DayDiff, we will not show regression tree model either due to much weaker performance of regression tree if we use, as well as we will not show score of this model"
   ]
  },
  {
   "cell_type": "markdown",
   "metadata": {},
   "source": [
    "### 2.1.2  Full-Time TotalWages "
   ]
  },
  {
   "cell_type": "markdown",
   "metadata": {},
   "source": [
    "#### 2.1.2 a) Linear Regression"
   ]
  },
  {
   "cell_type": "code",
   "execution_count": 32,
   "metadata": {},
   "outputs": [
    {
     "data": {
      "text/plain": [
       "<matplotlib.axes._subplots.AxesSubplot at 0x1f1ced09dd8>"
      ]
     },
     "execution_count": 32,
     "metadata": {},
     "output_type": "execute_result"
    },
    {
     "data": {
      "image/png": "[encoded data removed]",
      "text/plain": [
       "<Figure size 432x288 with 1 Axes>"
      ]
     },
     "metadata": {
      "needs_background": "light"
     },
     "output_type": "display_data"
    }
   ],
   "source": [
    "FT.plot.scatter(y='TotalWages',x='AGE')\n",
    "# The relationship between age and Totalwages is random"
   ]
  },
  {
   "cell_type": "code",
   "execution_count": 33,
   "metadata": {},
   "outputs": [
    {
     "name": "stdout",
     "output_type": "stream",
     "text": [
      "                            OLS Regression Results                            \n",
      "==============================================================================\n",
      "Dep. Variable:             TotalWages   R-squared:                       0.357\n",
      "Model:                            OLS   Adj. R-squared:                  0.350\n",
      "Method:                 Least Squares   F-statistic:                     52.86\n",
      "Date:                Thu, 16 May 2019   Prob (F-statistic):          2.76e-280\n",
      "Time:                        01:45:06   Log-Likelihood:                -20907.\n",
      "No. Observations:                3276   AIC:                         4.188e+04\n",
      "Df Residuals:                    3241   BIC:                         4.210e+04\n",
      "Df Model:                          34                                         \n",
      "Covariance Type:            nonrobust                                         \n",
      "=======================================================================================================\n",
      "                                          coef    std err          t      P>|t|      [0.025      0.975]\n",
      "-------------------------------------------------------------------------------------------------------\n",
      "Intercept                             519.6937     47.964     10.835      0.000     425.650     613.737\n",
      "GENDER[T.male]                        -10.0986      5.479     -1.843      0.065     -20.840       0.643\n",
      "EDUCATION[T.11]                       -10.4827     58.949     -0.178      0.859    -126.064     105.098\n",
      "EDUCATION[T.12]                         4.9201    111.674      0.044      0.965    -214.040     223.880\n",
      "EDUCATION[T.College]                  216.9820     46.872      4.629      0.000     125.080     308.884\n",
      "EDUCATION[T.HS Graduate]               83.3478     45.742      1.822      0.069      -6.338     173.034\n",
      "EDUCATION[T.Post Graduate]            644.8053     64.883      9.938      0.000     517.590     772.021\n",
      "EDUCATION[T.Some College]             196.7548     48.446      4.061      0.000     101.766     291.744\n",
      "POSITION[T.Bank Attendent]           -115.5768     41.114     -2.811      0.005    -196.190     -34.964\n",
      "POSITION[T.Childcare]                -272.0651     23.213    -11.720      0.000    -317.579    -226.551\n",
      "POSITION[T.College]                   171.3651    144.421      1.187      0.235    -111.800     454.530\n",
      "POSITION[T.Construction]             -102.1791     19.438     -5.257      0.000    -140.291     -64.067\n",
      "POSITION[T.Customer Service]         -249.1236     17.942    -13.885      0.000    -284.303    -213.945\n",
      "POSITION[T.Food Service]             -291.5874     12.696    -22.967      0.000    -316.481    -266.694\n",
      "POSITION[T.General Labor]            -284.6089     27.244    -10.447      0.000    -338.026    -231.192\n",
      "POSITION[T.General Sales]            -247.7015     18.836    -13.150      0.000    -284.633    -210.770\n",
      "POSITION[T.Grocery Store Attendent]  -320.3279     26.225    -12.215      0.000    -371.747    -268.909\n",
      "POSITION[T.Hair Dresser]             -297.4295     83.649     -3.556      0.000    -461.440    -133.419\n",
      "POSITION[T.Healthcare]               -207.5782     12.828    -16.182      0.000    -232.729    -182.427\n",
      "POSITION[T.Janitorial Services]      -290.4554     12.174    -23.859      0.000    -314.325    -266.586\n",
      "POSITION[T.Leisure And Hospitality]  -239.4661     20.068    -11.933      0.000    -278.813    -200.119\n",
      "POSITION[T.Messenger]                -297.2100     23.028    -12.906      0.000    -342.362    -252.058\n",
      "POSITION[T.Other]                    -240.7650     11.888    -20.253      0.000    -264.074    -217.456\n",
      "POSITION[T.Parking Lot Attendent]    -317.4066     23.426    -13.549      0.000    -363.339    -271.475\n",
      "POSITION[T.Retail]                   -294.2677     11.834    -24.866      0.000    -317.471    -271.065\n",
      "POSITION[T.Sales]                    -343.1077    144.178     -2.380      0.017    -625.797     -60.418\n",
      "POSITION[T.Security]                 -276.0624     13.163    -20.972      0.000    -301.872    -250.253\n",
      "POSITION[T.Shipping And Receiving ]  -210.5613     42.718     -4.929      0.000    -294.318    -126.804\n",
      "POSITION[T.Social Work]               -81.8688     29.787     -2.748      0.006    -140.272     -23.466\n",
      "POSITION[T.Teacher]                  -176.6394     83.598     -2.113      0.035    -340.549     -12.730\n",
      "POSITION[T.Telemarketing]            -331.2746     29.326    -11.296      0.000    -388.775    -273.774\n",
      "POSITION[T.Temp Staffing]            -252.0669     17.708    -14.235      0.000    -286.787    -217.347\n",
      "POSITION[T.Trade Work]               -105.9514     21.403     -4.950      0.000    -147.916     -63.987\n",
      "POSITION[T.Transportation]           -237.7526     15.687    -15.156      0.000    -268.510    -206.995\n",
      "AGE                                     2.1262      0.242      8.800      0.000       1.652       2.600\n",
      "==============================================================================\n",
      "Omnibus:                     1357.433   Durbin-Watson:                   2.011\n",
      "Prob(Omnibus):                  0.000   Jarque-Bera (JB):            11228.498\n",
      "Skew:                           1.755   Prob(JB):                         0.00\n",
      "Kurtosis:                      11.363   Cond. No.                     2.31e+03\n",
      "==============================================================================\n",
      "\n",
      "Warnings:\n",
      "[1] Standard Errors assume that the covariance matrix of the errors is correctly specified.\n",
      "[2] The condition number is large, 2.31e+03. This might indicate that there are\n",
      "strong multicollinearity or other numerical problems.\n"
     ]
    }
   ],
   "source": [
    "reg_PTWages = smf.ols('TotalWages ~ AGE + GENDER + EDUCATION + POSITION ',data=FT).fit()\n",
    "print(reg_PTWages.summary())"
   ]
  },
  {
   "cell_type": "markdown",
   "metadata": {},
   "source": [
    "##### The P-value of Gender is very high, so we just remove this variable"
   ]
  },
  {
   "cell_type": "code",
   "execution_count": 34,
   "metadata": {},
   "outputs": [
    {
     "name": "stdout",
     "output_type": "stream",
     "text": [
      "                            OLS Regression Results                            \n",
      "==============================================================================\n",
      "Dep. Variable:             TotalWages   R-squared:                       0.356\n",
      "Model:                            OLS   Adj. R-squared:                  0.349\n",
      "Method:                 Least Squares   F-statistic:                     54.32\n",
      "Date:                Thu, 16 May 2019   Prob (F-statistic):          1.97e-280\n",
      "Time:                        01:45:06   Log-Likelihood:                -20909.\n",
      "No. Observations:                3276   AIC:                         4.189e+04\n",
      "Df Residuals:                    3242   BIC:                         4.209e+04\n",
      "Df Model:                          33                                         \n",
      "Covariance Type:            nonrobust                                         \n",
      "=======================================================================================================\n",
      "                                          coef    std err          t      P>|t|      [0.025      0.975]\n",
      "-------------------------------------------------------------------------------------------------------\n",
      "Intercept                             519.8052     47.982     10.833      0.000     425.727     613.883\n",
      "EDUCATION[T.11]                       -12.9170     58.956     -0.219      0.827    -128.512     102.678\n",
      "EDUCATION[T.12]                         4.2152    111.715      0.038      0.970    -214.824     223.255\n",
      "EDUCATION[T.College]                  214.9666     46.877      4.586      0.000     123.056     306.877\n",
      "EDUCATION[T.HS Graduate]               81.8429     45.752      1.789      0.074      -7.862     171.548\n",
      "EDUCATION[T.Post Graduate]            643.1119     64.900      9.909      0.000     515.862     770.362\n",
      "EDUCATION[T.Some College]             195.2462     48.457      4.029      0.000     100.236     290.256\n",
      "POSITION[T.Bank Attendent]           -111.6701     41.075     -2.719      0.007    -192.206     -31.135\n",
      "POSITION[T.Childcare]                -268.4820     23.140    -11.602      0.000    -313.853    -223.111\n",
      "POSITION[T.College]                   167.0810    144.455      1.157      0.248    -116.152     450.314\n",
      "POSITION[T.Construction]             -105.4834     19.363     -5.448      0.000    -143.447     -67.519\n",
      "POSITION[T.Customer Service]         -249.0833     17.949    -13.878      0.000    -284.275    -213.891\n",
      "POSITION[T.Food Service]             -293.8012     12.644    -23.237      0.000    -318.592    -269.010\n",
      "POSITION[T.General Labor]            -285.5866     27.249    -10.481      0.000    -339.013    -232.160\n",
      "POSITION[T.General Sales]            -248.7587     18.834    -13.208      0.000    -285.687    -211.831\n",
      "POSITION[T.Grocery Store Attendent]  -321.9777     26.219    -12.280      0.000    -373.385    -270.570\n",
      "POSITION[T.Hair Dresser]             -292.3427     83.634     -3.495      0.000    -456.324    -128.361\n",
      "POSITION[T.Healthcare]               -205.0251     12.757    -16.071      0.000    -230.038    -180.012\n",
      "POSITION[T.Janitorial Services]      -292.7800     12.113    -24.171      0.000    -316.530    -269.030\n",
      "POSITION[T.Leisure And Hospitality]  -240.9428     20.059    -12.011      0.000    -280.273    -201.612\n",
      "POSITION[T.Messenger]                -300.7718     22.956    -13.102      0.000    -345.781    -255.763\n",
      "POSITION[T.Other]                    -242.3823     11.860    -20.437      0.000    -265.636    -219.128\n",
      "POSITION[T.Parking Lot Attendent]    -321.2310     23.343    -13.761      0.000    -366.999    -275.463\n",
      "POSITION[T.Retail]                   -295.5186     11.819    -25.004      0.000    -318.692    -272.345\n",
      "POSITION[T.Sales]                    -349.1243    144.194     -2.421      0.016    -631.846     -66.403\n",
      "POSITION[T.Security]                 -278.3872     13.108    -21.238      0.000    -304.088    -252.687\n",
      "POSITION[T.Shipping And Receiving ]  -209.8728     42.732     -4.911      0.000    -293.658    -126.088\n",
      "POSITION[T.Social Work]               -81.8933     29.798     -2.748      0.006    -140.318     -23.469\n",
      "POSITION[T.Teacher]                  -175.4077     83.626     -2.098      0.036    -339.373     -11.443\n",
      "POSITION[T.Telemarketing]            -331.2366     29.337    -11.291      0.000    -388.758    -273.715\n",
      "POSITION[T.Temp Staffing]            -253.0177     17.707    -14.289      0.000    -287.736    -218.299\n",
      "POSITION[T.Trade Work]               -108.5707     21.364     -5.082      0.000    -150.458     -66.683\n",
      "POSITION[T.Transportation]           -239.5564     15.662    -15.295      0.000    -270.265    -208.848\n",
      "AGE                                     2.0447      0.238      8.605      0.000       1.579       2.511\n",
      "==============================================================================\n",
      "Omnibus:                     1359.532   Durbin-Watson:                   2.009\n",
      "Prob(Omnibus):                  0.000   Jarque-Bera (JB):            11188.373\n",
      "Skew:                           1.760   Prob(JB):                         0.00\n",
      "Kurtosis:                      11.341   Cond. No.                     2.31e+03\n",
      "==============================================================================\n",
      "\n",
      "Warnings:\n",
      "[1] Standard Errors assume that the covariance matrix of the errors is correctly specified.\n",
      "[2] The condition number is large, 2.31e+03. This might indicate that there are\n",
      "strong multicollinearity or other numerical problems.\n"
     ]
    }
   ],
   "source": [
    "reg_FTWages = smf.ols('TotalWages ~ AGE + EDUCATION + POSITION ',data=FT).fit()\n",
    "print(reg_FTWages.summary())"
   ]
  },
  {
   "cell_type": "markdown",
   "metadata": {},
   "source": [
    "##### Education[11], Education[12], Education[HS Graduate], and Position[College] is not significant since p-value is very high.\n",
    "##### Therefore, we can get that                                                                                                                                         PTWages = 2.0447* AGE - b1 * Position** - b2 * Education** + 519.8052 \n",
    "##### Positon** and Education** are categorical data, so we need to match it with different coefficient. Also, for Education with 11,12, HS Graduate and Position with College, this regression has no effect.\n"
   ]
  },
  {
   "cell_type": "code",
   "execution_count": 35,
   "metadata": {},
   "outputs": [],
   "source": [
    "from sklearn.linear_model import LinearRegression as reg\n",
    "from patsy import dmatrices"
   ]
  },
  {
   "cell_type": "code",
   "execution_count": 36,
   "metadata": {},
   "outputs": [],
   "source": [
    "y, X = dmatrices(\"TotalWages ~ AGE + POSITION + EDUCATION\",data = FT)"
   ]
  },
  {
   "cell_type": "code",
   "execution_count": 37,
   "metadata": {},
   "outputs": [
    {
     "data": {
      "text/plain": [
       "0.3560325587063272"
      ]
     },
     "execution_count": 37,
     "metadata": {},
     "output_type": "execute_result"
    }
   ],
   "source": [
    "reg().fit(X,y).score(X,y)"
   ]
  },
  {
   "cell_type": "markdown",
   "metadata": {},
   "source": [
    "#### 2.1.2 b) Regression Tree"
   ]
  },
  {
   "cell_type": "code",
   "execution_count": 38,
   "metadata": {},
   "outputs": [],
   "source": [
    "Features1 = FT[[\"GENDER\",\"POSITION\",\"EDUCATION\"]].values"
   ]
  },
  {
   "cell_type": "code",
   "execution_count": 39,
   "metadata": {},
   "outputs": [
    {
     "data": {
      "text/html": [
       "<div>\n",
       "<style scoped>\n",
       "    .dataframe tbody tr th:only-of-type {\n",
       "        vertical-align: middle;\n",
       "    }\n",
       "\n",
       "    .dataframe tbody tr th {\n",
       "        vertical-align: top;\n",
       "    }\n",
       "\n",
       "    .dataframe thead th {\n",
       "        text-align: right;\n",
       "    }\n",
       "</style>\n",
       "<table border=\"1\" class=\"dataframe\">\n",
       "  <thead>\n",
       "    <tr style=\"text-align: right;\">\n",
       "      <th></th>\n",
       "      <th>0</th>\n",
       "      <th>1</th>\n",
       "      <th>2</th>\n",
       "      <th>3</th>\n",
       "      <th>4</th>\n",
       "      <th>5</th>\n",
       "      <th>6</th>\n",
       "      <th>7</th>\n",
       "      <th>8</th>\n",
       "      <th>9</th>\n",
       "      <th>...</th>\n",
       "      <th>27</th>\n",
       "      <th>28</th>\n",
       "      <th>29</th>\n",
       "      <th>30</th>\n",
       "      <th>31</th>\n",
       "      <th>32</th>\n",
       "      <th>33</th>\n",
       "      <th>34</th>\n",
       "      <th>35</th>\n",
       "      <th>AGE</th>\n",
       "    </tr>\n",
       "  </thead>\n",
       "  <tbody>\n",
       "    <tr>\n",
       "      <th>0</th>\n",
       "      <td>0.0</td>\n",
       "      <td>1.0</td>\n",
       "      <td>1.0</td>\n",
       "      <td>0.0</td>\n",
       "      <td>0.0</td>\n",
       "      <td>0.0</td>\n",
       "      <td>0.0</td>\n",
       "      <td>0.0</td>\n",
       "      <td>0.0</td>\n",
       "      <td>0.0</td>\n",
       "      <td>...</td>\n",
       "      <td>0.0</td>\n",
       "      <td>0.0</td>\n",
       "      <td>0.0</td>\n",
       "      <td>0.0</td>\n",
       "      <td>0.0</td>\n",
       "      <td>0.0</td>\n",
       "      <td>1.0</td>\n",
       "      <td>0.0</td>\n",
       "      <td>0.0</td>\n",
       "      <td>40</td>\n",
       "    </tr>\n",
       "    <tr>\n",
       "      <th>1</th>\n",
       "      <td>1.0</td>\n",
       "      <td>0.0</td>\n",
       "      <td>1.0</td>\n",
       "      <td>0.0</td>\n",
       "      <td>0.0</td>\n",
       "      <td>0.0</td>\n",
       "      <td>0.0</td>\n",
       "      <td>0.0</td>\n",
       "      <td>0.0</td>\n",
       "      <td>0.0</td>\n",
       "      <td>...</td>\n",
       "      <td>0.0</td>\n",
       "      <td>0.0</td>\n",
       "      <td>0.0</td>\n",
       "      <td>0.0</td>\n",
       "      <td>0.0</td>\n",
       "      <td>0.0</td>\n",
       "      <td>1.0</td>\n",
       "      <td>0.0</td>\n",
       "      <td>0.0</td>\n",
       "      <td>31</td>\n",
       "    </tr>\n",
       "    <tr>\n",
       "      <th>2</th>\n",
       "      <td>1.0</td>\n",
       "      <td>0.0</td>\n",
       "      <td>1.0</td>\n",
       "      <td>0.0</td>\n",
       "      <td>0.0</td>\n",
       "      <td>0.0</td>\n",
       "      <td>0.0</td>\n",
       "      <td>0.0</td>\n",
       "      <td>0.0</td>\n",
       "      <td>0.0</td>\n",
       "      <td>...</td>\n",
       "      <td>0.0</td>\n",
       "      <td>0.0</td>\n",
       "      <td>0.0</td>\n",
       "      <td>0.0</td>\n",
       "      <td>0.0</td>\n",
       "      <td>0.0</td>\n",
       "      <td>1.0</td>\n",
       "      <td>0.0</td>\n",
       "      <td>0.0</td>\n",
       "      <td>31</td>\n",
       "    </tr>\n",
       "    <tr>\n",
       "      <th>3</th>\n",
       "      <td>1.0</td>\n",
       "      <td>0.0</td>\n",
       "      <td>1.0</td>\n",
       "      <td>0.0</td>\n",
       "      <td>0.0</td>\n",
       "      <td>0.0</td>\n",
       "      <td>0.0</td>\n",
       "      <td>0.0</td>\n",
       "      <td>0.0</td>\n",
       "      <td>0.0</td>\n",
       "      <td>...</td>\n",
       "      <td>0.0</td>\n",
       "      <td>0.0</td>\n",
       "      <td>0.0</td>\n",
       "      <td>0.0</td>\n",
       "      <td>0.0</td>\n",
       "      <td>0.0</td>\n",
       "      <td>1.0</td>\n",
       "      <td>0.0</td>\n",
       "      <td>0.0</td>\n",
       "      <td>26</td>\n",
       "    </tr>\n",
       "    <tr>\n",
       "      <th>4</th>\n",
       "      <td>1.0</td>\n",
       "      <td>0.0</td>\n",
       "      <td>1.0</td>\n",
       "      <td>0.0</td>\n",
       "      <td>0.0</td>\n",
       "      <td>0.0</td>\n",
       "      <td>0.0</td>\n",
       "      <td>0.0</td>\n",
       "      <td>0.0</td>\n",
       "      <td>0.0</td>\n",
       "      <td>...</td>\n",
       "      <td>0.0</td>\n",
       "      <td>0.0</td>\n",
       "      <td>0.0</td>\n",
       "      <td>0.0</td>\n",
       "      <td>0.0</td>\n",
       "      <td>0.0</td>\n",
       "      <td>1.0</td>\n",
       "      <td>0.0</td>\n",
       "      <td>0.0</td>\n",
       "      <td>37</td>\n",
       "    </tr>\n",
       "  </tbody>\n",
       "</table>\n",
       "<p>5 rows × 37 columns</p>\n",
       "</div>"
      ],
      "text/plain": [
       "     0    1    2    3    4    5    6    7    8    9 ...    27   28   29   30  \\\n",
       "0  0.0  1.0  1.0  0.0  0.0  0.0  0.0  0.0  0.0  0.0 ...   0.0  0.0  0.0  0.0   \n",
       "1  1.0  0.0  1.0  0.0  0.0  0.0  0.0  0.0  0.0  0.0 ...   0.0  0.0  0.0  0.0   \n",
       "2  1.0  0.0  1.0  0.0  0.0  0.0  0.0  0.0  0.0  0.0 ...   0.0  0.0  0.0  0.0   \n",
       "3  1.0  0.0  1.0  0.0  0.0  0.0  0.0  0.0  0.0  0.0 ...   0.0  0.0  0.0  0.0   \n",
       "4  1.0  0.0  1.0  0.0  0.0  0.0  0.0  0.0  0.0  0.0 ...   0.0  0.0  0.0  0.0   \n",
       "\n",
       "    31   32   33   34   35  AGE  \n",
       "0  0.0  0.0  1.0  0.0  0.0   40  \n",
       "1  0.0  0.0  1.0  0.0  0.0   31  \n",
       "2  0.0  0.0  1.0  0.0  0.0   31  \n",
       "3  0.0  0.0  1.0  0.0  0.0   26  \n",
       "4  0.0  0.0  1.0  0.0  0.0   37  \n",
       "\n",
       "[5 rows x 37 columns]"
      ]
     },
     "execution_count": 39,
     "metadata": {},
     "output_type": "execute_result"
    }
   ],
   "source": [
    "from sklearn.preprocessing import OneHotEncoder\n",
    "enc = OneHotEncoder()\n",
    "\n",
    "encFeatures1 = enc.fit_transform(Features1).toarray()\n",
    "encFeatures1 = pd.DataFrame(data=encFeatures1)\n",
    "encFeatures1[\"AGE\"] = list(FT[\"AGE\"])\n",
    "encFeatures1.head()"
   ]
  },
  {
   "cell_type": "code",
   "execution_count": 40,
   "metadata": {},
   "outputs": [],
   "source": [
    "TotalWages1 = FT[[\"TotalWages\"]]"
   ]
  },
  {
   "cell_type": "code",
   "execution_count": 41,
   "metadata": {},
   "outputs": [],
   "source": [
    "from sklearn.model_selection import train_test_split\n",
    "X_train1, X_test1, y_train1, y_test1 = train_test_split(encFeatures1, TotalWages1, random_state=33)"
   ]
  },
  {
   "cell_type": "code",
   "execution_count": 42,
   "metadata": {},
   "outputs": [],
   "source": [
    "from sklearn.tree import DecisionTreeRegressor\n",
    "Reg_tree = DecisionTreeRegressor()"
   ]
  },
  {
   "cell_type": "code",
   "execution_count": 43,
   "metadata": {},
   "outputs": [
    {
     "data": {
      "text/plain": [
       "DecisionTreeRegressor(criterion='mse', max_depth=None, max_features=None,\n",
       "           max_leaf_nodes=None, min_impurity_decrease=0.0,\n",
       "           min_impurity_split=None, min_samples_leaf=1,\n",
       "           min_samples_split=2, min_weight_fraction_leaf=0.0,\n",
       "           presort=False, random_state=None, splitter='best')"
      ]
     },
     "execution_count": 43,
     "metadata": {},
     "output_type": "execute_result"
    }
   ],
   "source": [
    "Reg_tree.fit(X_train1,y_train1)"
   ]
  },
  {
   "cell_type": "code",
   "execution_count": 44,
   "metadata": {},
   "outputs": [
    {
     "data": {
      "text/html": [
       "<div>\n",
       "<style scoped>\n",
       "    .dataframe tbody tr th:only-of-type {\n",
       "        vertical-align: middle;\n",
       "    }\n",
       "\n",
       "    .dataframe tbody tr th {\n",
       "        vertical-align: top;\n",
       "    }\n",
       "\n",
       "    .dataframe thead th {\n",
       "        text-align: right;\n",
       "    }\n",
       "</style>\n",
       "<table border=\"1\" class=\"dataframe\">\n",
       "  <thead>\n",
       "    <tr style=\"text-align: right;\">\n",
       "      <th></th>\n",
       "      <th>0</th>\n",
       "      <th>1</th>\n",
       "      <th>2</th>\n",
       "      <th>3</th>\n",
       "      <th>4</th>\n",
       "      <th>5</th>\n",
       "      <th>6</th>\n",
       "      <th>7</th>\n",
       "      <th>8</th>\n",
       "      <th>9</th>\n",
       "      <th>...</th>\n",
       "      <th>27</th>\n",
       "      <th>28</th>\n",
       "      <th>29</th>\n",
       "      <th>30</th>\n",
       "      <th>31</th>\n",
       "      <th>32</th>\n",
       "      <th>33</th>\n",
       "      <th>34</th>\n",
       "      <th>35</th>\n",
       "      <th>AGE</th>\n",
       "    </tr>\n",
       "  </thead>\n",
       "  <tbody>\n",
       "    <tr>\n",
       "      <th>125</th>\n",
       "      <td>1.0</td>\n",
       "      <td>0.0</td>\n",
       "      <td>1.0</td>\n",
       "      <td>0.0</td>\n",
       "      <td>0.0</td>\n",
       "      <td>0.0</td>\n",
       "      <td>0.0</td>\n",
       "      <td>0.0</td>\n",
       "      <td>0.0</td>\n",
       "      <td>0.0</td>\n",
       "      <td>...</td>\n",
       "      <td>0.0</td>\n",
       "      <td>0.0</td>\n",
       "      <td>0.0</td>\n",
       "      <td>0.0</td>\n",
       "      <td>0.0</td>\n",
       "      <td>0.0</td>\n",
       "      <td>1.0</td>\n",
       "      <td>0.0</td>\n",
       "      <td>0.0</td>\n",
       "      <td>44</td>\n",
       "    </tr>\n",
       "    <tr>\n",
       "      <th>228</th>\n",
       "      <td>1.0</td>\n",
       "      <td>0.0</td>\n",
       "      <td>1.0</td>\n",
       "      <td>0.0</td>\n",
       "      <td>0.0</td>\n",
       "      <td>0.0</td>\n",
       "      <td>0.0</td>\n",
       "      <td>0.0</td>\n",
       "      <td>0.0</td>\n",
       "      <td>0.0</td>\n",
       "      <td>...</td>\n",
       "      <td>0.0</td>\n",
       "      <td>0.0</td>\n",
       "      <td>0.0</td>\n",
       "      <td>0.0</td>\n",
       "      <td>0.0</td>\n",
       "      <td>1.0</td>\n",
       "      <td>0.0</td>\n",
       "      <td>0.0</td>\n",
       "      <td>0.0</td>\n",
       "      <td>37</td>\n",
       "    </tr>\n",
       "    <tr>\n",
       "      <th>2335</th>\n",
       "      <td>0.0</td>\n",
       "      <td>1.0</td>\n",
       "      <td>0.0</td>\n",
       "      <td>0.0</td>\n",
       "      <td>0.0</td>\n",
       "      <td>0.0</td>\n",
       "      <td>0.0</td>\n",
       "      <td>0.0</td>\n",
       "      <td>0.0</td>\n",
       "      <td>0.0</td>\n",
       "      <td>...</td>\n",
       "      <td>0.0</td>\n",
       "      <td>0.0</td>\n",
       "      <td>0.0</td>\n",
       "      <td>0.0</td>\n",
       "      <td>0.0</td>\n",
       "      <td>0.0</td>\n",
       "      <td>1.0</td>\n",
       "      <td>0.0</td>\n",
       "      <td>0.0</td>\n",
       "      <td>31</td>\n",
       "    </tr>\n",
       "    <tr>\n",
       "      <th>726</th>\n",
       "      <td>0.0</td>\n",
       "      <td>1.0</td>\n",
       "      <td>0.0</td>\n",
       "      <td>0.0</td>\n",
       "      <td>0.0</td>\n",
       "      <td>0.0</td>\n",
       "      <td>0.0</td>\n",
       "      <td>0.0</td>\n",
       "      <td>1.0</td>\n",
       "      <td>0.0</td>\n",
       "      <td>...</td>\n",
       "      <td>0.0</td>\n",
       "      <td>0.0</td>\n",
       "      <td>0.0</td>\n",
       "      <td>0.0</td>\n",
       "      <td>0.0</td>\n",
       "      <td>0.0</td>\n",
       "      <td>1.0</td>\n",
       "      <td>0.0</td>\n",
       "      <td>0.0</td>\n",
       "      <td>30</td>\n",
       "    </tr>\n",
       "    <tr>\n",
       "      <th>1113</th>\n",
       "      <td>1.0</td>\n",
       "      <td>0.0</td>\n",
       "      <td>0.0</td>\n",
       "      <td>0.0</td>\n",
       "      <td>0.0</td>\n",
       "      <td>0.0</td>\n",
       "      <td>0.0</td>\n",
       "      <td>0.0</td>\n",
       "      <td>0.0</td>\n",
       "      <td>0.0</td>\n",
       "      <td>...</td>\n",
       "      <td>0.0</td>\n",
       "      <td>0.0</td>\n",
       "      <td>0.0</td>\n",
       "      <td>0.0</td>\n",
       "      <td>0.0</td>\n",
       "      <td>0.0</td>\n",
       "      <td>1.0</td>\n",
       "      <td>0.0</td>\n",
       "      <td>0.0</td>\n",
       "      <td>53</td>\n",
       "    </tr>\n",
       "  </tbody>\n",
       "</table>\n",
       "<p>5 rows × 37 columns</p>\n",
       "</div>"
      ],
      "text/plain": [
       "        0    1    2    3    4    5    6    7    8    9 ...    27   28   29  \\\n",
       "125   1.0  0.0  1.0  0.0  0.0  0.0  0.0  0.0  0.0  0.0 ...   0.0  0.0  0.0   \n",
       "228   1.0  0.0  1.0  0.0  0.0  0.0  0.0  0.0  0.0  0.0 ...   0.0  0.0  0.0   \n",
       "2335  0.0  1.0  0.0  0.0  0.0  0.0  0.0  0.0  0.0  0.0 ...   0.0  0.0  0.0   \n",
       "726   0.0  1.0  0.0  0.0  0.0  0.0  0.0  0.0  1.0  0.0 ...   0.0  0.0  0.0   \n",
       "1113  1.0  0.0  0.0  0.0  0.0  0.0  0.0  0.0  0.0  0.0 ...   0.0  0.0  0.0   \n",
       "\n",
       "       30   31   32   33   34   35  AGE  \n",
       "125   0.0  0.0  0.0  1.0  0.0  0.0   44  \n",
       "228   0.0  0.0  1.0  0.0  0.0  0.0   37  \n",
       "2335  0.0  0.0  0.0  1.0  0.0  0.0   31  \n",
       "726   0.0  0.0  0.0  1.0  0.0  0.0   30  \n",
       "1113  0.0  0.0  0.0  1.0  0.0  0.0   53  \n",
       "\n",
       "[5 rows x 37 columns]"
      ]
     },
     "execution_count": 44,
     "metadata": {},
     "output_type": "execute_result"
    }
   ],
   "source": [
    "X_test1.head()"
   ]
  },
  {
   "cell_type": "code",
   "execution_count": 45,
   "metadata": {},
   "outputs": [
    {
     "data": {
      "text/plain": [
       "array([ 880.        , 1125.        ,  372.22222222,  358.33333333,\n",
       "        520.4       ,  495.06666667,  418.57142857,  720.        ,\n",
       "        330.        ,  400.        ,  601.2       ,  382.        ,\n",
       "        400.        ,  640.        ,  333.5       ,  574.8       ,\n",
       "        345.        ,  410.        ,  314.44444444,  508.212     ,\n",
       "        376.        ,  423.33333333,  540.        ,  448.57142857,\n",
       "        448.        ,  842.        ,  400.        ,  500.        ,\n",
       "        358.        ,  421.42857143,  350.        ,  360.        ,\n",
       "        380.        ,  542.11428571,  550.        ,  372.22222222,\n",
       "        960.        ,  448.88888889,  374.        ,  406.66666667,\n",
       "        360.        ,  655.6       ,  429.11111111,  455.        ,\n",
       "        326.66666667,  400.        ,  336.66666667,  440.        ,\n",
       "        378.        ,  429.11111111,  420.        ,  740.        ,\n",
       "        354.33333333,  660.        ,  444.66666667,  360.        ,\n",
       "        480.        ,  420.        ,  426.        ,  373.33333333,\n",
       "        350.        ,  378.        ,  470.        ,  392.33333333,\n",
       "        475.        ,  500.        ,  350.        ,  315.        ,\n",
       "        340.88888889,  478.26666667,  377.2       ,  400.        ,\n",
       "        350.        ,  448.        ,  353.33333333,  680.        ,\n",
       "        492.1       ,  690.        ,  381.42857143,  365.        ,\n",
       "       1250.        ,  460.        ,  356.        ,  466.66666667,\n",
       "        357.5       ,  381.42857143,  475.        ,  492.1       ,\n",
       "        467.36      ,  381.42857143, 1294.6       ,  355.        ,\n",
       "        420.        ,  480.        ,  356.66666667,  400.        ,\n",
       "        660.        ,  422.11428571,  485.71428571,  420.        ,\n",
       "        496.66666667,  504.93333333,  318.        ,  751.2       ,\n",
       "        300.        ,  320.        ,  435.66666667,  380.        ,\n",
       "        365.        ,  480.        ,  406.66666667,  481.25      ,\n",
       "        374.        ,  300.        ,  375.45      ,  451.        ,\n",
       "        440.        ,  420.        ,  365.2       ,  309.33333333,\n",
       "        440.        ,  395.        ,  503.04      ,  467.64      ,\n",
       "        576.8       ,  340.        ,  411.06666667,  435.        ,\n",
       "        640.        ,  413.33333333,  320.        ,  658.53333333,\n",
       "        467.        ,  378.        ,  437.5       ,  360.        ,\n",
       "        392.33333333,  313.5       ,  395.        ,  370.        ,\n",
       "        480.        ,  320.        ,  360.        ,  519.3       ,\n",
       "        360.        ,  809.2       ,  400.        ,  290.        ,\n",
       "        374.93333333,  310.        ,  376.66666667,  474.3       ,\n",
       "        420.        ,  440.        ,  620.        ,  327.5       ,\n",
       "        480.        ,  880.        ,  436.        ,  290.        ,\n",
       "        420.        ,  290.        ,  360.        ,  340.        ,\n",
       "        520.        ,  420.        ,  420.        ,  345.        ,\n",
       "        525.4       ,  474.3       ,  373.33333333,  350.        ,\n",
       "        467.36      ,  440.        ,  451.        ,  345.        ,\n",
       "        400.        ,  448.88888889, 1040.        ,  680.        ,\n",
       "        360.        ,  350.        ,  564.        ,  320.        ,\n",
       "        442.6       ,  478.26666667,  310.        ,  350.        ,\n",
       "        358.        ,  317.5       ,  360.        ,  357.14285714,\n",
       "        340.        ,  600.        ,  315.        ,  440.        ,\n",
       "        467.        ,  309.33333333,  415.        ,  360.        ,\n",
       "        320.        ,  400.        ,  440.        ,  395.68      ,\n",
       "        421.42857143,  466.66666667,  404.        ,  340.        ,\n",
       "        360.        ,  717.4       ,  330.        ,  290.        ,\n",
       "        422.5       ,  380.        ,  392.33333333,  360.        ,\n",
       "        350.        ,  346.66666667,  440.        ,  320.        ,\n",
       "        404.        ,  600.        ,  360.        ,  395.        ,\n",
       "        400.        ,  373.33333333,  416.72      ,  874.8       ,\n",
       "        400.        ,  560.        ,  455.        ,  900.        ,\n",
       "        520.4       ,  448.        ,  377.2       ,  610.24      ,\n",
       "        320.        ,  454.        ,  640.        ,  290.        ,\n",
       "        920.        ,  320.        ,  690.        ,  356.66666667,\n",
       "        577.8       ,  840.        ,  416.66666667,  601.2       ,\n",
       "        342.        ,  525.4       ,  407.5       ,  350.        ,\n",
       "        350.        ,  354.33333333,  900.        ,  540.        ,\n",
       "        440.        ,  350.        ,  480.        ,  345.        ,\n",
       "        440.        ,  374.8       ,  384.        ,  381.42857143,\n",
       "        355.        ,  437.5       ,  613.6       ,  660.        ,\n",
       "        460.        , 1186.4       ,  400.        ,  371.875     ,\n",
       "        440.        ,  378.        ,  320.        ,  361.66666667,\n",
       "        600.        ,  320.        , 1200.        ,  648.2       ,\n",
       "        400.        ,  455.        ,  446.8       ,  395.        ,\n",
       "        320.        ,  451.6       ,  390.        ,  466.66666667,\n",
       "        959.73333333,  447.14285714,  385.        ,  400.        ,\n",
       "        845.1       ,  740.        ,  380.        ,  360.        ,\n",
       "        400.        ,  310.        ,  447.14285714,  317.5       ,\n",
       "        320.        ,  760.        ,  400.        ,  313.5       ,\n",
       "        400.        ,  374.        ,  480.        ,  448.88888889,\n",
       "        422.11428571,  348.75      ,  720.        ,  640.        ,\n",
       "        418.7       ,  416.72      ,  356.66666667,  426.66666667,\n",
       "        378.        ,  373.33333333,  418.        ,  440.        ,\n",
       "        295.        ,  455.        ,  334.        ,  471.04      ,\n",
       "        310.        ,  387.5       ,  422.11428571,  480.        ,\n",
       "        360.        ,  572.        ,  712.        ,  490.        ,\n",
       "        374.        ,  455.        ,  356.66666667,  406.66666667,\n",
       "        320.        ,  601.6       ,  440.        ,  350.        ,\n",
       "        520.        ,  323.33333333,  349.        ,  400.        ,\n",
       "        525.        ,  334.        ,  440.        ,  507.5       ,\n",
       "        400.        ,  358.        ,  655.6       ,  452.        ,\n",
       "        460.        ,  356.66666667,  320.        ,  380.        ,\n",
       "        320.        ,  360.        ,  390.        ,  350.        ,\n",
       "        446.        ,  290.        ,  640.        ,  640.        ,\n",
       "        393.33333333,  320.        ,  360.        ,  354.33333333,\n",
       "        600.        ,  360.        ,  438.        ,  428.33333333,\n",
       "        372.5       ,  355.        ,  350.        ,  467.        ,\n",
       "        361.        ,  424.        ,  777.2       ,  352.5       ,\n",
       "        360.        ,  373.33333333,  475.        ,  349.        ,\n",
       "        320.        ,  309.33333333,  382.2       ,  350.        ,\n",
       "        310.        ,  360.        ,  640.        ,  363.33333333,\n",
       "        751.2       ,  440.        ,  440.        ,  376.        ,\n",
       "        600.        ,  380.        ,  360.        ,  574.8       ,\n",
       "        393.33333333,  600.        ,  420.        ,  480.        ,\n",
       "        320.        ,  665.4       ,  504.93333333,  620.        ,\n",
       "        381.66666667, 1294.6       ,  380.        ,  400.        ,\n",
       "        960.        ,  320.        ,  290.        ,  360.        ,\n",
       "        524.        ,  447.14285714, 1304.        ,  420.        ,\n",
       "        379.66666667,  760.        ,  720.        ,  422.5       ,\n",
       "        545.6       ,  346.66666667,  560.        ,  540.        ,\n",
       "        376.66666667,  320.        ,  637.5       ,  500.        ,\n",
       "        744.        ,  456.64      ,  480.        ,  290.        ,\n",
       "        309.33333333,  448.        ,  400.        ,  320.        ,\n",
       "        420.        ,  373.33333333,  390.        ,  663.2       ,\n",
       "        467.36      ,  380.        ,  420.        ,  480.        ,\n",
       "        374.        , 1078.8       ,  446.8       ,  400.        ,\n",
       "        400.        ,  340.        ,  363.33333333,  581.9       ,\n",
       "        376.        ,  360.        ,  340.88888889,  380.        ,\n",
       "        320.        ,  350.        ,  658.53333333,  320.        ,\n",
       "        355.        ,  435.66666667,  416.66666667,  290.        ,\n",
       "        353.33333333,  540.        ,  410.        ,  362.        ,\n",
       "        350.        ,  366.        ,  610.24      ,  413.33333333,\n",
       "        315.        ,  360.        ,  338.33333333,  540.        ,\n",
       "        366.        ,  500.        ,  700.        ,  400.        ,\n",
       "        448.57142857,  390.        ,  960.        ,  340.        ,\n",
       "        435.        ,  400.        ,  520.        ,  600.        ,\n",
       "        498.52      ,  618.4       ,  480.        ,  434.        ,\n",
       "        378.        ,  575.2       ,  380.        ,  350.        ,\n",
       "        544.        ,  290.        ,  620.        ,  400.        ,\n",
       "        840.        ,  402.4       ,  600.        , 1407.6       ,\n",
       "        486.08      , 1000.        ,  390.8       ,  350.        ,\n",
       "        379.66666667,  416.66666667,  604.6       ,  320.        ,\n",
       "        376.66666667,  400.        ,  519.3       ,  384.        ,\n",
       "        377.5       ,  375.45      ,  440.        ,  452.6       ,\n",
       "        340.        ,  340.        , 1200.        ,  435.2       ,\n",
       "        370.        ,  320.        ,  380.        ,  444.66666667,\n",
       "        322.5       ,  492.        ,  333.5       ,  314.44444444,\n",
       "        320.        ,  391.6       ,  880.        ,  295.        ,\n",
       "        446.        ,  360.        ,  440.        ,  500.        ,\n",
       "        552.        ,  498.52      ,  360.        ,  440.        ,\n",
       "        381.66666667,  552.        ,  600.        ,  440.        ,\n",
       "        759.73333333,  495.06666667,  385.        ,  340.        ,\n",
       "        467.36      ,  320.        ,  581.        ,  360.        ,\n",
       "        475.4       ,  350.        ,  348.75      ,  355.        ,\n",
       "        460.        ,  460.        ,  601.6       ,  405.33333333,\n",
       "        451.        ,  320.        ,  391.23076923, 1407.6       ,\n",
       "        480.        ,  600.        ,  440.        , 1040.        ,\n",
       "        383.33333333, 1294.6       ,  400.        ,  385.        ,\n",
       "        379.66666667,  376.66666667,  334.        ,  374.        ,\n",
       "        326.66666667,  452.87418182,  400.        ,  490.        ,\n",
       "        290.        ,  362.57142857,  405.        ,  410.        ,\n",
       "        525.4       ,  345.        ,  320.        ,  355.        ,\n",
       "        340.        ,  370.        ,  440.        ,  330.        ,\n",
       "        520.        ,  440.        ,  960.        ,  393.33333333,\n",
       "        385.        ,  880.        ,  383.75      ,  372.22222222,\n",
       "        380.        ,  333.5       ,  380.        ,  360.        ,\n",
       "        402.4       ,  500.        ,  353.33333333,  353.33333333,\n",
       "        809.2       ,  400.        ,  520.4       ,  575.2       ,\n",
       "        340.        ,  455.        ,  500.        ,  395.        ,\n",
       "        350.        ,  420.        ,  370.        ,  604.6       ,\n",
       "        508.212     ,  431.42857143,  525.4       ,  451.        ,\n",
       "        420.        ,  404.        ,  660.        ,  310.        ,\n",
       "        379.66666667,  480.        ,  475.4       ,  350.        ,\n",
       "        318.57142857,  470.        ,  466.66666667,  395.        ,\n",
       "        490.        ,  413.33333333,  429.11111111,  680.        ,\n",
       "        490.        ,  411.06666667,  600.        ,  405.        ,\n",
       "        320.        ,  340.        ,  342.        ,  422.11428571,\n",
       "        400.        ,  326.        ,  400.        ,  504.93333333,\n",
       "        383.33333333,  520.        ,  362.57142857,  360.        ,\n",
       "        356.        ,  480.        ,  373.33333333,  416.66666667,\n",
       "        600.        ,  467.5       ,  452.6       ,  480.        ,\n",
       "        386.66666667,  422.11428571,  361.66666667,  620.        ,\n",
       "        435.        ,  920.        ,  400.        , 1040.        ,\n",
       "        421.42857143,  421.42857143,  360.        ,  360.        ,\n",
       "        338.33333333,  358.        ,  360.        ,  460.        ,\n",
       "        377.2       ,  320.        ,  500.        ,  455.        ,\n",
       "        507.5       ,  315.        ,  489.46666667,  620.        ,\n",
       "        440.        ,  446.66666667,  335.        ,  553.8       ,\n",
       "        350.        ,  446.66666667,  364.        ,  300.        ,\n",
       "        744.        ,  365.6       ,  354.33333333,  383.33333333,\n",
       "        492.        ,  350.        ,  418.        ,  358.        ,\n",
       "       1000.        ,  340.        ,  382.        ,  390.        ,\n",
       "        290.        ,  360.        ,  553.8       ,  840.        ,\n",
       "        760.        ,  500.        ,  446.875     ,  428.88888889,\n",
       "        360.        ,  381.66666667,  320.        ,  355.        ,\n",
       "        317.5       ,  437.5       ,  400.        ,  552.6       ,\n",
       "        660.        ,  474.3       ,  380.        ,  648.2       ,\n",
       "        600.        ,  367.5       ,  395.        ,  337.        ,\n",
       "        687.06666667,  320.        ,  480.        ,  416.66666667,\n",
       "        290.        ,  349.6       ,  405.        ,  485.        ,\n",
       "        460.        ,  345.        ,  362.        ,  960.        ,\n",
       "        400.        ,  720.        ,  400.        ,  318.        ,\n",
       "        452.87418182,  540.        ,  560.        ,  400.        ,\n",
       "        948.4       ,  318.57142857,  425.2       ,  400.        ,\n",
       "        480.        ,  680.        ,  400.        ,  880.        ,\n",
       "        345.        ,  300.        ,  470.        ,  360.        ,\n",
       "        712.        ,  800.        ,  360.        ,  350.        ,\n",
       "        350.        ,  425.        ,  575.2       ,  346.66666667,\n",
       "        400.        ,  390.        , 1000.        ,  418.57142857,\n",
       "        343.33333333,  380.        ,  385.        ,  405.33333333,\n",
       "        395.        ,  440.        ,  466.64      , 1760.        ,\n",
       "        357.14285714,  407.5       ,  540.        ,  520.        ,\n",
       "        508.212     , 1760.        , 1078.8       ,  770.        ,\n",
       "        336.66666667,  405.33333333,  320.        ,  809.2       ,\n",
       "        402.4       ,  431.42857143,  355.        ,  481.25      ,\n",
       "        467.64      ,  959.73333333,  435.        ,  384.        ,\n",
       "        400.        ,  569.2       ,  680.        ,  553.8       ,\n",
       "        440.        ,  381.66666667,  762.        ])"
      ]
     },
     "execution_count": 45,
     "metadata": {},
     "output_type": "execute_result"
    }
   ],
   "source": [
    "Reg_tree.predict(X_test1)"
   ]
  },
  {
   "cell_type": "code",
   "execution_count": 46,
   "metadata": {},
   "outputs": [
    {
     "data": {
      "text/plain": [
       "0.043898369897300005"
      ]
     },
     "execution_count": 46,
     "metadata": {},
     "output_type": "execute_result"
    }
   ],
   "source": [
    "Reg_tree.score(X_test1,y_test1)"
   ]
  },
  {
   "cell_type": "code",
   "execution_count": 47,
   "metadata": {},
   "outputs": [],
   "source": [
    "scorelist_regFTW =[]\n",
    "length_regFTW = len(scorelist_regFTW)\n",
    "\n",
    "#use for loop to list 20 scores calculated randomly by regression tree\n",
    "for length_regFTW in range(1,21):  \n",
    "    from sklearn.tree import DecisionTreeRegressor\n",
    "    Reg_tree_FTW = DecisionTreeRegressor()    \n",
    "    Reg_tree_FTW.fit(X_train1,y_train1)\n",
    "\n",
    "    scorelist_regFTW.append(Reg_tree_FTW.score(X_test1,y_test1))"
   ]
  },
  {
   "cell_type": "code",
   "execution_count": 48,
   "metadata": {},
   "outputs": [
    {
     "data": {
      "text/plain": [
       "[0.02752729284538813,\n",
       " 0.027504220984649552,\n",
       " 0.04343616980338283,\n",
       " 0.030581158390299512,\n",
       " 0.03711235093018316,\n",
       " 0.03241609095969089,\n",
       " 0.04135247378773898,\n",
       " 0.036855294539211436,\n",
       " 0.03173509927599494,\n",
       " 0.05191293517345319,\n",
       " 0.027425630345445984,\n",
       " 0.050014027334125515,\n",
       " 0.04014056870701155,\n",
       " 0.03201723359999442,\n",
       " 0.0314390576128335,\n",
       " 0.03883903312691539,\n",
       " 0.02679247456034861,\n",
       " 0.020840042422896277,\n",
       " 0.02843699775073938,\n",
       " 0.029386589307524913]"
      ]
     },
     "execution_count": 48,
     "metadata": {},
     "output_type": "execute_result"
    }
   ],
   "source": [
    "scorelist_regFTW"
   ]
  },
  {
   "cell_type": "code",
   "execution_count": 49,
   "metadata": {},
   "outputs": [
    {
     "data": {
      "text/plain": [
       "0.03428823707289141"
      ]
     },
     "execution_count": 49,
     "metadata": {},
     "output_type": "execute_result"
    }
   ],
   "source": [
    "#Compute average score\n",
    "np.mean(scorelist_regFTW)"
   ]
  },
  {
   "cell_type": "markdown",
   "metadata": {},
   "source": [
    "##### For Full-Time TotalWages, we should use linear regression model as the score of linear regression (0.35603) is higher than the average score of regression tree (0.03236)\n",
    "\n",
    "### When we have information of gender, age, position, and education, we can use multivariable linear regression model to predict wages for full-time employees. "
   ]
  },
  {
   "cell_type": "markdown",
   "metadata": {},
   "source": [
    "### 2.1.3  Part-Time TotalWages "
   ]
  },
  {
   "cell_type": "markdown",
   "metadata": {},
   "source": [
    "#### 2.1.3 a) Linear Regression"
   ]
  },
  {
   "cell_type": "code",
   "execution_count": 50,
   "metadata": {},
   "outputs": [
    {
     "data": {
      "text/plain": [
       "<matplotlib.axes._subplots.AxesSubplot at 0x1f1cbca9668>"
      ]
     },
     "execution_count": 50,
     "metadata": {},
     "output_type": "execute_result"
    },
    {
     "data": {
      "image/png": "[encoded data removed]",
      "text/plain": [
       "<Figure size 432x288 with 1 Axes>"
      ]
     },
     "metadata": {
      "needs_background": "light"
     },
     "output_type": "display_data"
    }
   ],
   "source": [
    "PT.plot.scatter(y='TotalWages',x='AGE')"
   ]
  },
  {
   "cell_type": "code",
   "execution_count": 51,
   "metadata": {},
   "outputs": [
    {
     "name": "stdout",
     "output_type": "stream",
     "text": [
      "                            OLS Regression Results                            \n",
      "==============================================================================\n",
      "Dep. Variable:             TotalWages   R-squared:                       0.221\n",
      "Model:                            OLS   Adj. R-squared:                  0.219\n",
      "Method:                 Least Squares   F-statistic:                     138.1\n",
      "Date:                Thu, 16 May 2019   Prob (F-statistic):               0.00\n",
      "Time:                        01:45:08   Log-Likelihood:                -98238.\n",
      "No. Observations:               16613   AIC:                         1.965e+05\n",
      "Df Residuals:                   16578   BIC:                         1.968e+05\n",
      "Df Model:                          34                                         \n",
      "Covariance Type:            nonrobust                                         \n",
      "=======================================================================================================\n",
      "                                          coef    std err          t      P>|t|      [0.025      0.975]\n",
      "-------------------------------------------------------------------------------------------------------\n",
      "Intercept                             312.8936     11.352     27.562      0.000     290.642     335.145\n",
      "GENDER[T.male]                          3.0075      1.506      1.997      0.046       0.056       5.960\n",
      "EDUCATION[T.11]                        13.5516     12.648      1.071      0.284     -11.240      38.343\n",
      "EDUCATION[T.12]                         9.1553     22.202      0.412      0.680     -34.364      52.674\n",
      "EDUCATION[T.9]                         -9.0542     33.401     -0.271      0.786     -74.523      56.415\n",
      "EDUCATION[T.College]                  108.1635     11.094      9.750      0.000      86.418     129.909\n",
      "EDUCATION[T.HS Graduate]               40.0675     10.528      3.806      0.000      19.431      60.704\n",
      "EDUCATION[T.Post Graduate]            534.7921     24.185     22.112      0.000     487.386     582.198\n",
      "EDUCATION[T.Some College]             120.2649     12.041      9.988      0.000      96.662     143.868\n",
      "POSITION[T.Bank Attendent]           -103.0031     22.701     -4.537      0.000    -147.500     -58.506\n",
      "POSITION[T.Childcare]                -134.3139      6.277    -21.397      0.000    -146.618    -122.010\n",
      "POSITION[T.Construction]              -33.9372      7.967     -4.260      0.000     -49.554     -18.321\n",
      "POSITION[T.Customer Service]          -96.8482      5.118    -18.922      0.000    -106.881     -86.816\n",
      "POSITION[T.Food Service]             -143.9380      4.084    -35.244      0.000    -151.943    -135.933\n",
      "POSITION[T.General Labor]            -133.1446      7.390    -18.016      0.000    -147.630    -118.659\n",
      "POSITION[T.General Sales]             -68.2561      6.763    -10.092      0.000     -81.513     -54.999\n",
      "POSITION[T.Grocery Store Attendent]  -144.6497      6.752    -21.424      0.000    -157.884    -131.415\n",
      "POSITION[T.Hair Dresser]             -169.4499     10.340    -16.389      0.000    -189.716    -149.183\n",
      "POSITION[T.Healthcare]               -108.3047      4.214    -25.704      0.000    -116.564    -100.046\n",
      "POSITION[T.Janitorial Services]      -135.3663      4.286    -31.587      0.000    -143.766    -126.966\n",
      "POSITION[T.Leisure And Hospitality]  -106.0744      7.038    -15.072      0.000    -119.869     -92.279\n",
      "POSITION[T.Messenger]                -148.3747      7.968    -18.621      0.000    -163.993    -132.757\n",
      "POSITION[T.Other]                    -113.0094      4.320    -26.162      0.000    -121.476    -104.543\n",
      "POSITION[T.Parking Lot Attendent]    -125.6311      9.211    -13.640      0.000    -143.685    -107.578\n",
      "POSITION[T.Retail]                   -157.9162      3.996    -39.521      0.000    -165.748    -150.084\n",
      "POSITION[T.Sales]                    -150.6998     36.774     -4.098      0.000    -222.781     -78.619\n",
      "POSITION[T.Security]                 -117.6954      4.402    -26.736      0.000    -126.324    -109.067\n",
      "POSITION[T.Shipping And Receiving ]   -79.3162     14.470     -5.481      0.000    -107.679     -50.954\n",
      "POSITION[T.Social Work]                28.8185     11.952      2.411      0.016       5.392      52.245\n",
      "POSITION[T.Teacher]                   -17.4748     23.431     -0.746      0.456     -63.402      28.452\n",
      "POSITION[T.Telemarketing]            -160.3357      5.910    -27.132      0.000    -171.919    -148.752\n",
      "POSITION[T.Temp Staffing]            -121.6684      5.295    -22.979      0.000    -132.046    -111.290\n",
      "POSITION[T.Trade Work]                 25.2399     11.252      2.243      0.025       3.186      47.294\n",
      "POSITION[T.Transportation]            -99.7980      6.275    -15.905      0.000    -112.097     -87.499\n",
      "AGE                                     0.8990      0.066     13.555      0.000       0.769       1.029\n",
      "==============================================================================\n",
      "Omnibus:                     8259.763   Durbin-Watson:                   2.001\n",
      "Prob(Omnibus):                  0.000   Jarque-Bera (JB):           124512.759\n",
      "Skew:                           2.021   Prob(JB):                         0.00\n",
      "Kurtosis:                      15.788   Cond. No.                     1.98e+03\n",
      "==============================================================================\n",
      "\n",
      "Warnings:\n",
      "[1] Standard Errors assume that the covariance matrix of the errors is correctly specified.\n",
      "[2] The condition number is large, 1.98e+03. This might indicate that there are\n",
      "strong multicollinearity or other numerical problems.\n"
     ]
    }
   ],
   "source": [
    "reg_FTWages = smf.ols('TotalWages ~ AGE + GENDER + EDUCATION + POSITION ',data=PT).fit()\n",
    "print(reg_FTWages.summary())"
   ]
  },
  {
   "cell_type": "markdown",
   "metadata": {},
   "source": [
    "\n",
    "\n",
    "##### Education[9],Education[11], Education[12],Position[Teacher] is not significant since p-value is very high.\n",
    "##### Therefore, we can get that                                                                                                                                         PTWages = 0.8990 * AGE + 3.0075 * Gender - b1 * Position** - b2 * Education** + 312.8936  \n",
    "##### Positon** and Education** are categorical data, so we need to match it with different coefficient. Also, for Education with 9,11,12 and Position  with Teacher, this regression has no effect."
   ]
  },
  {
   "cell_type": "code",
   "execution_count": 52,
   "metadata": {},
   "outputs": [],
   "source": [
    "from sklearn.linear_model import LinearRegression as reg\n",
    "from patsy import dmatrices"
   ]
  },
  {
   "cell_type": "code",
   "execution_count": 53,
   "metadata": {},
   "outputs": [],
   "source": [
    "y, X = dmatrices(\"TotalWages ~ GENDER + AGE + POSITION + EDUCATION\",data = PT)"
   ]
  },
  {
   "cell_type": "code",
   "execution_count": 54,
   "metadata": {},
   "outputs": [
    {
     "data": {
      "text/plain": [
       "0.2207702619783588"
      ]
     },
     "execution_count": 54,
     "metadata": {},
     "output_type": "execute_result"
    }
   ],
   "source": [
    "reg().fit(X,y).score(X,y)"
   ]
  },
  {
   "cell_type": "markdown",
   "metadata": {},
   "source": [
    "#### 2.1.3 b) Regression Tree"
   ]
  },
  {
   "cell_type": "code",
   "execution_count": 55,
   "metadata": {},
   "outputs": [],
   "source": [
    "Features11 = PT[[\"GENDER\",\"POSITION\",\"EDUCATION\"]].values"
   ]
  },
  {
   "cell_type": "code",
   "execution_count": 56,
   "metadata": {},
   "outputs": [
    {
     "data": {
      "text/html": [
       "<div>\n",
       "<style scoped>\n",
       "    .dataframe tbody tr th:only-of-type {\n",
       "        vertical-align: middle;\n",
       "    }\n",
       "\n",
       "    .dataframe tbody tr th {\n",
       "        vertical-align: top;\n",
       "    }\n",
       "\n",
       "    .dataframe thead th {\n",
       "        text-align: right;\n",
       "    }\n",
       "</style>\n",
       "<table border=\"1\" class=\"dataframe\">\n",
       "  <thead>\n",
       "    <tr style=\"text-align: right;\">\n",
       "      <th></th>\n",
       "      <th>0</th>\n",
       "      <th>1</th>\n",
       "      <th>2</th>\n",
       "      <th>3</th>\n",
       "      <th>4</th>\n",
       "      <th>5</th>\n",
       "      <th>6</th>\n",
       "      <th>7</th>\n",
       "      <th>8</th>\n",
       "      <th>9</th>\n",
       "      <th>...</th>\n",
       "      <th>27</th>\n",
       "      <th>28</th>\n",
       "      <th>29</th>\n",
       "      <th>30</th>\n",
       "      <th>31</th>\n",
       "      <th>32</th>\n",
       "      <th>33</th>\n",
       "      <th>34</th>\n",
       "      <th>35</th>\n",
       "      <th>AGE</th>\n",
       "    </tr>\n",
       "  </thead>\n",
       "  <tbody>\n",
       "    <tr>\n",
       "      <th>0</th>\n",
       "      <td>0.0</td>\n",
       "      <td>1.0</td>\n",
       "      <td>1.0</td>\n",
       "      <td>0.0</td>\n",
       "      <td>0.0</td>\n",
       "      <td>0.0</td>\n",
       "      <td>0.0</td>\n",
       "      <td>0.0</td>\n",
       "      <td>0.0</td>\n",
       "      <td>0.0</td>\n",
       "      <td>...</td>\n",
       "      <td>0.0</td>\n",
       "      <td>0.0</td>\n",
       "      <td>0.0</td>\n",
       "      <td>0.0</td>\n",
       "      <td>0.0</td>\n",
       "      <td>0.0</td>\n",
       "      <td>1.0</td>\n",
       "      <td>0.0</td>\n",
       "      <td>0.0</td>\n",
       "      <td>29</td>\n",
       "    </tr>\n",
       "    <tr>\n",
       "      <th>1</th>\n",
       "      <td>0.0</td>\n",
       "      <td>1.0</td>\n",
       "      <td>1.0</td>\n",
       "      <td>0.0</td>\n",
       "      <td>0.0</td>\n",
       "      <td>0.0</td>\n",
       "      <td>0.0</td>\n",
       "      <td>0.0</td>\n",
       "      <td>0.0</td>\n",
       "      <td>0.0</td>\n",
       "      <td>...</td>\n",
       "      <td>0.0</td>\n",
       "      <td>0.0</td>\n",
       "      <td>0.0</td>\n",
       "      <td>0.0</td>\n",
       "      <td>0.0</td>\n",
       "      <td>0.0</td>\n",
       "      <td>1.0</td>\n",
       "      <td>0.0</td>\n",
       "      <td>0.0</td>\n",
       "      <td>50</td>\n",
       "    </tr>\n",
       "    <tr>\n",
       "      <th>2</th>\n",
       "      <td>0.0</td>\n",
       "      <td>1.0</td>\n",
       "      <td>1.0</td>\n",
       "      <td>0.0</td>\n",
       "      <td>0.0</td>\n",
       "      <td>0.0</td>\n",
       "      <td>0.0</td>\n",
       "      <td>0.0</td>\n",
       "      <td>0.0</td>\n",
       "      <td>0.0</td>\n",
       "      <td>...</td>\n",
       "      <td>0.0</td>\n",
       "      <td>0.0</td>\n",
       "      <td>0.0</td>\n",
       "      <td>0.0</td>\n",
       "      <td>0.0</td>\n",
       "      <td>0.0</td>\n",
       "      <td>1.0</td>\n",
       "      <td>0.0</td>\n",
       "      <td>0.0</td>\n",
       "      <td>50</td>\n",
       "    </tr>\n",
       "    <tr>\n",
       "      <th>3</th>\n",
       "      <td>0.0</td>\n",
       "      <td>1.0</td>\n",
       "      <td>1.0</td>\n",
       "      <td>0.0</td>\n",
       "      <td>0.0</td>\n",
       "      <td>0.0</td>\n",
       "      <td>0.0</td>\n",
       "      <td>0.0</td>\n",
       "      <td>0.0</td>\n",
       "      <td>0.0</td>\n",
       "      <td>...</td>\n",
       "      <td>0.0</td>\n",
       "      <td>0.0</td>\n",
       "      <td>0.0</td>\n",
       "      <td>0.0</td>\n",
       "      <td>0.0</td>\n",
       "      <td>0.0</td>\n",
       "      <td>1.0</td>\n",
       "      <td>0.0</td>\n",
       "      <td>0.0</td>\n",
       "      <td>50</td>\n",
       "    </tr>\n",
       "    <tr>\n",
       "      <th>4</th>\n",
       "      <td>0.0</td>\n",
       "      <td>1.0</td>\n",
       "      <td>1.0</td>\n",
       "      <td>0.0</td>\n",
       "      <td>0.0</td>\n",
       "      <td>0.0</td>\n",
       "      <td>0.0</td>\n",
       "      <td>0.0</td>\n",
       "      <td>0.0</td>\n",
       "      <td>0.0</td>\n",
       "      <td>...</td>\n",
       "      <td>0.0</td>\n",
       "      <td>0.0</td>\n",
       "      <td>0.0</td>\n",
       "      <td>0.0</td>\n",
       "      <td>0.0</td>\n",
       "      <td>0.0</td>\n",
       "      <td>1.0</td>\n",
       "      <td>0.0</td>\n",
       "      <td>0.0</td>\n",
       "      <td>26</td>\n",
       "    </tr>\n",
       "  </tbody>\n",
       "</table>\n",
       "<p>5 rows × 37 columns</p>\n",
       "</div>"
      ],
      "text/plain": [
       "     0    1    2    3    4    5    6    7    8    9 ...    27   28   29   30  \\\n",
       "0  0.0  1.0  1.0  0.0  0.0  0.0  0.0  0.0  0.0  0.0 ...   0.0  0.0  0.0  0.0   \n",
       "1  0.0  1.0  1.0  0.0  0.0  0.0  0.0  0.0  0.0  0.0 ...   0.0  0.0  0.0  0.0   \n",
       "2  0.0  1.0  1.0  0.0  0.0  0.0  0.0  0.0  0.0  0.0 ...   0.0  0.0  0.0  0.0   \n",
       "3  0.0  1.0  1.0  0.0  0.0  0.0  0.0  0.0  0.0  0.0 ...   0.0  0.0  0.0  0.0   \n",
       "4  0.0  1.0  1.0  0.0  0.0  0.0  0.0  0.0  0.0  0.0 ...   0.0  0.0  0.0  0.0   \n",
       "\n",
       "    31   32   33   34   35  AGE  \n",
       "0  0.0  0.0  1.0  0.0  0.0   29  \n",
       "1  0.0  0.0  1.0  0.0  0.0   50  \n",
       "2  0.0  0.0  1.0  0.0  0.0   50  \n",
       "3  0.0  0.0  1.0  0.0  0.0   50  \n",
       "4  0.0  0.0  1.0  0.0  0.0   26  \n",
       "\n",
       "[5 rows x 37 columns]"
      ]
     },
     "execution_count": 56,
     "metadata": {},
     "output_type": "execute_result"
    }
   ],
   "source": [
    "from sklearn.preprocessing import OneHotEncoder\n",
    "enc = OneHotEncoder()\n",
    "\n",
    "encFeatures11 = enc.fit_transform(Features11).toarray()\n",
    "encFeatures11 = pd.DataFrame(data=encFeatures11)\n",
    "encFeatures11[\"AGE\"] = list(PT[\"AGE\"])\n",
    "encFeatures11.head()"
   ]
  },
  {
   "cell_type": "code",
   "execution_count": 57,
   "metadata": {},
   "outputs": [],
   "source": [
    "TotalWages11 = PT[[\"TotalWages\"]]"
   ]
  },
  {
   "cell_type": "code",
   "execution_count": 58,
   "metadata": {},
   "outputs": [],
   "source": [
    "X_train11, X_test11, y_train11, y_test11 = train_test_split(encFeatures11, TotalWages11, random_state=33)"
   ]
  },
  {
   "cell_type": "code",
   "execution_count": 59,
   "metadata": {},
   "outputs": [],
   "source": [
    "from sklearn.tree import DecisionTreeRegressor\n",
    "Reg_tree = DecisionTreeRegressor()"
   ]
  },
  {
   "cell_type": "code",
   "execution_count": 60,
   "metadata": {},
   "outputs": [
    {
     "data": {
      "text/plain": [
       "DecisionTreeRegressor(criterion='mse', max_depth=None, max_features=None,\n",
       "           max_leaf_nodes=None, min_impurity_decrease=0.0,\n",
       "           min_impurity_split=None, min_samples_leaf=1,\n",
       "           min_samples_split=2, min_weight_fraction_leaf=0.0,\n",
       "           presort=False, random_state=None, splitter='best')"
      ]
     },
     "execution_count": 60,
     "metadata": {},
     "output_type": "execute_result"
    }
   ],
   "source": [
    "Reg_tree.fit(X_train11,y_train11)"
   ]
  },
  {
   "cell_type": "code",
   "execution_count": 61,
   "metadata": {},
   "outputs": [
    {
     "data": {
      "text/plain": [
       "array([296.21428571, 231.58474576, 300.16578947, ..., 256.89864865,\n",
       "       270.        , 248.33333333])"
      ]
     },
     "execution_count": 61,
     "metadata": {},
     "output_type": "execute_result"
    }
   ],
   "source": [
    "Reg_tree.predict(X_test11)"
   ]
  },
  {
   "cell_type": "code",
   "execution_count": 62,
   "metadata": {},
   "outputs": [
    {
     "data": {
      "text/plain": [
       "0.07937481714160155"
      ]
     },
     "execution_count": 62,
     "metadata": {},
     "output_type": "execute_result"
    }
   ],
   "source": [
    "Reg_tree.score(X_test11,y_test11)"
   ]
  },
  {
   "cell_type": "code",
   "execution_count": 63,
   "metadata": {},
   "outputs": [],
   "source": [
    "scorelist_regPTW =[]\n",
    "length_regPTW = len(scorelist_regPTW)\n",
    "\n",
    "#use for loop to list 10 scores calculated randomly by regression tree\n",
    "for length_regFTW in range(1,11):\n",
    "    from sklearn.tree import DecisionTreeRegressor\n",
    "    Reg_tree_PTW = DecisionTreeRegressor()    \n",
    "    Reg_tree_PTW.fit(X_train11,y_train11)\n",
    "\n",
    "    scorelist_regPTW.append(Reg_tree_PTW.score(X_test11,y_test11))"
   ]
  },
  {
   "cell_type": "code",
   "execution_count": 64,
   "metadata": {},
   "outputs": [
    {
     "data": {
      "text/plain": [
       "[0.07934631995016694,\n",
       " 0.08669430852120619,\n",
       " 0.07825914764209674,\n",
       " 0.07901581830750459,\n",
       " 0.0788064435575816,\n",
       " 0.07667102083053812,\n",
       " 0.07785691672695771,\n",
       " 0.07744153430913048,\n",
       " 0.07903573359430072,\n",
       " 0.07897350635520428]"
      ]
     },
     "execution_count": 64,
     "metadata": {},
     "output_type": "execute_result"
    }
   ],
   "source": [
    "scorelist_regPTW "
   ]
  },
  {
   "cell_type": "code",
   "execution_count": 65,
   "metadata": {},
   "outputs": [
    {
     "data": {
      "text/plain": [
       "0.07921007497946873"
      ]
     },
     "execution_count": 65,
     "metadata": {},
     "output_type": "execute_result"
    }
   ],
   "source": [
    "#Compute average score\n",
    "np.mean(scorelist_regPTW )"
   ]
  },
  {
   "cell_type": "markdown",
   "metadata": {},
   "source": [
    "##### For Part-Time TotalWages, we should use linear regression model as the score of linear regression (0.22077) is higher than the average score of regression tree (0.08243)\n",
    "\n",
    "### When we have information of gender, age, position, and education, we can use multivariable linear regression model to predict wages for part-time employees.\n"
   ]
  },
  {
   "cell_type": "markdown",
   "metadata": {},
   "source": [
    "##### For conclusion, we create a table for complete comparison of each Model for Numerical Data:"
   ]
  },
  {
   "cell_type": "code",
   "execution_count": 66,
   "metadata": {},
   "outputs": [
    {
     "data": {
      "text/html": [
       "<div>\n",
       "<style scoped>\n",
       "    .dataframe tbody tr th:only-of-type {\n",
       "        vertical-align: middle;\n",
       "    }\n",
       "\n",
       "    .dataframe tbody tr th {\n",
       "        vertical-align: top;\n",
       "    }\n",
       "\n",
       "    .dataframe thead th {\n",
       "        text-align: right;\n",
       "    }\n",
       "</style>\n",
       "<table border=\"1\" class=\"dataframe\">\n",
       "  <thead>\n",
       "    <tr style=\"text-align: right;\">\n",
       "      <th>Prediction</th>\n",
       "      <th>Full-Time TotalWages</th>\n",
       "      <th>Part-Time TotalWages</th>\n",
       "    </tr>\n",
       "  </thead>\n",
       "  <tbody>\n",
       "    <tr>\n",
       "      <th>Linear Regression</th>\n",
       "      <td>0.35603</td>\n",
       "      <td>0.22077</td>\n",
       "    </tr>\n",
       "    <tr>\n",
       "      <th>Regression Tree</th>\n",
       "      <td>0.03236</td>\n",
       "      <td>0.08243</td>\n",
       "    </tr>\n",
       "  </tbody>\n",
       "</table>\n",
       "</div>"
      ],
      "text/plain": [
       "Prediction         Full-Time TotalWages  Part-Time TotalWages\n",
       "Linear Regression               0.35603               0.22077\n",
       "Regression Tree                 0.03236               0.08243"
      ]
     },
     "execution_count": 66,
     "metadata": {},
     "output_type": "execute_result"
    }
   ],
   "source": [
    "scoreTable = {'Linear Regression': [0.35603,0.22077],\n",
    "'Regression Tree': [0.03236,0.08243]}\n",
    "scoreTable = pd.DataFrame(scoreTable)\n",
    "scoreTable[\"Prediction\"] = list([\"Full-Time TotalWages\",\"Part-Time TotalWages\"])\n",
    "scoreTable = scoreTable.set_index(\"Prediction\")\n",
    "scoreTable.T"
   ]
  },
  {
   "cell_type": "markdown",
   "metadata": {},
   "source": [
    "## 2.2 Prediction for Categorical Data  "
   ]
  },
  {
   "cell_type": "markdown",
   "metadata": {},
   "source": [
    "##### There are 4 categorical data we can predict: Full-time Education, Full-time Position, Part-time Education, Part-time Position. Since the codes of Full-time Education and Part-time Education are almost the same, as well as the codes of Full-time Position and Part-time Position are almost the same, we just chose Full-time Education and Part-time Position as an illustration. "
   ]
  },
  {
   "cell_type": "markdown",
   "metadata": {},
   "source": [
    "### 2.2.1 Full-Time Education"
   ]
  },
  {
   "cell_type": "markdown",
   "metadata": {},
   "source": [
    "#### 2.2.1 a) Logistic Regression"
   ]
  },
  {
   "cell_type": "code",
   "execution_count": 67,
   "metadata": {},
   "outputs": [],
   "source": [
    "from sklearn.preprocessing import OneHotEncoder   # Use this one to transfer categorical data into dummy variable"
   ]
  },
  {
   "cell_type": "code",
   "execution_count": 68,
   "metadata": {},
   "outputs": [
    {
     "data": {
      "text/plain": [
       "array([['male', 'Administrative'],\n",
       "       ['female', 'Administrative'],\n",
       "       ['female', 'Administrative'],\n",
       "       ...,\n",
       "       ['male', 'Transportation'],\n",
       "       ['female', 'Transportation'],\n",
       "       ['female', 'Transportation']], dtype=object)"
      ]
     },
     "execution_count": 68,
     "metadata": {},
     "output_type": "execute_result"
    }
   ],
   "source": [
    "Features2 = FT[[\"GENDER\",\"POSITION\"]].values\n",
    "Features2"
   ]
  },
  {
   "cell_type": "code",
   "execution_count": 69,
   "metadata": {},
   "outputs": [
    {
     "data": {
      "text/html": [
       "<div>\n",
       "<style scoped>\n",
       "    .dataframe tbody tr th:only-of-type {\n",
       "        vertical-align: middle;\n",
       "    }\n",
       "\n",
       "    .dataframe tbody tr th {\n",
       "        vertical-align: top;\n",
       "    }\n",
       "\n",
       "    .dataframe thead th {\n",
       "        text-align: right;\n",
       "    }\n",
       "</style>\n",
       "<table border=\"1\" class=\"dataframe\">\n",
       "  <thead>\n",
       "    <tr style=\"text-align: right;\">\n",
       "      <th></th>\n",
       "      <th>0</th>\n",
       "      <th>1</th>\n",
       "      <th>2</th>\n",
       "      <th>3</th>\n",
       "      <th>4</th>\n",
       "      <th>5</th>\n",
       "      <th>6</th>\n",
       "      <th>7</th>\n",
       "      <th>8</th>\n",
       "      <th>9</th>\n",
       "      <th>...</th>\n",
       "      <th>21</th>\n",
       "      <th>22</th>\n",
       "      <th>23</th>\n",
       "      <th>24</th>\n",
       "      <th>25</th>\n",
       "      <th>26</th>\n",
       "      <th>27</th>\n",
       "      <th>28</th>\n",
       "      <th>AGE</th>\n",
       "      <th>TotalWages</th>\n",
       "    </tr>\n",
       "  </thead>\n",
       "  <tbody>\n",
       "    <tr>\n",
       "      <th>0</th>\n",
       "      <td>0.0</td>\n",
       "      <td>1.0</td>\n",
       "      <td>1.0</td>\n",
       "      <td>0.0</td>\n",
       "      <td>0.0</td>\n",
       "      <td>0.0</td>\n",
       "      <td>0.0</td>\n",
       "      <td>0.0</td>\n",
       "      <td>0.0</td>\n",
       "      <td>0.0</td>\n",
       "      <td>...</td>\n",
       "      <td>0.0</td>\n",
       "      <td>0.0</td>\n",
       "      <td>0.0</td>\n",
       "      <td>0.0</td>\n",
       "      <td>0.0</td>\n",
       "      <td>0.0</td>\n",
       "      <td>0.0</td>\n",
       "      <td>0.0</td>\n",
       "      <td>40</td>\n",
       "      <td>556.8</td>\n",
       "    </tr>\n",
       "    <tr>\n",
       "      <th>1</th>\n",
       "      <td>1.0</td>\n",
       "      <td>0.0</td>\n",
       "      <td>1.0</td>\n",
       "      <td>0.0</td>\n",
       "      <td>0.0</td>\n",
       "      <td>0.0</td>\n",
       "      <td>0.0</td>\n",
       "      <td>0.0</td>\n",
       "      <td>0.0</td>\n",
       "      <td>0.0</td>\n",
       "      <td>...</td>\n",
       "      <td>0.0</td>\n",
       "      <td>0.0</td>\n",
       "      <td>0.0</td>\n",
       "      <td>0.0</td>\n",
       "      <td>0.0</td>\n",
       "      <td>0.0</td>\n",
       "      <td>0.0</td>\n",
       "      <td>0.0</td>\n",
       "      <td>31</td>\n",
       "      <td>480.0</td>\n",
       "    </tr>\n",
       "    <tr>\n",
       "      <th>2</th>\n",
       "      <td>1.0</td>\n",
       "      <td>0.0</td>\n",
       "      <td>1.0</td>\n",
       "      <td>0.0</td>\n",
       "      <td>0.0</td>\n",
       "      <td>0.0</td>\n",
       "      <td>0.0</td>\n",
       "      <td>0.0</td>\n",
       "      <td>0.0</td>\n",
       "      <td>0.0</td>\n",
       "      <td>...</td>\n",
       "      <td>0.0</td>\n",
       "      <td>0.0</td>\n",
       "      <td>0.0</td>\n",
       "      <td>0.0</td>\n",
       "      <td>0.0</td>\n",
       "      <td>0.0</td>\n",
       "      <td>0.0</td>\n",
       "      <td>0.0</td>\n",
       "      <td>31</td>\n",
       "      <td>480.0</td>\n",
       "    </tr>\n",
       "    <tr>\n",
       "      <th>3</th>\n",
       "      <td>1.0</td>\n",
       "      <td>0.0</td>\n",
       "      <td>1.0</td>\n",
       "      <td>0.0</td>\n",
       "      <td>0.0</td>\n",
       "      <td>0.0</td>\n",
       "      <td>0.0</td>\n",
       "      <td>0.0</td>\n",
       "      <td>0.0</td>\n",
       "      <td>0.0</td>\n",
       "      <td>...</td>\n",
       "      <td>0.0</td>\n",
       "      <td>0.0</td>\n",
       "      <td>0.0</td>\n",
       "      <td>0.0</td>\n",
       "      <td>0.0</td>\n",
       "      <td>0.0</td>\n",
       "      <td>0.0</td>\n",
       "      <td>0.0</td>\n",
       "      <td>26</td>\n",
       "      <td>400.0</td>\n",
       "    </tr>\n",
       "    <tr>\n",
       "      <th>4</th>\n",
       "      <td>1.0</td>\n",
       "      <td>0.0</td>\n",
       "      <td>1.0</td>\n",
       "      <td>0.0</td>\n",
       "      <td>0.0</td>\n",
       "      <td>0.0</td>\n",
       "      <td>0.0</td>\n",
       "      <td>0.0</td>\n",
       "      <td>0.0</td>\n",
       "      <td>0.0</td>\n",
       "      <td>...</td>\n",
       "      <td>0.0</td>\n",
       "      <td>0.0</td>\n",
       "      <td>0.0</td>\n",
       "      <td>0.0</td>\n",
       "      <td>0.0</td>\n",
       "      <td>0.0</td>\n",
       "      <td>0.0</td>\n",
       "      <td>0.0</td>\n",
       "      <td>37</td>\n",
       "      <td>520.0</td>\n",
       "    </tr>\n",
       "  </tbody>\n",
       "</table>\n",
       "<p>5 rows × 31 columns</p>\n",
       "</div>"
      ],
      "text/plain": [
       "     0    1    2    3    4    5    6    7    8    9     ...       21   22  \\\n",
       "0  0.0  1.0  1.0  0.0  0.0  0.0  0.0  0.0  0.0  0.0     ...      0.0  0.0   \n",
       "1  1.0  0.0  1.0  0.0  0.0  0.0  0.0  0.0  0.0  0.0     ...      0.0  0.0   \n",
       "2  1.0  0.0  1.0  0.0  0.0  0.0  0.0  0.0  0.0  0.0     ...      0.0  0.0   \n",
       "3  1.0  0.0  1.0  0.0  0.0  0.0  0.0  0.0  0.0  0.0     ...      0.0  0.0   \n",
       "4  1.0  0.0  1.0  0.0  0.0  0.0  0.0  0.0  0.0  0.0     ...      0.0  0.0   \n",
       "\n",
       "    23   24   25   26   27   28  AGE  TotalWages  \n",
       "0  0.0  0.0  0.0  0.0  0.0  0.0   40       556.8  \n",
       "1  0.0  0.0  0.0  0.0  0.0  0.0   31       480.0  \n",
       "2  0.0  0.0  0.0  0.0  0.0  0.0   31       480.0  \n",
       "3  0.0  0.0  0.0  0.0  0.0  0.0   26       400.0  \n",
       "4  0.0  0.0  0.0  0.0  0.0  0.0   37       520.0  \n",
       "\n",
       "[5 rows x 31 columns]"
      ]
     },
     "execution_count": 69,
     "metadata": {},
     "output_type": "execute_result"
    }
   ],
   "source": [
    "from sklearn.preprocessing import OneHotEncoder\n",
    "enc = OneHotEncoder()\n",
    "\n",
    "encFeatures2 = enc.fit_transform(Features2).toarray()\n",
    "encFeatures2 = pd.DataFrame(data=encFeatures2)\n",
    "encFeatures2[\"AGE\"] = list(FT[\"AGE\"])\n",
    "encFeatures2[\"TotalWages\"] = list(FT[\"TotalWages\"])\n",
    "encFeatures2.head()"
   ]
  },
  {
   "cell_type": "code",
   "execution_count": 70,
   "metadata": {},
   "outputs": [],
   "source": [
    "X_train2, X_test2, y_train2, y_test2 = train_test_split(encFeatures2,FT[\"EDUCATION\"], random_state=33)"
   ]
  },
  {
   "cell_type": "code",
   "execution_count": 71,
   "metadata": {},
   "outputs": [],
   "source": [
    "from sklearn.linear_model import LogisticRegression\n",
    "log_reg = LogisticRegression()"
   ]
  },
  {
   "cell_type": "code",
   "execution_count": 72,
   "metadata": {},
   "outputs": [
    {
     "name": "stderr",
     "output_type": "stream",
     "text": [
      "D:\\Python NYU\\lib\\site-packages\\sklearn\\linear_model\\logistic.py:433: FutureWarning: Default solver will be changed to 'lbfgs' in 0.22. Specify a solver to silence this warning.\n",
      "  FutureWarning)\n",
      "D:\\Python NYU\\lib\\site-packages\\sklearn\\linear_model\\logistic.py:460: FutureWarning: Default multi_class will be changed to 'auto' in 0.22. Specify the multi_class option to silence this warning.\n",
      "  \"this warning.\", FutureWarning)\n"
     ]
    },
    {
     "data": {
      "text/plain": [
       "LogisticRegression(C=1.0, class_weight=None, dual=False, fit_intercept=True,\n",
       "          intercept_scaling=1, max_iter=100, multi_class='warn',\n",
       "          n_jobs=None, penalty='l2', random_state=None, solver='warn',\n",
       "          tol=0.0001, verbose=0, warm_start=False)"
      ]
     },
     "execution_count": 72,
     "metadata": {},
     "output_type": "execute_result"
    }
   ],
   "source": [
    "log_reg.fit(X_train2, y_train2)"
   ]
  },
  {
   "cell_type": "code",
   "execution_count": 73,
   "metadata": {},
   "outputs": [
    {
     "data": {
      "text/html": [
       "<div>\n",
       "<style scoped>\n",
       "    .dataframe tbody tr th:only-of-type {\n",
       "        vertical-align: middle;\n",
       "    }\n",
       "\n",
       "    .dataframe tbody tr th {\n",
       "        vertical-align: top;\n",
       "    }\n",
       "\n",
       "    .dataframe thead th {\n",
       "        text-align: right;\n",
       "    }\n",
       "</style>\n",
       "<table border=\"1\" class=\"dataframe\">\n",
       "  <thead>\n",
       "    <tr style=\"text-align: right;\">\n",
       "      <th></th>\n",
       "      <th>0</th>\n",
       "      <th>1</th>\n",
       "      <th>2</th>\n",
       "      <th>3</th>\n",
       "      <th>4</th>\n",
       "      <th>5</th>\n",
       "      <th>6</th>\n",
       "      <th>7</th>\n",
       "      <th>8</th>\n",
       "      <th>9</th>\n",
       "      <th>...</th>\n",
       "      <th>21</th>\n",
       "      <th>22</th>\n",
       "      <th>23</th>\n",
       "      <th>24</th>\n",
       "      <th>25</th>\n",
       "      <th>26</th>\n",
       "      <th>27</th>\n",
       "      <th>28</th>\n",
       "      <th>AGE</th>\n",
       "      <th>TotalWages</th>\n",
       "    </tr>\n",
       "  </thead>\n",
       "  <tbody>\n",
       "    <tr>\n",
       "      <th>125</th>\n",
       "      <td>1.0</td>\n",
       "      <td>0.0</td>\n",
       "      <td>1.0</td>\n",
       "      <td>0.0</td>\n",
       "      <td>0.0</td>\n",
       "      <td>0.0</td>\n",
       "      <td>0.0</td>\n",
       "      <td>0.0</td>\n",
       "      <td>0.0</td>\n",
       "      <td>0.0</td>\n",
       "      <td>...</td>\n",
       "      <td>0.0</td>\n",
       "      <td>0.0</td>\n",
       "      <td>0.0</td>\n",
       "      <td>0.0</td>\n",
       "      <td>0.0</td>\n",
       "      <td>0.0</td>\n",
       "      <td>0.0</td>\n",
       "      <td>0.0</td>\n",
       "      <td>44</td>\n",
       "      <td>590.0</td>\n",
       "    </tr>\n",
       "    <tr>\n",
       "      <th>228</th>\n",
       "      <td>1.0</td>\n",
       "      <td>0.0</td>\n",
       "      <td>1.0</td>\n",
       "      <td>0.0</td>\n",
       "      <td>0.0</td>\n",
       "      <td>0.0</td>\n",
       "      <td>0.0</td>\n",
       "      <td>0.0</td>\n",
       "      <td>0.0</td>\n",
       "      <td>0.0</td>\n",
       "      <td>...</td>\n",
       "      <td>0.0</td>\n",
       "      <td>0.0</td>\n",
       "      <td>0.0</td>\n",
       "      <td>0.0</td>\n",
       "      <td>0.0</td>\n",
       "      <td>0.0</td>\n",
       "      <td>0.0</td>\n",
       "      <td>0.0</td>\n",
       "      <td>37</td>\n",
       "      <td>615.2</td>\n",
       "    </tr>\n",
       "    <tr>\n",
       "      <th>2335</th>\n",
       "      <td>0.0</td>\n",
       "      <td>1.0</td>\n",
       "      <td>0.0</td>\n",
       "      <td>0.0</td>\n",
       "      <td>0.0</td>\n",
       "      <td>0.0</td>\n",
       "      <td>0.0</td>\n",
       "      <td>0.0</td>\n",
       "      <td>0.0</td>\n",
       "      <td>0.0</td>\n",
       "      <td>...</td>\n",
       "      <td>0.0</td>\n",
       "      <td>0.0</td>\n",
       "      <td>0.0</td>\n",
       "      <td>0.0</td>\n",
       "      <td>0.0</td>\n",
       "      <td>0.0</td>\n",
       "      <td>0.0</td>\n",
       "      <td>0.0</td>\n",
       "      <td>31</td>\n",
       "      <td>360.0</td>\n",
       "    </tr>\n",
       "    <tr>\n",
       "      <th>726</th>\n",
       "      <td>0.0</td>\n",
       "      <td>1.0</td>\n",
       "      <td>0.0</td>\n",
       "      <td>0.0</td>\n",
       "      <td>0.0</td>\n",
       "      <td>0.0</td>\n",
       "      <td>0.0</td>\n",
       "      <td>0.0</td>\n",
       "      <td>1.0</td>\n",
       "      <td>0.0</td>\n",
       "      <td>...</td>\n",
       "      <td>0.0</td>\n",
       "      <td>0.0</td>\n",
       "      <td>0.0</td>\n",
       "      <td>0.0</td>\n",
       "      <td>0.0</td>\n",
       "      <td>0.0</td>\n",
       "      <td>0.0</td>\n",
       "      <td>0.0</td>\n",
       "      <td>30</td>\n",
       "      <td>420.0</td>\n",
       "    </tr>\n",
       "    <tr>\n",
       "      <th>1113</th>\n",
       "      <td>1.0</td>\n",
       "      <td>0.0</td>\n",
       "      <td>0.0</td>\n",
       "      <td>0.0</td>\n",
       "      <td>0.0</td>\n",
       "      <td>0.0</td>\n",
       "      <td>0.0</td>\n",
       "      <td>0.0</td>\n",
       "      <td>0.0</td>\n",
       "      <td>0.0</td>\n",
       "      <td>...</td>\n",
       "      <td>0.0</td>\n",
       "      <td>0.0</td>\n",
       "      <td>0.0</td>\n",
       "      <td>0.0</td>\n",
       "      <td>0.0</td>\n",
       "      <td>0.0</td>\n",
       "      <td>0.0</td>\n",
       "      <td>0.0</td>\n",
       "      <td>53</td>\n",
       "      <td>600.0</td>\n",
       "    </tr>\n",
       "  </tbody>\n",
       "</table>\n",
       "<p>5 rows × 31 columns</p>\n",
       "</div>"
      ],
      "text/plain": [
       "        0    1    2    3    4    5    6    7    8    9     ...       21   22  \\\n",
       "125   1.0  0.0  1.0  0.0  0.0  0.0  0.0  0.0  0.0  0.0     ...      0.0  0.0   \n",
       "228   1.0  0.0  1.0  0.0  0.0  0.0  0.0  0.0  0.0  0.0     ...      0.0  0.0   \n",
       "2335  0.0  1.0  0.0  0.0  0.0  0.0  0.0  0.0  0.0  0.0     ...      0.0  0.0   \n",
       "726   0.0  1.0  0.0  0.0  0.0  0.0  0.0  0.0  1.0  0.0     ...      0.0  0.0   \n",
       "1113  1.0  0.0  0.0  0.0  0.0  0.0  0.0  0.0  0.0  0.0     ...      0.0  0.0   \n",
       "\n",
       "       23   24   25   26   27   28  AGE  TotalWages  \n",
       "125   0.0  0.0  0.0  0.0  0.0  0.0   44       590.0  \n",
       "228   0.0  0.0  0.0  0.0  0.0  0.0   37       615.2  \n",
       "2335  0.0  0.0  0.0  0.0  0.0  0.0   31       360.0  \n",
       "726   0.0  0.0  0.0  0.0  0.0  0.0   30       420.0  \n",
       "1113  0.0  0.0  0.0  0.0  0.0  0.0   53       600.0  \n",
       "\n",
       "[5 rows x 31 columns]"
      ]
     },
     "execution_count": 73,
     "metadata": {},
     "output_type": "execute_result"
    }
   ],
   "source": [
    "X_test2.head()"
   ]
  },
  {
   "cell_type": "code",
   "execution_count": 74,
   "metadata": {},
   "outputs": [
    {
     "data": {
      "text/plain": [
       "array(['HS Graduate', 'HS Graduate', 'HS Graduate', 'HS Graduate',\n",
       "       'HS Graduate', 'HS Graduate', 'HS Graduate', 'HS Graduate',\n",
       "       'HS Graduate', 'HS Graduate', 'HS Graduate', 'HS Graduate',\n",
       "       'HS Graduate', 'HS Graduate', 'HS Graduate', 'HS Graduate',\n",
       "       'HS Graduate', 'HS Graduate', 'HS Graduate', 'HS Graduate',\n",
       "       'HS Graduate', 'HS Graduate', 'HS Graduate', 'HS Graduate',\n",
       "       'HS Graduate', 'HS Graduate', 'HS Graduate', 'HS Graduate',\n",
       "       'HS Graduate', 'HS Graduate', 'HS Graduate', 'HS Graduate',\n",
       "       'HS Graduate', 'HS Graduate', 'HS Graduate', 'HS Graduate',\n",
       "       'College', 'HS Graduate', 'HS Graduate', 'HS Graduate',\n",
       "       'HS Graduate', 'HS Graduate', 'HS Graduate', 'HS Graduate',\n",
       "       'HS Graduate', 'HS Graduate', 'HS Graduate', 'HS Graduate',\n",
       "       'HS Graduate', 'HS Graduate', 'HS Graduate', 'HS Graduate',\n",
       "       'HS Graduate', 'HS Graduate', 'HS Graduate', 'HS Graduate',\n",
       "       'HS Graduate', 'HS Graduate', 'HS Graduate', 'HS Graduate',\n",
       "       'HS Graduate', 'HS Graduate', 'HS Graduate', 'HS Graduate',\n",
       "       'HS Graduate', 'HS Graduate', 'HS Graduate', 'HS Graduate',\n",
       "       'HS Graduate', 'HS Graduate', 'HS Graduate', 'HS Graduate',\n",
       "       'HS Graduate', 'HS Graduate', 'HS Graduate', 'HS Graduate',\n",
       "       'HS Graduate', 'HS Graduate', 'HS Graduate', 'HS Graduate',\n",
       "       'HS Graduate', 'HS Graduate', 'HS Graduate', 'HS Graduate',\n",
       "       'HS Graduate', 'HS Graduate', 'HS Graduate', 'HS Graduate',\n",
       "       'HS Graduate', 'HS Graduate', 'HS Graduate', 'HS Graduate',\n",
       "       'HS Graduate', 'HS Graduate', 'HS Graduate', 'HS Graduate',\n",
       "       'HS Graduate', 'HS Graduate', 'HS Graduate', 'HS Graduate',\n",
       "       'HS Graduate', 'HS Graduate', 'HS Graduate', 'College',\n",
       "       'HS Graduate', 'HS Graduate', 'HS Graduate', 'HS Graduate',\n",
       "       'HS Graduate', 'HS Graduate', 'HS Graduate', 'HS Graduate',\n",
       "       'HS Graduate', 'HS Graduate', 'HS Graduate', 'HS Graduate',\n",
       "       'HS Graduate', 'HS Graduate', 'HS Graduate', 'HS Graduate',\n",
       "       'HS Graduate', 'HS Graduate', 'HS Graduate', 'HS Graduate',\n",
       "       'HS Graduate', 'HS Graduate', 'HS Graduate', 'HS Graduate',\n",
       "       'HS Graduate', 'HS Graduate', 'HS Graduate', 'HS Graduate',\n",
       "       'HS Graduate', 'HS Graduate', 'HS Graduate', 'HS Graduate',\n",
       "       'HS Graduate', 'HS Graduate', 'HS Graduate', 'HS Graduate',\n",
       "       'HS Graduate', 'HS Graduate', 'HS Graduate', 'HS Graduate',\n",
       "       'HS Graduate', 'HS Graduate', 'HS Graduate', 'HS Graduate',\n",
       "       'HS Graduate', 'HS Graduate', 'HS Graduate', 'HS Graduate',\n",
       "       'HS Graduate', 'HS Graduate', 'HS Graduate', 'HS Graduate',\n",
       "       'HS Graduate', 'HS Graduate', 'HS Graduate', 'HS Graduate',\n",
       "       'HS Graduate', 'HS Graduate', 'HS Graduate', 'HS Graduate',\n",
       "       'HS Graduate', 'HS Graduate', 'HS Graduate', 'HS Graduate',\n",
       "       'HS Graduate', 'HS Graduate', 'HS Graduate', 'HS Graduate',\n",
       "       'HS Graduate', 'HS Graduate', 'HS Graduate', 'HS Graduate',\n",
       "       'HS Graduate', 'HS Graduate', 'HS Graduate', 'HS Graduate',\n",
       "       'HS Graduate', 'HS Graduate', 'HS Graduate', 'HS Graduate',\n",
       "       'HS Graduate', 'HS Graduate', 'HS Graduate', 'HS Graduate',\n",
       "       'HS Graduate', 'HS Graduate', 'HS Graduate', 'HS Graduate',\n",
       "       'HS Graduate', 'HS Graduate', 'HS Graduate', 'HS Graduate',\n",
       "       'HS Graduate', 'HS Graduate', 'HS Graduate', 'HS Graduate',\n",
       "       'HS Graduate', 'HS Graduate', 'HS Graduate', 'HS Graduate',\n",
       "       'HS Graduate', 'HS Graduate', 'HS Graduate', 'HS Graduate',\n",
       "       'HS Graduate', 'HS Graduate', 'HS Graduate', 'HS Graduate',\n",
       "       'HS Graduate', 'HS Graduate', 'HS Graduate', 'HS Graduate',\n",
       "       'HS Graduate', 'HS Graduate', 'HS Graduate', 'HS Graduate',\n",
       "       'HS Graduate', 'HS Graduate', 'HS Graduate', 'HS Graduate',\n",
       "       'HS Graduate', 'HS Graduate', 'HS Graduate', 'HS Graduate',\n",
       "       'HS Graduate', 'HS Graduate', 'HS Graduate', 'HS Graduate',\n",
       "       'HS Graduate', 'HS Graduate', 'HS Graduate', 'HS Graduate',\n",
       "       'HS Graduate', 'HS Graduate', 'HS Graduate', 'HS Graduate',\n",
       "       'HS Graduate', 'HS Graduate', 'HS Graduate', 'HS Graduate',\n",
       "       'HS Graduate', 'HS Graduate', 'HS Graduate', 'HS Graduate',\n",
       "       'HS Graduate', 'HS Graduate', 'HS Graduate', 'HS Graduate',\n",
       "       'HS Graduate', 'HS Graduate', 'HS Graduate', 'HS Graduate',\n",
       "       'HS Graduate', 'HS Graduate', 'HS Graduate', 'HS Graduate',\n",
       "       'HS Graduate', 'HS Graduate', 'HS Graduate', 'HS Graduate',\n",
       "       'HS Graduate', 'HS Graduate', 'HS Graduate', 'HS Graduate',\n",
       "       'HS Graduate', 'HS Graduate', 'HS Graduate', 'HS Graduate',\n",
       "       'HS Graduate', 'HS Graduate', 'HS Graduate', 'HS Graduate',\n",
       "       'HS Graduate', 'HS Graduate', 'HS Graduate', 'HS Graduate',\n",
       "       'HS Graduate', 'HS Graduate', 'HS Graduate', 'HS Graduate',\n",
       "       'HS Graduate', 'HS Graduate', 'HS Graduate', 'HS Graduate',\n",
       "       'HS Graduate', 'HS Graduate', 'HS Graduate', 'HS Graduate',\n",
       "       'HS Graduate', 'HS Graduate', 'HS Graduate', 'HS Graduate',\n",
       "       'HS Graduate', 'HS Graduate', 'HS Graduate', 'HS Graduate',\n",
       "       'HS Graduate', 'HS Graduate', 'HS Graduate', 'HS Graduate',\n",
       "       'HS Graduate', 'HS Graduate', 'HS Graduate', 'HS Graduate',\n",
       "       'HS Graduate', 'HS Graduate', 'HS Graduate', 'HS Graduate',\n",
       "       'HS Graduate', 'HS Graduate', 'HS Graduate', 'HS Graduate',\n",
       "       'HS Graduate', 'HS Graduate', 'HS Graduate', 'HS Graduate',\n",
       "       'HS Graduate', 'HS Graduate', 'HS Graduate', 'HS Graduate',\n",
       "       'HS Graduate', 'HS Graduate', 'HS Graduate', 'HS Graduate',\n",
       "       'HS Graduate', 'HS Graduate', 'HS Graduate', 'HS Graduate',\n",
       "       'HS Graduate', 'HS Graduate', 'HS Graduate', 'HS Graduate',\n",
       "       'HS Graduate', 'HS Graduate', 'HS Graduate', 'HS Graduate',\n",
       "       'HS Graduate', 'HS Graduate', 'HS Graduate', 'HS Graduate',\n",
       "       'HS Graduate', 'HS Graduate', 'HS Graduate', 'HS Graduate',\n",
       "       'HS Graduate', 'HS Graduate', 'HS Graduate', 'HS Graduate',\n",
       "       'HS Graduate', 'HS Graduate', 'HS Graduate', 'HS Graduate',\n",
       "       'HS Graduate', 'HS Graduate', 'HS Graduate', 'HS Graduate',\n",
       "       'HS Graduate', 'HS Graduate', 'HS Graduate', 'HS Graduate',\n",
       "       'HS Graduate', 'HS Graduate', 'HS Graduate', 'HS Graduate',\n",
       "       'HS Graduate', 'HS Graduate', 'HS Graduate', 'HS Graduate',\n",
       "       'HS Graduate', 'HS Graduate', 'HS Graduate', 'HS Graduate',\n",
       "       'HS Graduate', 'HS Graduate', 'HS Graduate', 'HS Graduate',\n",
       "       'HS Graduate', 'HS Graduate', 'HS Graduate', 'HS Graduate',\n",
       "       'HS Graduate', 'HS Graduate', 'HS Graduate', 'HS Graduate',\n",
       "       'HS Graduate', 'HS Graduate', 'HS Graduate', 'HS Graduate',\n",
       "       'HS Graduate', 'HS Graduate', 'HS Graduate', 'HS Graduate',\n",
       "       'HS Graduate', 'HS Graduate', 'HS Graduate', 'HS Graduate',\n",
       "       'HS Graduate', 'HS Graduate', 'HS Graduate', 'HS Graduate',\n",
       "       'HS Graduate', 'HS Graduate', 'HS Graduate', 'HS Graduate',\n",
       "       'HS Graduate', 'HS Graduate', 'HS Graduate', 'HS Graduate',\n",
       "       'HS Graduate', 'HS Graduate', 'HS Graduate', 'HS Graduate',\n",
       "       'HS Graduate', 'HS Graduate', 'HS Graduate', 'HS Graduate',\n",
       "       'HS Graduate', 'HS Graduate', 'HS Graduate', 'HS Graduate',\n",
       "       'HS Graduate', 'HS Graduate', 'HS Graduate', 'HS Graduate',\n",
       "       'HS Graduate', 'HS Graduate', 'HS Graduate', 'HS Graduate',\n",
       "       'HS Graduate', 'HS Graduate', 'HS Graduate', 'HS Graduate',\n",
       "       'HS Graduate', 'HS Graduate', 'HS Graduate', 'HS Graduate',\n",
       "       'HS Graduate', 'HS Graduate', 'HS Graduate', 'HS Graduate',\n",
       "       'HS Graduate', 'HS Graduate', 'HS Graduate', 'HS Graduate',\n",
       "       'HS Graduate', 'HS Graduate', 'HS Graduate', 'HS Graduate',\n",
       "       'HS Graduate', 'HS Graduate', 'HS Graduate', 'HS Graduate',\n",
       "       'HS Graduate', 'HS Graduate', 'HS Graduate', 'HS Graduate',\n",
       "       'HS Graduate', 'HS Graduate', 'HS Graduate', 'HS Graduate',\n",
       "       'HS Graduate', 'HS Graduate', 'HS Graduate', 'HS Graduate',\n",
       "       'HS Graduate', 'HS Graduate', 'HS Graduate', 'HS Graduate',\n",
       "       'HS Graduate', 'HS Graduate', 'HS Graduate', 'HS Graduate',\n",
       "       'HS Graduate', 'HS Graduate', 'HS Graduate', 'HS Graduate',\n",
       "       'HS Graduate', 'HS Graduate', 'HS Graduate', 'HS Graduate',\n",
       "       'HS Graduate', 'HS Graduate', 'HS Graduate', 'HS Graduate',\n",
       "       'HS Graduate', 'HS Graduate', 'HS Graduate', 'HS Graduate',\n",
       "       'HS Graduate', 'HS Graduate', 'HS Graduate', 'HS Graduate',\n",
       "       'HS Graduate', 'HS Graduate', 'HS Graduate', 'HS Graduate',\n",
       "       'HS Graduate', 'HS Graduate', 'HS Graduate', 'HS Graduate',\n",
       "       'HS Graduate', 'HS Graduate', 'HS Graduate', 'HS Graduate',\n",
       "       'HS Graduate', 'College', 'HS Graduate', 'HS Graduate',\n",
       "       'HS Graduate', 'HS Graduate', 'HS Graduate', 'HS Graduate',\n",
       "       'HS Graduate', 'HS Graduate', 'HS Graduate', 'HS Graduate',\n",
       "       'HS Graduate', 'HS Graduate', 'HS Graduate', 'HS Graduate',\n",
       "       'HS Graduate', 'HS Graduate', 'HS Graduate', 'HS Graduate',\n",
       "       'HS Graduate', 'HS Graduate', 'HS Graduate', 'HS Graduate',\n",
       "       'HS Graduate', 'HS Graduate', 'HS Graduate', 'HS Graduate',\n",
       "       'HS Graduate', 'HS Graduate', 'HS Graduate', 'HS Graduate',\n",
       "       'HS Graduate', 'HS Graduate', 'HS Graduate', 'HS Graduate',\n",
       "       'HS Graduate', 'HS Graduate', 'HS Graduate', 'HS Graduate',\n",
       "       'HS Graduate', 'HS Graduate', 'HS Graduate', 'HS Graduate',\n",
       "       'HS Graduate', 'HS Graduate', 'HS Graduate', 'HS Graduate',\n",
       "       'HS Graduate', 'HS Graduate', 'HS Graduate', 'HS Graduate',\n",
       "       'HS Graduate', 'HS Graduate', 'HS Graduate', 'HS Graduate',\n",
       "       'HS Graduate', 'HS Graduate', 'HS Graduate', 'HS Graduate',\n",
       "       'HS Graduate', 'HS Graduate', 'HS Graduate', 'HS Graduate',\n",
       "       'HS Graduate', 'HS Graduate', 'HS Graduate', 'HS Graduate',\n",
       "       'HS Graduate', 'HS Graduate', 'HS Graduate', 'HS Graduate',\n",
       "       'HS Graduate', 'HS Graduate', 'HS Graduate', 'HS Graduate',\n",
       "       'HS Graduate', 'HS Graduate', 'HS Graduate', 'HS Graduate',\n",
       "       'HS Graduate', 'HS Graduate', 'HS Graduate', 'HS Graduate',\n",
       "       'HS Graduate', 'HS Graduate', 'HS Graduate', 'HS Graduate',\n",
       "       'HS Graduate', 'HS Graduate', 'HS Graduate', 'HS Graduate',\n",
       "       'HS Graduate', 'HS Graduate', 'HS Graduate', 'HS Graduate',\n",
       "       'HS Graduate', 'HS Graduate', 'HS Graduate', 'HS Graduate',\n",
       "       'HS Graduate', 'HS Graduate', 'HS Graduate', 'HS Graduate',\n",
       "       'HS Graduate', 'HS Graduate', 'HS Graduate', 'HS Graduate',\n",
       "       'HS Graduate', 'HS Graduate', 'HS Graduate', 'HS Graduate',\n",
       "       'HS Graduate', 'HS Graduate', 'HS Graduate', 'HS Graduate',\n",
       "       'HS Graduate', 'HS Graduate', 'HS Graduate', 'HS Graduate',\n",
       "       'HS Graduate', 'HS Graduate', 'HS Graduate', 'HS Graduate',\n",
       "       'HS Graduate', 'HS Graduate', 'HS Graduate', 'HS Graduate',\n",
       "       'HS Graduate', 'HS Graduate', 'HS Graduate', 'HS Graduate',\n",
       "       'HS Graduate', 'HS Graduate', 'HS Graduate', 'HS Graduate',\n",
       "       'HS Graduate', 'HS Graduate', 'HS Graduate', 'HS Graduate',\n",
       "       'HS Graduate', 'HS Graduate', 'HS Graduate', 'HS Graduate',\n",
       "       'HS Graduate', 'HS Graduate', 'HS Graduate', 'HS Graduate',\n",
       "       'HS Graduate', 'HS Graduate', 'HS Graduate', 'HS Graduate',\n",
       "       'HS Graduate', 'HS Graduate', 'HS Graduate', 'HS Graduate',\n",
       "       'HS Graduate', 'HS Graduate', 'HS Graduate', 'HS Graduate',\n",
       "       'HS Graduate', 'HS Graduate', 'HS Graduate', 'HS Graduate',\n",
       "       'HS Graduate', 'HS Graduate', 'HS Graduate', 'HS Graduate',\n",
       "       'HS Graduate', 'HS Graduate', 'HS Graduate', 'HS Graduate',\n",
       "       'HS Graduate', 'HS Graduate', 'HS Graduate', 'HS Graduate',\n",
       "       'HS Graduate', 'HS Graduate', 'HS Graduate', 'HS Graduate',\n",
       "       'HS Graduate', 'HS Graduate', 'HS Graduate', 'HS Graduate',\n",
       "       'HS Graduate', 'HS Graduate', 'HS Graduate', 'HS Graduate',\n",
       "       'HS Graduate', 'HS Graduate', 'HS Graduate', 'HS Graduate',\n",
       "       'HS Graduate', 'HS Graduate', 'HS Graduate', 'HS Graduate',\n",
       "       'HS Graduate', 'HS Graduate', 'HS Graduate', 'HS Graduate',\n",
       "       'HS Graduate', 'HS Graduate', 'HS Graduate', 'HS Graduate',\n",
       "       'College', 'HS Graduate', 'HS Graduate', 'HS Graduate',\n",
       "       'HS Graduate', 'HS Graduate', 'HS Graduate', 'HS Graduate',\n",
       "       'HS Graduate', 'HS Graduate', 'HS Graduate', 'HS Graduate',\n",
       "       'HS Graduate', 'HS Graduate', 'HS Graduate', 'HS Graduate',\n",
       "       'HS Graduate', 'HS Graduate', 'HS Graduate', 'HS Graduate',\n",
       "       'HS Graduate', 'HS Graduate', 'HS Graduate', 'HS Graduate',\n",
       "       'HS Graduate', 'HS Graduate', 'HS Graduate', 'HS Graduate',\n",
       "       'HS Graduate', 'HS Graduate', 'HS Graduate', 'HS Graduate',\n",
       "       'HS Graduate', 'HS Graduate', 'HS Graduate', 'HS Graduate',\n",
       "       'HS Graduate', 'HS Graduate', 'HS Graduate', 'HS Graduate',\n",
       "       'HS Graduate', 'HS Graduate', 'HS Graduate', 'HS Graduate',\n",
       "       'HS Graduate', 'HS Graduate', 'HS Graduate', 'HS Graduate',\n",
       "       'HS Graduate', 'HS Graduate', 'HS Graduate', 'HS Graduate',\n",
       "       'HS Graduate', 'HS Graduate', 'HS Graduate', 'HS Graduate',\n",
       "       'HS Graduate', 'HS Graduate', 'HS Graduate', 'HS Graduate',\n",
       "       'HS Graduate', 'HS Graduate', 'HS Graduate', 'HS Graduate',\n",
       "       'HS Graduate', 'HS Graduate', 'HS Graduate', 'HS Graduate',\n",
       "       'HS Graduate', 'HS Graduate', 'HS Graduate', 'HS Graduate',\n",
       "       'HS Graduate', 'HS Graduate', 'HS Graduate', 'HS Graduate',\n",
       "       'HS Graduate', 'HS Graduate', 'HS Graduate', 'College',\n",
       "       'HS Graduate', 'HS Graduate', 'HS Graduate', 'HS Graduate',\n",
       "       'HS Graduate', 'College', 'HS Graduate', 'HS Graduate',\n",
       "       'HS Graduate', 'HS Graduate', 'HS Graduate', 'HS Graduate',\n",
       "       'HS Graduate', 'HS Graduate', 'HS Graduate', 'HS Graduate',\n",
       "       'HS Graduate', 'HS Graduate', 'HS Graduate', 'HS Graduate',\n",
       "       'HS Graduate', 'HS Graduate', 'HS Graduate', 'HS Graduate',\n",
       "       'HS Graduate', 'HS Graduate', 'HS Graduate'], dtype=object)"
      ]
     },
     "execution_count": 74,
     "metadata": {},
     "output_type": "execute_result"
    }
   ],
   "source": [
    "log_reg.predict(X_test2)"
   ]
  },
  {
   "cell_type": "code",
   "execution_count": 75,
   "metadata": {},
   "outputs": [
    {
     "data": {
      "text/plain": [
       "0.8937728937728938"
      ]
     },
     "execution_count": 75,
     "metadata": {},
     "output_type": "execute_result"
    }
   ],
   "source": [
    "log_reg.score(X_test2, y_test2)"
   ]
  },
  {
   "cell_type": "code",
   "execution_count": 76,
   "metadata": {},
   "outputs": [
    {
     "name": "stderr",
     "output_type": "stream",
     "text": [
      "D:\\Python NYU\\lib\\site-packages\\sklearn\\linear_model\\logistic.py:460: FutureWarning: Default multi_class will be changed to 'auto' in 0.22. Specify the multi_class option to silence this warning.\n",
      "  \"this warning.\", FutureWarning)\n",
      "D:\\Python NYU\\lib\\site-packages\\sklearn\\linear_model\\logistic.py:758: ConvergenceWarning: lbfgs failed to converge. Increase the number of iterations.\n",
      "  \"of iterations.\", ConvergenceWarning)\n",
      "D:\\Python NYU\\lib\\site-packages\\sklearn\\linear_model\\logistic.py:758: ConvergenceWarning: lbfgs failed to converge. Increase the number of iterations.\n",
      "  \"of iterations.\", ConvergenceWarning)\n",
      "D:\\Python NYU\\lib\\site-packages\\sklearn\\linear_model\\logistic.py:758: ConvergenceWarning: lbfgs failed to converge. Increase the number of iterations.\n",
      "  \"of iterations.\", ConvergenceWarning)\n",
      "D:\\Python NYU\\lib\\site-packages\\sklearn\\linear_model\\logistic.py:758: ConvergenceWarning: lbfgs failed to converge. Increase the number of iterations.\n",
      "  \"of iterations.\", ConvergenceWarning)\n",
      "D:\\Python NYU\\lib\\site-packages\\sklearn\\linear_model\\logistic.py:758: ConvergenceWarning: lbfgs failed to converge. Increase the number of iterations.\n",
      "  \"of iterations.\", ConvergenceWarning)\n",
      "D:\\Python NYU\\lib\\site-packages\\sklearn\\linear_model\\logistic.py:758: ConvergenceWarning: lbfgs failed to converge. Increase the number of iterations.\n",
      "  \"of iterations.\", ConvergenceWarning)\n",
      "D:\\Python NYU\\lib\\site-packages\\sklearn\\linear_model\\logistic.py:758: ConvergenceWarning: lbfgs failed to converge. Increase the number of iterations.\n",
      "  \"of iterations.\", ConvergenceWarning)\n",
      "D:\\Python NYU\\lib\\site-packages\\sklearn\\linear_model\\logistic.py:460: FutureWarning: Default multi_class will be changed to 'auto' in 0.22. Specify the multi_class option to silence this warning.\n",
      "  \"this warning.\", FutureWarning)\n",
      "D:\\Python NYU\\lib\\site-packages\\sklearn\\linear_model\\logistic.py:758: ConvergenceWarning: lbfgs failed to converge. Increase the number of iterations.\n",
      "  \"of iterations.\", ConvergenceWarning)\n",
      "D:\\Python NYU\\lib\\site-packages\\sklearn\\linear_model\\logistic.py:758: ConvergenceWarning: lbfgs failed to converge. Increase the number of iterations.\n",
      "  \"of iterations.\", ConvergenceWarning)\n",
      "D:\\Python NYU\\lib\\site-packages\\sklearn\\linear_model\\logistic.py:758: ConvergenceWarning: lbfgs failed to converge. Increase the number of iterations.\n",
      "  \"of iterations.\", ConvergenceWarning)\n",
      "D:\\Python NYU\\lib\\site-packages\\sklearn\\linear_model\\logistic.py:758: ConvergenceWarning: lbfgs failed to converge. Increase the number of iterations.\n",
      "  \"of iterations.\", ConvergenceWarning)\n",
      "D:\\Python NYU\\lib\\site-packages\\sklearn\\linear_model\\logistic.py:758: ConvergenceWarning: lbfgs failed to converge. Increase the number of iterations.\n",
      "  \"of iterations.\", ConvergenceWarning)\n",
      "D:\\Python NYU\\lib\\site-packages\\sklearn\\linear_model\\logistic.py:758: ConvergenceWarning: lbfgs failed to converge. Increase the number of iterations.\n",
      "  \"of iterations.\", ConvergenceWarning)\n",
      "D:\\Python NYU\\lib\\site-packages\\sklearn\\linear_model\\logistic.py:758: ConvergenceWarning: lbfgs failed to converge. Increase the number of iterations.\n",
      "  \"of iterations.\", ConvergenceWarning)\n",
      "D:\\Python NYU\\lib\\site-packages\\sklearn\\linear_model\\logistic.py:460: FutureWarning: Default multi_class will be changed to 'auto' in 0.22. Specify the multi_class option to silence this warning.\n",
      "  \"this warning.\", FutureWarning)\n",
      "D:\\Python NYU\\lib\\site-packages\\sklearn\\linear_model\\logistic.py:758: ConvergenceWarning: lbfgs failed to converge. Increase the number of iterations.\n",
      "  \"of iterations.\", ConvergenceWarning)\n",
      "D:\\Python NYU\\lib\\site-packages\\sklearn\\linear_model\\logistic.py:758: ConvergenceWarning: lbfgs failed to converge. Increase the number of iterations.\n",
      "  \"of iterations.\", ConvergenceWarning)\n",
      "D:\\Python NYU\\lib\\site-packages\\sklearn\\linear_model\\logistic.py:758: ConvergenceWarning: lbfgs failed to converge. Increase the number of iterations.\n",
      "  \"of iterations.\", ConvergenceWarning)\n",
      "D:\\Python NYU\\lib\\site-packages\\sklearn\\linear_model\\logistic.py:758: ConvergenceWarning: lbfgs failed to converge. Increase the number of iterations.\n",
      "  \"of iterations.\", ConvergenceWarning)\n",
      "D:\\Python NYU\\lib\\site-packages\\sklearn\\linear_model\\logistic.py:758: ConvergenceWarning: lbfgs failed to converge. Increase the number of iterations.\n",
      "  \"of iterations.\", ConvergenceWarning)\n",
      "D:\\Python NYU\\lib\\site-packages\\sklearn\\linear_model\\logistic.py:758: ConvergenceWarning: lbfgs failed to converge. Increase the number of iterations.\n",
      "  \"of iterations.\", ConvergenceWarning)\n",
      "D:\\Python NYU\\lib\\site-packages\\sklearn\\linear_model\\logistic.py:758: ConvergenceWarning: lbfgs failed to converge. Increase the number of iterations.\n",
      "  \"of iterations.\", ConvergenceWarning)\n",
      "D:\\Python NYU\\lib\\site-packages\\sklearn\\linear_model\\logistic.py:460: FutureWarning: Default multi_class will be changed to 'auto' in 0.22. Specify the multi_class option to silence this warning.\n",
      "  \"this warning.\", FutureWarning)\n",
      "D:\\Python NYU\\lib\\site-packages\\sklearn\\linear_model\\logistic.py:758: ConvergenceWarning: lbfgs failed to converge. Increase the number of iterations.\n",
      "  \"of iterations.\", ConvergenceWarning)\n",
      "D:\\Python NYU\\lib\\site-packages\\sklearn\\linear_model\\logistic.py:758: ConvergenceWarning: lbfgs failed to converge. Increase the number of iterations.\n",
      "  \"of iterations.\", ConvergenceWarning)\n",
      "D:\\Python NYU\\lib\\site-packages\\sklearn\\linear_model\\logistic.py:758: ConvergenceWarning: lbfgs failed to converge. Increase the number of iterations.\n",
      "  \"of iterations.\", ConvergenceWarning)\n",
      "D:\\Python NYU\\lib\\site-packages\\sklearn\\linear_model\\logistic.py:758: ConvergenceWarning: lbfgs failed to converge. Increase the number of iterations.\n",
      "  \"of iterations.\", ConvergenceWarning)\n",
      "D:\\Python NYU\\lib\\site-packages\\sklearn\\linear_model\\logistic.py:758: ConvergenceWarning: lbfgs failed to converge. Increase the number of iterations.\n",
      "  \"of iterations.\", ConvergenceWarning)\n",
      "D:\\Python NYU\\lib\\site-packages\\sklearn\\linear_model\\logistic.py:758: ConvergenceWarning: lbfgs failed to converge. Increase the number of iterations.\n",
      "  \"of iterations.\", ConvergenceWarning)\n",
      "D:\\Python NYU\\lib\\site-packages\\sklearn\\linear_model\\logistic.py:758: ConvergenceWarning: lbfgs failed to converge. Increase the number of iterations.\n",
      "  \"of iterations.\", ConvergenceWarning)\n",
      "D:\\Python NYU\\lib\\site-packages\\sklearn\\linear_model\\logistic.py:460: FutureWarning: Default multi_class will be changed to 'auto' in 0.22. Specify the multi_class option to silence this warning.\n",
      "  \"this warning.\", FutureWarning)\n",
      "D:\\Python NYU\\lib\\site-packages\\sklearn\\linear_model\\logistic.py:758: ConvergenceWarning: lbfgs failed to converge. Increase the number of iterations.\n",
      "  \"of iterations.\", ConvergenceWarning)\n",
      "D:\\Python NYU\\lib\\site-packages\\sklearn\\linear_model\\logistic.py:758: ConvergenceWarning: lbfgs failed to converge. Increase the number of iterations.\n",
      "  \"of iterations.\", ConvergenceWarning)\n",
      "D:\\Python NYU\\lib\\site-packages\\sklearn\\linear_model\\logistic.py:758: ConvergenceWarning: lbfgs failed to converge. Increase the number of iterations.\n",
      "  \"of iterations.\", ConvergenceWarning)\n",
      "D:\\Python NYU\\lib\\site-packages\\sklearn\\linear_model\\logistic.py:758: ConvergenceWarning: lbfgs failed to converge. Increase the number of iterations.\n",
      "  \"of iterations.\", ConvergenceWarning)\n",
      "D:\\Python NYU\\lib\\site-packages\\sklearn\\linear_model\\logistic.py:758: ConvergenceWarning: lbfgs failed to converge. Increase the number of iterations.\n",
      "  \"of iterations.\", ConvergenceWarning)\n",
      "D:\\Python NYU\\lib\\site-packages\\sklearn\\linear_model\\logistic.py:758: ConvergenceWarning: lbfgs failed to converge. Increase the number of iterations.\n",
      "  \"of iterations.\", ConvergenceWarning)\n",
      "D:\\Python NYU\\lib\\site-packages\\sklearn\\linear_model\\logistic.py:758: ConvergenceWarning: lbfgs failed to converge. Increase the number of iterations.\n",
      "  \"of iterations.\", ConvergenceWarning)\n",
      "D:\\Python NYU\\lib\\site-packages\\sklearn\\linear_model\\logistic.py:460: FutureWarning: Default multi_class will be changed to 'auto' in 0.22. Specify the multi_class option to silence this warning.\n",
      "  \"this warning.\", FutureWarning)\n",
      "D:\\Python NYU\\lib\\site-packages\\sklearn\\linear_model\\logistic.py:758: ConvergenceWarning: lbfgs failed to converge. Increase the number of iterations.\n",
      "  \"of iterations.\", ConvergenceWarning)\n"
     ]
    },
    {
     "name": "stderr",
     "output_type": "stream",
     "text": [
      "D:\\Python NYU\\lib\\site-packages\\sklearn\\linear_model\\logistic.py:758: ConvergenceWarning: lbfgs failed to converge. Increase the number of iterations.\n",
      "  \"of iterations.\", ConvergenceWarning)\n",
      "D:\\Python NYU\\lib\\site-packages\\sklearn\\linear_model\\logistic.py:758: ConvergenceWarning: lbfgs failed to converge. Increase the number of iterations.\n",
      "  \"of iterations.\", ConvergenceWarning)\n",
      "D:\\Python NYU\\lib\\site-packages\\sklearn\\linear_model\\logistic.py:758: ConvergenceWarning: lbfgs failed to converge. Increase the number of iterations.\n",
      "  \"of iterations.\", ConvergenceWarning)\n",
      "D:\\Python NYU\\lib\\site-packages\\sklearn\\linear_model\\logistic.py:758: ConvergenceWarning: lbfgs failed to converge. Increase the number of iterations.\n",
      "  \"of iterations.\", ConvergenceWarning)\n",
      "D:\\Python NYU\\lib\\site-packages\\sklearn\\linear_model\\logistic.py:758: ConvergenceWarning: lbfgs failed to converge. Increase the number of iterations.\n",
      "  \"of iterations.\", ConvergenceWarning)\n",
      "D:\\Python NYU\\lib\\site-packages\\sklearn\\linear_model\\logistic.py:758: ConvergenceWarning: lbfgs failed to converge. Increase the number of iterations.\n",
      "  \"of iterations.\", ConvergenceWarning)\n",
      "D:\\Python NYU\\lib\\site-packages\\sklearn\\linear_model\\logistic.py:460: FutureWarning: Default multi_class will be changed to 'auto' in 0.22. Specify the multi_class option to silence this warning.\n",
      "  \"this warning.\", FutureWarning)\n",
      "D:\\Python NYU\\lib\\site-packages\\sklearn\\linear_model\\logistic.py:758: ConvergenceWarning: lbfgs failed to converge. Increase the number of iterations.\n",
      "  \"of iterations.\", ConvergenceWarning)\n",
      "D:\\Python NYU\\lib\\site-packages\\sklearn\\linear_model\\logistic.py:758: ConvergenceWarning: lbfgs failed to converge. Increase the number of iterations.\n",
      "  \"of iterations.\", ConvergenceWarning)\n",
      "D:\\Python NYU\\lib\\site-packages\\sklearn\\linear_model\\logistic.py:758: ConvergenceWarning: lbfgs failed to converge. Increase the number of iterations.\n",
      "  \"of iterations.\", ConvergenceWarning)\n",
      "D:\\Python NYU\\lib\\site-packages\\sklearn\\linear_model\\logistic.py:758: ConvergenceWarning: lbfgs failed to converge. Increase the number of iterations.\n",
      "  \"of iterations.\", ConvergenceWarning)\n",
      "D:\\Python NYU\\lib\\site-packages\\sklearn\\linear_model\\logistic.py:758: ConvergenceWarning: lbfgs failed to converge. Increase the number of iterations.\n",
      "  \"of iterations.\", ConvergenceWarning)\n",
      "D:\\Python NYU\\lib\\site-packages\\sklearn\\linear_model\\logistic.py:758: ConvergenceWarning: lbfgs failed to converge. Increase the number of iterations.\n",
      "  \"of iterations.\", ConvergenceWarning)\n",
      "D:\\Python NYU\\lib\\site-packages\\sklearn\\linear_model\\logistic.py:758: ConvergenceWarning: lbfgs failed to converge. Increase the number of iterations.\n",
      "  \"of iterations.\", ConvergenceWarning)\n",
      "D:\\Python NYU\\lib\\site-packages\\sklearn\\linear_model\\logistic.py:460: FutureWarning: Default multi_class will be changed to 'auto' in 0.22. Specify the multi_class option to silence this warning.\n",
      "  \"this warning.\", FutureWarning)\n",
      "D:\\Python NYU\\lib\\site-packages\\sklearn\\linear_model\\logistic.py:758: ConvergenceWarning: lbfgs failed to converge. Increase the number of iterations.\n",
      "  \"of iterations.\", ConvergenceWarning)\n",
      "D:\\Python NYU\\lib\\site-packages\\sklearn\\linear_model\\logistic.py:758: ConvergenceWarning: lbfgs failed to converge. Increase the number of iterations.\n",
      "  \"of iterations.\", ConvergenceWarning)\n",
      "D:\\Python NYU\\lib\\site-packages\\sklearn\\linear_model\\logistic.py:758: ConvergenceWarning: lbfgs failed to converge. Increase the number of iterations.\n",
      "  \"of iterations.\", ConvergenceWarning)\n",
      "D:\\Python NYU\\lib\\site-packages\\sklearn\\linear_model\\logistic.py:758: ConvergenceWarning: lbfgs failed to converge. Increase the number of iterations.\n",
      "  \"of iterations.\", ConvergenceWarning)\n",
      "D:\\Python NYU\\lib\\site-packages\\sklearn\\linear_model\\logistic.py:758: ConvergenceWarning: lbfgs failed to converge. Increase the number of iterations.\n",
      "  \"of iterations.\", ConvergenceWarning)\n",
      "D:\\Python NYU\\lib\\site-packages\\sklearn\\linear_model\\logistic.py:758: ConvergenceWarning: lbfgs failed to converge. Increase the number of iterations.\n",
      "  \"of iterations.\", ConvergenceWarning)\n",
      "D:\\Python NYU\\lib\\site-packages\\sklearn\\linear_model\\logistic.py:758: ConvergenceWarning: lbfgs failed to converge. Increase the number of iterations.\n",
      "  \"of iterations.\", ConvergenceWarning)\n",
      "D:\\Python NYU\\lib\\site-packages\\sklearn\\linear_model\\logistic.py:460: FutureWarning: Default multi_class will be changed to 'auto' in 0.22. Specify the multi_class option to silence this warning.\n",
      "  \"this warning.\", FutureWarning)\n",
      "D:\\Python NYU\\lib\\site-packages\\sklearn\\linear_model\\logistic.py:758: ConvergenceWarning: lbfgs failed to converge. Increase the number of iterations.\n",
      "  \"of iterations.\", ConvergenceWarning)\n",
      "D:\\Python NYU\\lib\\site-packages\\sklearn\\linear_model\\logistic.py:758: ConvergenceWarning: lbfgs failed to converge. Increase the number of iterations.\n",
      "  \"of iterations.\", ConvergenceWarning)\n",
      "D:\\Python NYU\\lib\\site-packages\\sklearn\\linear_model\\logistic.py:758: ConvergenceWarning: lbfgs failed to converge. Increase the number of iterations.\n",
      "  \"of iterations.\", ConvergenceWarning)\n",
      "D:\\Python NYU\\lib\\site-packages\\sklearn\\linear_model\\logistic.py:758: ConvergenceWarning: lbfgs failed to converge. Increase the number of iterations.\n",
      "  \"of iterations.\", ConvergenceWarning)\n",
      "D:\\Python NYU\\lib\\site-packages\\sklearn\\linear_model\\logistic.py:758: ConvergenceWarning: lbfgs failed to converge. Increase the number of iterations.\n",
      "  \"of iterations.\", ConvergenceWarning)\n",
      "D:\\Python NYU\\lib\\site-packages\\sklearn\\linear_model\\logistic.py:758: ConvergenceWarning: lbfgs failed to converge. Increase the number of iterations.\n",
      "  \"of iterations.\", ConvergenceWarning)\n",
      "D:\\Python NYU\\lib\\site-packages\\sklearn\\linear_model\\logistic.py:758: ConvergenceWarning: lbfgs failed to converge. Increase the number of iterations.\n",
      "  \"of iterations.\", ConvergenceWarning)\n",
      "D:\\Python NYU\\lib\\site-packages\\sklearn\\linear_model\\logistic.py:460: FutureWarning: Default multi_class will be changed to 'auto' in 0.22. Specify the multi_class option to silence this warning.\n",
      "  \"this warning.\", FutureWarning)\n",
      "D:\\Python NYU\\lib\\site-packages\\sklearn\\linear_model\\logistic.py:758: ConvergenceWarning: lbfgs failed to converge. Increase the number of iterations.\n",
      "  \"of iterations.\", ConvergenceWarning)\n",
      "D:\\Python NYU\\lib\\site-packages\\sklearn\\linear_model\\logistic.py:758: ConvergenceWarning: lbfgs failed to converge. Increase the number of iterations.\n",
      "  \"of iterations.\", ConvergenceWarning)\n",
      "D:\\Python NYU\\lib\\site-packages\\sklearn\\linear_model\\logistic.py:758: ConvergenceWarning: lbfgs failed to converge. Increase the number of iterations.\n",
      "  \"of iterations.\", ConvergenceWarning)\n",
      "D:\\Python NYU\\lib\\site-packages\\sklearn\\linear_model\\logistic.py:758: ConvergenceWarning: lbfgs failed to converge. Increase the number of iterations.\n",
      "  \"of iterations.\", ConvergenceWarning)\n",
      "D:\\Python NYU\\lib\\site-packages\\sklearn\\linear_model\\logistic.py:758: ConvergenceWarning: lbfgs failed to converge. Increase the number of iterations.\n",
      "  \"of iterations.\", ConvergenceWarning)\n",
      "D:\\Python NYU\\lib\\site-packages\\sklearn\\linear_model\\logistic.py:758: ConvergenceWarning: lbfgs failed to converge. Increase the number of iterations.\n",
      "  \"of iterations.\", ConvergenceWarning)\n",
      "D:\\Python NYU\\lib\\site-packages\\sklearn\\linear_model\\logistic.py:758: ConvergenceWarning: lbfgs failed to converge. Increase the number of iterations.\n",
      "  \"of iterations.\", ConvergenceWarning)\n"
     ]
    }
   ],
   "source": [
    "scorelist_logregFTE =[]\n",
    "length_logregFTE = len(scorelist_logregFTE)\n",
    "\n",
    "#use for loop to list 10 scores calculated randomly by logistic regression\n",
    "for length_logregFTE in range(1,11):\n",
    "    from sklearn.linear_model import LogisticRegression\n",
    "    log_regFTE = LogisticRegression(solver=\"lbfgs\")    \n",
    "    log_regFTE.fit(X_train2,y_train2)\n",
    "\n",
    "    scorelist_logregFTE.append(log_regFTE.score(X_test2,y_test2))"
   ]
  },
  {
   "cell_type": "code",
   "execution_count": 77,
   "metadata": {},
   "outputs": [
    {
     "data": {
      "text/plain": [
       "[0.8937728937728938,\n",
       " 0.8937728937728938,\n",
       " 0.8937728937728938,\n",
       " 0.8937728937728938,\n",
       " 0.8937728937728938,\n",
       " 0.8937728937728938,\n",
       " 0.8937728937728938,\n",
       " 0.8937728937728938,\n",
       " 0.8937728937728938,\n",
       " 0.8937728937728938]"
      ]
     },
     "execution_count": 77,
     "metadata": {},
     "output_type": "execute_result"
    }
   ],
   "source": [
    "scorelist_logregFTE"
   ]
  },
  {
   "cell_type": "code",
   "execution_count": 78,
   "metadata": {},
   "outputs": [
    {
     "data": {
      "text/plain": [
       "0.8937728937728938"
      ]
     },
     "execution_count": 78,
     "metadata": {},
     "output_type": "execute_result"
    }
   ],
   "source": [
    "#Compute average score\n",
    "np.mean(scorelist_logregFTE)"
   ]
  },
  {
   "cell_type": "markdown",
   "metadata": {},
   "source": [
    "##### Although there is no difference shown above , there is variation in score when we increase the run times in for loop. Therefore, for more accurate score, we can increase run time to at least 100. (Here is just for saving computation time)"
   ]
  },
  {
   "cell_type": "markdown",
   "metadata": {},
   "source": [
    "#### 2.2.1 b) K-Nearest Neighbors"
   ]
  },
  {
   "cell_type": "code",
   "execution_count": 79,
   "metadata": {},
   "outputs": [],
   "source": [
    "from sklearn import neighbors"
   ]
  },
  {
   "cell_type": "code",
   "execution_count": 80,
   "metadata": {},
   "outputs": [],
   "source": [
    "# We aim to select optimal K value that yields the highest accuracy\n",
    "# Assume the range of k is from 1 to 100 in integer\n",
    "# Returns a sequence of integers for k from 1 to 100\n",
    "k_FTE_range = range(1,101) \n",
    "scoresFTE_list=[]\n",
    "\n",
    "for k in k_FTE_range:\n",
    "    knnFTE = neighbors.KNeighborsClassifier(n_neighbors=k) \n",
    "    knnFTE.fit(X_train2, y_train2)\n",
    "    \n",
    "    scoresFTE_list.append(knnFTE.score(X_test2, y_test2))"
   ]
  },
  {
   "cell_type": "code",
   "execution_count": 81,
   "metadata": {},
   "outputs": [
    {
     "data": {
      "text/plain": [
       "Text(0, 0.5, 'Accuracy score')"
      ]
     },
     "execution_count": 81,
     "metadata": {},
     "output_type": "execute_result"
    },
    {
     "data": {
      "image/png": "[encoded data removed]",
      "text/plain": [
       "<Figure size 432x288 with 1 Axes>"
      ]
     },
     "metadata": {
      "needs_background": "light"
     },
     "output_type": "display_data"
    }
   ],
   "source": [
    "#Make a plot showing accuracy scores vs their corresponding k value\n",
    "plt.plot(k_FTE_range,scoresFTE_list)\n",
    "plt.xlabel('Value of K')\n",
    "plt.ylabel('Accuracy score')"
   ]
  },
  {
   "cell_type": "code",
   "execution_count": 82,
   "metadata": {},
   "outputs": [
    {
     "name": "stdout",
     "output_type": "stream",
     "text": [
      "Optimal K is 21 with highest accuracy = 0.8876678876678876\n"
     ]
    }
   ],
   "source": [
    "#Indexing the point with highest accuracy score, which also has the optimal k value selection\n",
    "Accuracy_highest_FTE = max(scoresFTE_list)\n",
    "K_HighestAccuracy_FTE = k_FTE_range[scoresFTE_list.index(Accuracy_highest_FTE)]\n",
    "print (\"Optimal K is\",K_HighestAccuracy_FTE, \"with highest accuracy =\",Accuracy_highest_FTE)"
   ]
  },
  {
   "cell_type": "code",
   "execution_count": 83,
   "metadata": {},
   "outputs": [
    {
     "data": {
      "text/plain": [
       "0.8876678876678876"
      ]
     },
     "execution_count": 83,
     "metadata": {},
     "output_type": "execute_result"
    }
   ],
   "source": [
    "from sklearn import neighbors\n",
    "\n",
    "knnFTE = neighbors.KNeighborsClassifier(n_neighbors=21)\n",
    "knnFTE.fit(X_train2,y_train2)\n",
    "knnFTE.predict(X_test2)\n",
    "knnFTE.score(X_test2,y_test2)"
   ]
  },
  {
   "cell_type": "code",
   "execution_count": 84,
   "metadata": {},
   "outputs": [],
   "source": [
    "scorelistFTE =[]\n",
    "lengthFTE = len(scorelistFTE)\n",
    "\n",
    "for lengthFTE in range(1,11):\n",
    "    from sklearn import neighbors\n",
    "    knnFTE = neighbors.KNeighborsClassifier(n_neighbors=21)\n",
    "    knnFTE.fit(X_train2,y_train2)\n",
    "\n",
    "    scorelistFTE.append(knnFTE.score(X_test2,y_test2))"
   ]
  },
  {
   "cell_type": "code",
   "execution_count": 85,
   "metadata": {},
   "outputs": [
    {
     "data": {
      "text/plain": [
       "[0.8876678876678876,\n",
       " 0.8876678876678876,\n",
       " 0.8876678876678876,\n",
       " 0.8876678876678876,\n",
       " 0.8876678876678876,\n",
       " 0.8876678876678876,\n",
       " 0.8876678876678876,\n",
       " 0.8876678876678876,\n",
       " 0.8876678876678876,\n",
       " 0.8876678876678876]"
      ]
     },
     "execution_count": 85,
     "metadata": {},
     "output_type": "execute_result"
    }
   ],
   "source": [
    "scorelistFTE"
   ]
  },
  {
   "cell_type": "code",
   "execution_count": 86,
   "metadata": {},
   "outputs": [
    {
     "data": {
      "text/plain": [
       "0.8876678876678877"
      ]
     },
     "execution_count": 86,
     "metadata": {},
     "output_type": "execute_result"
    }
   ],
   "source": [
    "np.mean(scorelistFTE)"
   ]
  },
  {
   "cell_type": "markdown",
   "metadata": {},
   "source": [
    "##### Although there is no difference shown above , there is variation in score when we increase the run times in for loop. Therefore, for more accurate score, we can increase run time to at least 100. (Here is just for saving computation time)\n",
    "\n",
    "##### In some conditions, this score is high enough. However, if we want to let this model more accuracy, we can also normalize our data as z-score to manipulate.  "
   ]
  },
  {
   "cell_type": "markdown",
   "metadata": {},
   "source": [
    "#### 2.2.1 c) Classification Tree\n",
    "  "
   ]
  },
  {
   "cell_type": "code",
   "execution_count": 87,
   "metadata": {},
   "outputs": [],
   "source": [
    "from sklearn.tree import DecisionTreeClassifier\n",
    "Cat_tree_FTE = DecisionTreeClassifier()"
   ]
  },
  {
   "cell_type": "code",
   "execution_count": 88,
   "metadata": {},
   "outputs": [
    {
     "data": {
      "text/plain": [
       "DecisionTreeClassifier(class_weight=None, criterion='gini', max_depth=None,\n",
       "            max_features=None, max_leaf_nodes=None,\n",
       "            min_impurity_decrease=0.0, min_impurity_split=None,\n",
       "            min_samples_leaf=1, min_samples_split=2,\n",
       "            min_weight_fraction_leaf=0.0, presort=False, random_state=None,\n",
       "            splitter='best')"
      ]
     },
     "execution_count": 88,
     "metadata": {},
     "output_type": "execute_result"
    }
   ],
   "source": [
    "Cat_tree_FTE.fit(X_train2,y_train2)"
   ]
  },
  {
   "cell_type": "code",
   "execution_count": 89,
   "metadata": {},
   "outputs": [
    {
     "data": {
      "text/plain": [
       "array(['HS Graduate', 'HS Graduate', 'HS Graduate', 'HS Graduate',\n",
       "       'College', 'HS Graduate', 'HS Graduate', 'HS Graduate',\n",
       "       'HS Graduate', 'HS Graduate', 'HS Graduate', 'HS Graduate',\n",
       "       'HS Graduate', 'HS Graduate', 'HS Graduate', 'HS Graduate',\n",
       "       'HS Graduate', 'HS Graduate', 'HS Graduate', 'HS Graduate',\n",
       "       'HS Graduate', 'HS Graduate', 'HS Graduate', 'HS Graduate',\n",
       "       'HS Graduate', 'HS Graduate', 'Some College', 'HS Graduate',\n",
       "       'HS Graduate', 'HS Graduate', 'HS Graduate', 'HS Graduate',\n",
       "       'HS Graduate', 'HS Graduate', 'HS Graduate', 'HS Graduate',\n",
       "       'Post Graduate', 'HS Graduate', 'HS Graduate', 'HS Graduate',\n",
       "       'HS Graduate', 'HS Graduate', 'HS Graduate', 'HS Graduate',\n",
       "       'HS Graduate', 'HS Graduate', 'HS Graduate', 'HS Graduate',\n",
       "       'HS Graduate', 'College', 'HS Graduate', 'HS Graduate',\n",
       "       'HS Graduate', 'College', 'HS Graduate', 'HS Graduate',\n",
       "       'Some College', 'HS Graduate', 'HS Graduate', 'HS Graduate',\n",
       "       'College', 'HS Graduate', 'HS Graduate', 'HS Graduate',\n",
       "       'HS Graduate', 'HS Graduate', 'HS Graduate', 'HS Graduate',\n",
       "       'HS Graduate', 'HS Graduate', 'HS Graduate', 'HS Graduate',\n",
       "       'HS Graduate', 'HS Graduate', 'HS Graduate', 'HS Graduate',\n",
       "       'HS Graduate', 'HS Graduate', 'HS Graduate', 'HS Graduate',\n",
       "       'College', 'HS Graduate', 'HS Graduate', 'HS Graduate',\n",
       "       'HS Graduate', 'HS Graduate', 'HS Graduate', 'HS Graduate',\n",
       "       'HS Graduate', 'HS Graduate', 'HS Graduate', 'HS Graduate',\n",
       "       'HS Graduate', 'HS Graduate', 'HS Graduate', 'HS Graduate',\n",
       "       'HS Graduate', 'HS Graduate', 'College', 'HS Graduate',\n",
       "       'HS Graduate', 'HS Graduate', 'HS Graduate', 'College',\n",
       "       'HS Graduate', 'HS Graduate', 'HS Graduate', 'HS Graduate',\n",
       "       'HS Graduate', 'HS Graduate', 'HS Graduate', 'HS Graduate',\n",
       "       'College', 'HS Graduate', 'HS Graduate', 'HS Graduate',\n",
       "       'HS Graduate', 'HS Graduate', 'HS Graduate', 'HS Graduate',\n",
       "       'HS Graduate', 'HS Graduate', 'College', 'HS Graduate',\n",
       "       'HS Graduate', 'HS Graduate', 'HS Graduate', 'HS Graduate',\n",
       "       'College', 'HS Graduate', 'HS Graduate', 'HS Graduate',\n",
       "       'HS Graduate', 'HS Graduate', 'HS Graduate', 'HS Graduate',\n",
       "       'HS Graduate', 'HS Graduate', 'HS Graduate', 'HS Graduate',\n",
       "       'HS Graduate', 'HS Graduate', 'HS Graduate', 'HS Graduate',\n",
       "       'HS Graduate', 'HS Graduate', 'HS Graduate', '10', 'HS Graduate',\n",
       "       'HS Graduate', 'HS Graduate', 'HS Graduate', 'HS Graduate',\n",
       "       'HS Graduate', 'HS Graduate', 'HS Graduate', 'HS Graduate',\n",
       "       'HS Graduate', 'HS Graduate', 'HS Graduate', 'HS Graduate',\n",
       "       'HS Graduate', 'HS Graduate', 'HS Graduate', 'HS Graduate',\n",
       "       'HS Graduate', 'HS Graduate', 'HS Graduate', 'HS Graduate',\n",
       "       'HS Graduate', 'HS Graduate', 'HS Graduate', 'HS Graduate',\n",
       "       'HS Graduate', 'HS Graduate', 'HS Graduate', 'HS Graduate',\n",
       "       'HS Graduate', 'HS Graduate', 'HS Graduate', 'HS Graduate',\n",
       "       'HS Graduate', 'HS Graduate', 'HS Graduate', 'HS Graduate',\n",
       "       'HS Graduate', 'HS Graduate', 'HS Graduate', 'HS Graduate',\n",
       "       'HS Graduate', 'HS Graduate', 'HS Graduate', 'HS Graduate',\n",
       "       'College', 'HS Graduate', 'HS Graduate', 'HS Graduate', 'College',\n",
       "       'Some College', 'HS Graduate', 'College', 'HS Graduate',\n",
       "       'HS Graduate', 'HS Graduate', 'HS Graduate', 'HS Graduate',\n",
       "       'HS Graduate', 'HS Graduate', 'HS Graduate', 'HS Graduate',\n",
       "       'HS Graduate', 'HS Graduate', 'HS Graduate', 'HS Graduate',\n",
       "       'HS Graduate', 'HS Graduate', 'HS Graduate', 'College',\n",
       "       'HS Graduate', 'HS Graduate', 'HS Graduate', 'HS Graduate',\n",
       "       'HS Graduate', 'HS Graduate', 'HS Graduate', 'HS Graduate',\n",
       "       'HS Graduate', 'HS Graduate', 'HS Graduate', 'HS Graduate',\n",
       "       'HS Graduate', 'HS Graduate', 'College', 'HS Graduate',\n",
       "       'HS Graduate', 'Some College', 'HS Graduate', 'College',\n",
       "       'HS Graduate', 'HS Graduate', 'HS Graduate', 'HS Graduate',\n",
       "       'HS Graduate', 'HS Graduate', 'HS Graduate', 'HS Graduate',\n",
       "       'HS Graduate', 'HS Graduate', 'HS Graduate', 'HS Graduate',\n",
       "       'HS Graduate', 'HS Graduate', 'HS Graduate', 'HS Graduate',\n",
       "       'Post Graduate', 'HS Graduate', 'HS Graduate', 'HS Graduate',\n",
       "       'HS Graduate', 'HS Graduate', 'College', 'HS Graduate', 'College',\n",
       "       'HS Graduate', 'HS Graduate', 'HS Graduate', 'HS Graduate',\n",
       "       'Some College', 'HS Graduate', 'HS Graduate', 'HS Graduate',\n",
       "       'HS Graduate', 'HS Graduate', 'HS Graduate', 'HS Graduate',\n",
       "       'HS Graduate', 'HS Graduate', 'HS Graduate', 'HS Graduate',\n",
       "       'HS Graduate', 'HS Graduate', 'HS Graduate', 'HS Graduate',\n",
       "       'HS Graduate', 'HS Graduate', 'HS Graduate', 'HS Graduate', '11',\n",
       "       'HS Graduate', 'HS Graduate', 'HS Graduate', 'Some College',\n",
       "       'HS Graduate', 'HS Graduate', 'HS Graduate', 'HS Graduate',\n",
       "       'HS Graduate', 'HS Graduate', 'HS Graduate', 'HS Graduate',\n",
       "       'HS Graduate', 'HS Graduate', 'College', 'HS Graduate',\n",
       "       'HS Graduate', 'HS Graduate', 'College', 'HS Graduate',\n",
       "       'HS Graduate', 'College', 'HS Graduate', 'HS Graduate',\n",
       "       'HS Graduate', 'HS Graduate', 'HS Graduate', 'HS Graduate',\n",
       "       'HS Graduate', 'HS Graduate', 'HS Graduate', 'HS Graduate',\n",
       "       'HS Graduate', 'HS Graduate', 'HS Graduate', 'HS Graduate',\n",
       "       'HS Graduate', 'HS Graduate', 'HS Graduate', 'HS Graduate',\n",
       "       'HS Graduate', 'HS Graduate', 'HS Graduate', 'HS Graduate',\n",
       "       'HS Graduate', 'HS Graduate', 'HS Graduate', 'HS Graduate',\n",
       "       'HS Graduate', 'HS Graduate', 'HS Graduate', 'HS Graduate',\n",
       "       'HS Graduate', 'HS Graduate', '11', 'HS Graduate', 'HS Graduate',\n",
       "       'HS Graduate', 'HS Graduate', 'HS Graduate', 'HS Graduate',\n",
       "       'HS Graduate', 'HS Graduate', 'HS Graduate', 'HS Graduate',\n",
       "       'HS Graduate', 'HS Graduate', 'Some College', 'HS Graduate',\n",
       "       'HS Graduate', 'HS Graduate', 'HS Graduate', 'HS Graduate',\n",
       "       'HS Graduate', 'HS Graduate', 'HS Graduate', 'HS Graduate',\n",
       "       'HS Graduate', 'HS Graduate', 'HS Graduate', 'HS Graduate',\n",
       "       'HS Graduate', 'HS Graduate', 'HS Graduate', 'HS Graduate',\n",
       "       'HS Graduate', 'HS Graduate', 'HS Graduate', 'HS Graduate',\n",
       "       'HS Graduate', 'HS Graduate', 'Some College', 'HS Graduate',\n",
       "       'HS Graduate', 'HS Graduate', '11', 'HS Graduate', 'HS Graduate',\n",
       "       'HS Graduate', 'HS Graduate', 'HS Graduate', 'HS Graduate',\n",
       "       'HS Graduate', 'College', 'College', 'HS Graduate', 'HS Graduate',\n",
       "       'HS Graduate', 'HS Graduate', 'HS Graduate', 'HS Graduate',\n",
       "       'HS Graduate', 'HS Graduate', 'HS Graduate', 'HS Graduate',\n",
       "       'HS Graduate', 'HS Graduate', 'HS Graduate', 'HS Graduate',\n",
       "       'HS Graduate', 'HS Graduate', 'HS Graduate', 'HS Graduate',\n",
       "       'HS Graduate', 'HS Graduate', 'HS Graduate', 'HS Graduate',\n",
       "       'HS Graduate', 'HS Graduate', 'HS Graduate', 'College',\n",
       "       'HS Graduate', 'HS Graduate', 'HS Graduate', 'Some College',\n",
       "       'HS Graduate', 'HS Graduate', 'HS Graduate', 'HS Graduate',\n",
       "       'HS Graduate', 'HS Graduate', 'HS Graduate', 'HS Graduate',\n",
       "       'HS Graduate', 'HS Graduate', 'HS Graduate', 'HS Graduate',\n",
       "       'HS Graduate', 'HS Graduate', 'HS Graduate', 'HS Graduate', '10',\n",
       "       'HS Graduate', 'HS Graduate', 'HS Graduate', 'HS Graduate',\n",
       "       'HS Graduate', 'College', 'HS Graduate', 'HS Graduate',\n",
       "       'HS Graduate', 'Some College', 'HS Graduate', 'HS Graduate',\n",
       "       'HS Graduate', 'HS Graduate', 'HS Graduate', 'HS Graduate',\n",
       "       'HS Graduate', 'HS Graduate', 'College', 'HS Graduate',\n",
       "       'HS Graduate', 'HS Graduate', 'HS Graduate', 'College',\n",
       "       'HS Graduate', 'HS Graduate', 'HS Graduate', 'HS Graduate',\n",
       "       'HS Graduate', 'HS Graduate', 'Some College', 'HS Graduate',\n",
       "       'HS Graduate', 'HS Graduate', 'HS Graduate', 'Some College',\n",
       "       'HS Graduate', 'HS Graduate', 'HS Graduate', 'HS Graduate',\n",
       "       'HS Graduate', 'HS Graduate', 'HS Graduate', 'HS Graduate',\n",
       "       'HS Graduate', 'HS Graduate', 'HS Graduate', 'HS Graduate',\n",
       "       'HS Graduate', 'HS Graduate', 'HS Graduate', 'College', 'College',\n",
       "       'HS Graduate', 'HS Graduate', 'College', '10', 'HS Graduate',\n",
       "       'HS Graduate', 'HS Graduate', 'HS Graduate', 'HS Graduate',\n",
       "       'HS Graduate', 'HS Graduate', 'HS Graduate', 'HS Graduate',\n",
       "       'HS Graduate', 'Some College', 'HS Graduate', 'College',\n",
       "       'HS Graduate', 'HS Graduate', 'HS Graduate', 'HS Graduate',\n",
       "       'HS Graduate', 'HS Graduate', 'Some College', 'HS Graduate',\n",
       "       'HS Graduate', 'HS Graduate', 'HS Graduate', 'HS Graduate',\n",
       "       'HS Graduate', 'HS Graduate', 'HS Graduate', 'HS Graduate',\n",
       "       'HS Graduate', 'College', 'HS Graduate', 'HS Graduate',\n",
       "       'HS Graduate', 'HS Graduate', 'HS Graduate', 'HS Graduate',\n",
       "       'HS Graduate', 'HS Graduate', 'HS Graduate', 'HS Graduate',\n",
       "       'HS Graduate', 'HS Graduate', 'HS Graduate', 'HS Graduate',\n",
       "       'HS Graduate', 'College', 'HS Graduate', 'HS Graduate', 'College',\n",
       "       'HS Graduate', 'HS Graduate', 'College', 'HS Graduate',\n",
       "       'HS Graduate', 'College', 'HS Graduate', 'HS Graduate',\n",
       "       'HS Graduate', 'HS Graduate', 'HS Graduate', 'HS Graduate',\n",
       "       'HS Graduate', 'HS Graduate', 'HS Graduate', 'HS Graduate',\n",
       "       'HS Graduate', 'HS Graduate', 'HS Graduate', 'HS Graduate',\n",
       "       'HS Graduate', 'HS Graduate', 'HS Graduate', 'HS Graduate',\n",
       "       'College', 'HS Graduate', 'HS Graduate', 'HS Graduate',\n",
       "       'HS Graduate', 'HS Graduate', 'HS Graduate', 'HS Graduate',\n",
       "       'HS Graduate', 'HS Graduate', 'HS Graduate', 'HS Graduate',\n",
       "       'HS Graduate', 'HS Graduate', 'HS Graduate', 'HS Graduate',\n",
       "       'HS Graduate', 'HS Graduate', 'HS Graduate', 'HS Graduate',\n",
       "       'HS Graduate', 'HS Graduate', 'HS Graduate', 'Some College',\n",
       "       'HS Graduate', 'HS Graduate', 'HS Graduate', 'HS Graduate',\n",
       "       'HS Graduate', 'HS Graduate', 'HS Graduate', 'HS Graduate',\n",
       "       'HS Graduate', 'HS Graduate', 'HS Graduate', 'HS Graduate',\n",
       "       'College', 'HS Graduate', 'HS Graduate', 'HS Graduate',\n",
       "       'HS Graduate', 'HS Graduate', 'HS Graduate', 'HS Graduate',\n",
       "       'HS Graduate', 'HS Graduate', 'Some College', 'HS Graduate',\n",
       "       'HS Graduate', 'HS Graduate', 'HS Graduate', 'HS Graduate',\n",
       "       'HS Graduate', 'HS Graduate', 'HS Graduate', 'HS Graduate',\n",
       "       'College', 'HS Graduate', 'HS Graduate', 'HS Graduate', 'College',\n",
       "       'HS Graduate', 'HS Graduate', 'College', 'HS Graduate',\n",
       "       'HS Graduate', 'HS Graduate', 'HS Graduate', 'HS Graduate',\n",
       "       'HS Graduate', 'HS Graduate', 'HS Graduate', 'HS Graduate',\n",
       "       'HS Graduate', 'HS Graduate', 'College', 'HS Graduate',\n",
       "       'Some College', 'HS Graduate', 'HS Graduate', 'HS Graduate',\n",
       "       'HS Graduate', 'HS Graduate', 'HS Graduate', 'HS Graduate',\n",
       "       'HS Graduate', 'HS Graduate', '11', 'HS Graduate', '10',\n",
       "       'HS Graduate', 'HS Graduate', 'College', 'HS Graduate',\n",
       "       'HS Graduate', 'HS Graduate', 'HS Graduate', 'HS Graduate',\n",
       "       'HS Graduate', 'HS Graduate', 'HS Graduate', 'HS Graduate',\n",
       "       'HS Graduate', 'HS Graduate', 'HS Graduate', 'HS Graduate',\n",
       "       'HS Graduate', 'College', 'HS Graduate', 'HS Graduate',\n",
       "       'HS Graduate', 'HS Graduate', 'HS Graduate', 'HS Graduate',\n",
       "       'HS Graduate', 'HS Graduate', 'HS Graduate', 'HS Graduate',\n",
       "       'HS Graduate', 'College', 'HS Graduate', 'HS Graduate',\n",
       "       'HS Graduate', 'HS Graduate', 'HS Graduate', 'HS Graduate',\n",
       "       'HS Graduate', 'HS Graduate', 'HS Graduate', 'HS Graduate',\n",
       "       'HS Graduate', 'HS Graduate', 'HS Graduate', 'HS Graduate',\n",
       "       'HS Graduate', 'HS Graduate', 'HS Graduate', 'HS Graduate',\n",
       "       'HS Graduate', 'HS Graduate', 'HS Graduate', 'College',\n",
       "       'HS Graduate', 'HS Graduate', 'HS Graduate', 'HS Graduate',\n",
       "       'HS Graduate', 'HS Graduate', 'HS Graduate', 'College',\n",
       "       'HS Graduate', 'HS Graduate', 'HS Graduate', 'HS Graduate',\n",
       "       'HS Graduate', 'HS Graduate', 'HS Graduate', 'HS Graduate',\n",
       "       'HS Graduate', 'HS Graduate', 'College', 'HS Graduate',\n",
       "       'HS Graduate', 'HS Graduate', 'HS Graduate', 'College',\n",
       "       'HS Graduate', 'HS Graduate', 'HS Graduate', 'HS Graduate',\n",
       "       'HS Graduate', 'HS Graduate', 'HS Graduate', 'HS Graduate',\n",
       "       'HS Graduate', 'HS Graduate', 'HS Graduate', 'HS Graduate',\n",
       "       'HS Graduate', '11', 'HS Graduate', 'College', 'HS Graduate',\n",
       "       'College', 'HS Graduate', 'HS Graduate', 'College', 'HS Graduate',\n",
       "       'HS Graduate', 'HS Graduate', 'HS Graduate', 'College',\n",
       "       'Some College', 'HS Graduate', 'HS Graduate', 'HS Graduate',\n",
       "       'College', 'HS Graduate', 'HS Graduate', 'HS Graduate',\n",
       "       'HS Graduate', 'Some College', 'HS Graduate', 'HS Graduate',\n",
       "       'HS Graduate', 'HS Graduate', 'HS Graduate', 'HS Graduate',\n",
       "       'HS Graduate', 'HS Graduate', 'HS Graduate', 'HS Graduate',\n",
       "       'HS Graduate', 'HS Graduate', 'HS Graduate', 'HS Graduate',\n",
       "       'HS Graduate', 'HS Graduate', 'HS Graduate', 'HS Graduate',\n",
       "       'HS Graduate', 'HS Graduate', 'HS Graduate', 'HS Graduate',\n",
       "       'HS Graduate', 'HS Graduate', 'HS Graduate', 'HS Graduate',\n",
       "       'HS Graduate', 'HS Graduate', 'College', 'HS Graduate',\n",
       "       'HS Graduate', 'HS Graduate', 'College', 'HS Graduate',\n",
       "       'HS Graduate', 'HS Graduate', 'HS Graduate', 'HS Graduate',\n",
       "       'HS Graduate', 'HS Graduate', 'HS Graduate', 'HS Graduate',\n",
       "       'HS Graduate', 'HS Graduate', 'HS Graduate', 'HS Graduate'],\n",
       "      dtype=object)"
      ]
     },
     "execution_count": 89,
     "metadata": {},
     "output_type": "execute_result"
    }
   ],
   "source": [
    "Cat_tree_FTE.predict(X_test2)"
   ]
  },
  {
   "cell_type": "code",
   "execution_count": 90,
   "metadata": {},
   "outputs": [
    {
     "data": {
      "text/plain": [
       "0.8302808302808303"
      ]
     },
     "execution_count": 90,
     "metadata": {},
     "output_type": "execute_result"
    }
   ],
   "source": [
    "Cat_tree_FTE.score(X_test2,y_test2)"
   ]
  },
  {
   "cell_type": "code",
   "execution_count": 91,
   "metadata": {},
   "outputs": [],
   "source": [
    "scorelist_catFTE =[]\n",
    "length_catFTE = len(scorelist_catFTE)\n",
    "\n",
    "#use for loop to list 10 scores calculated randomly by categorical tree\n",
    "for length_catFTE in range(1,11):\n",
    "    from sklearn.tree import DecisionTreeClassifier\n",
    "    Cat_tree_FTE = DecisionTreeClassifier()    \n",
    "    Cat_tree_FTE.fit(X_train2,y_train2)\n",
    "\n",
    "    scorelist_catFTE.append(Cat_tree_FTE.score(X_test2,y_test2))"
   ]
  },
  {
   "cell_type": "code",
   "execution_count": 92,
   "metadata": {},
   "outputs": [
    {
     "data": {
      "text/plain": [
       "[0.8302808302808303,\n",
       " 0.8376068376068376,\n",
       " 0.8290598290598291,\n",
       " 0.8290598290598291,\n",
       " 0.8315018315018315,\n",
       " 0.8315018315018315,\n",
       " 0.8327228327228328,\n",
       " 0.8302808302808303,\n",
       " 0.833943833943834,\n",
       " 0.8290598290598291]"
      ]
     },
     "execution_count": 92,
     "metadata": {},
     "output_type": "execute_result"
    }
   ],
   "source": [
    "scorelist_catFTE"
   ]
  },
  {
   "cell_type": "code",
   "execution_count": 93,
   "metadata": {},
   "outputs": [
    {
     "data": {
      "text/plain": [
       "0.8315018315018315"
      ]
     },
     "execution_count": 93,
     "metadata": {},
     "output_type": "execute_result"
    }
   ],
   "source": [
    "np.mean(scorelist_catFTE)"
   ]
  },
  {
   "cell_type": "markdown",
   "metadata": {},
   "source": [
    "#### 2.2.1 d) Random Forest"
   ]
  },
  {
   "cell_type": "code",
   "execution_count": 94,
   "metadata": {},
   "outputs": [],
   "source": [
    "from sklearn.ensemble import RandomForestClassifier\n",
    "randomforest_FTE = RandomForestClassifier()"
   ]
  },
  {
   "cell_type": "code",
   "execution_count": 95,
   "metadata": {},
   "outputs": [
    {
     "name": "stderr",
     "output_type": "stream",
     "text": [
      "D:\\Python NYU\\lib\\site-packages\\sklearn\\ensemble\\forest.py:246: FutureWarning: The default value of n_estimators will change from 10 in version 0.20 to 100 in 0.22.\n",
      "  \"10 in version 0.20 to 100 in 0.22.\", FutureWarning)\n"
     ]
    },
    {
     "data": {
      "text/plain": [
       "RandomForestClassifier(bootstrap=True, class_weight=None, criterion='gini',\n",
       "            max_depth=None, max_features='auto', max_leaf_nodes=None,\n",
       "            min_impurity_decrease=0.0, min_impurity_split=None,\n",
       "            min_samples_leaf=1, min_samples_split=2,\n",
       "            min_weight_fraction_leaf=0.0, n_estimators=10, n_jobs=None,\n",
       "            oob_score=False, random_state=None, verbose=0,\n",
       "            warm_start=False)"
      ]
     },
     "execution_count": 95,
     "metadata": {},
     "output_type": "execute_result"
    }
   ],
   "source": [
    "randomforest_FTE.fit(X_train2,y_train2)"
   ]
  },
  {
   "cell_type": "code",
   "execution_count": 96,
   "metadata": {},
   "outputs": [
    {
     "data": {
      "text/plain": [
       "array(['HS Graduate', 'HS Graduate', 'HS Graduate', 'HS Graduate',\n",
       "       'HS Graduate', 'HS Graduate', 'HS Graduate', 'HS Graduate',\n",
       "       'HS Graduate', 'HS Graduate', 'HS Graduate', 'HS Graduate',\n",
       "       'HS Graduate', 'HS Graduate', 'HS Graduate', 'HS Graduate',\n",
       "       'HS Graduate', 'HS Graduate', 'HS Graduate', 'HS Graduate',\n",
       "       'HS Graduate', 'HS Graduate', 'HS Graduate', 'HS Graduate',\n",
       "       'HS Graduate', 'HS Graduate', 'HS Graduate', 'HS Graduate',\n",
       "       'HS Graduate', 'HS Graduate', 'HS Graduate', 'HS Graduate',\n",
       "       'HS Graduate', 'HS Graduate', 'HS Graduate', 'HS Graduate',\n",
       "       'HS Graduate', 'HS Graduate', 'HS Graduate', 'HS Graduate',\n",
       "       'HS Graduate', 'HS Graduate', 'HS Graduate', 'HS Graduate',\n",
       "       'HS Graduate', 'HS Graduate', 'HS Graduate', 'HS Graduate',\n",
       "       'HS Graduate', 'College', 'HS Graduate', 'HS Graduate',\n",
       "       'HS Graduate', 'HS Graduate', 'HS Graduate', 'HS Graduate',\n",
       "       'HS Graduate', 'HS Graduate', 'HS Graduate', 'HS Graduate',\n",
       "       'HS Graduate', 'HS Graduate', 'HS Graduate', 'HS Graduate',\n",
       "       'HS Graduate', 'HS Graduate', 'HS Graduate', 'HS Graduate',\n",
       "       'HS Graduate', 'HS Graduate', 'HS Graduate', 'HS Graduate',\n",
       "       'HS Graduate', 'HS Graduate', 'HS Graduate', 'HS Graduate',\n",
       "       'HS Graduate', 'HS Graduate', 'HS Graduate', 'HS Graduate',\n",
       "       'College', 'HS Graduate', 'HS Graduate', 'HS Graduate',\n",
       "       'HS Graduate', 'HS Graduate', 'HS Graduate', 'HS Graduate',\n",
       "       'HS Graduate', 'HS Graduate', 'HS Graduate', 'HS Graduate',\n",
       "       'HS Graduate', 'HS Graduate', 'HS Graduate', 'HS Graduate',\n",
       "       'HS Graduate', 'HS Graduate', 'College', 'HS Graduate',\n",
       "       'HS Graduate', 'HS Graduate', 'HS Graduate', 'College',\n",
       "       'HS Graduate', 'HS Graduate', 'HS Graduate', 'HS Graduate',\n",
       "       'HS Graduate', 'HS Graduate', 'HS Graduate', 'HS Graduate',\n",
       "       'HS Graduate', 'HS Graduate', 'HS Graduate', 'HS Graduate',\n",
       "       'HS Graduate', 'HS Graduate', 'HS Graduate', 'HS Graduate',\n",
       "       'HS Graduate', 'HS Graduate', 'HS Graduate', 'HS Graduate',\n",
       "       'College', 'HS Graduate', 'HS Graduate', 'HS Graduate',\n",
       "       'HS Graduate', 'HS Graduate', 'HS Graduate', 'HS Graduate',\n",
       "       'HS Graduate', 'HS Graduate', 'HS Graduate', 'HS Graduate',\n",
       "       'HS Graduate', 'HS Graduate', 'HS Graduate', 'HS Graduate',\n",
       "       'HS Graduate', 'HS Graduate', 'HS Graduate', 'HS Graduate',\n",
       "       'HS Graduate', 'HS Graduate', 'HS Graduate', 'HS Graduate',\n",
       "       'HS Graduate', 'HS Graduate', 'HS Graduate', 'HS Graduate',\n",
       "       'HS Graduate', 'HS Graduate', 'HS Graduate', 'HS Graduate',\n",
       "       'HS Graduate', 'HS Graduate', 'HS Graduate', 'HS Graduate',\n",
       "       'HS Graduate', 'HS Graduate', 'HS Graduate', 'HS Graduate',\n",
       "       'HS Graduate', 'HS Graduate', 'HS Graduate', 'HS Graduate',\n",
       "       'HS Graduate', 'HS Graduate', 'HS Graduate', 'HS Graduate',\n",
       "       'HS Graduate', 'HS Graduate', 'HS Graduate', 'HS Graduate',\n",
       "       'HS Graduate', 'HS Graduate', 'HS Graduate', 'HS Graduate',\n",
       "       'HS Graduate', 'HS Graduate', 'HS Graduate', 'HS Graduate',\n",
       "       'HS Graduate', 'HS Graduate', 'HS Graduate', 'HS Graduate',\n",
       "       'HS Graduate', 'HS Graduate', 'HS Graduate', 'HS Graduate',\n",
       "       'HS Graduate', 'College', 'HS Graduate', 'HS Graduate',\n",
       "       'HS Graduate', 'HS Graduate', 'HS Graduate', 'HS Graduate',\n",
       "       'HS Graduate', 'HS Graduate', 'HS Graduate', 'HS Graduate',\n",
       "       'HS Graduate', 'HS Graduate', 'HS Graduate', 'HS Graduate',\n",
       "       'HS Graduate', 'HS Graduate', 'HS Graduate', 'HS Graduate',\n",
       "       'HS Graduate', 'HS Graduate', 'HS Graduate', 'HS Graduate',\n",
       "       'HS Graduate', 'HS Graduate', 'HS Graduate', 'HS Graduate',\n",
       "       'HS Graduate', 'HS Graduate', 'HS Graduate', 'HS Graduate',\n",
       "       'HS Graduate', 'HS Graduate', 'HS Graduate', 'HS Graduate',\n",
       "       'HS Graduate', 'HS Graduate', 'HS Graduate', 'HS Graduate',\n",
       "       'College', 'HS Graduate', 'HS Graduate', 'HS Graduate',\n",
       "       'HS Graduate', 'HS Graduate', 'HS Graduate', 'HS Graduate',\n",
       "       'HS Graduate', 'HS Graduate', 'HS Graduate', 'HS Graduate',\n",
       "       'HS Graduate', 'HS Graduate', 'HS Graduate', 'HS Graduate',\n",
       "       'HS Graduate', 'HS Graduate', 'HS Graduate', 'HS Graduate',\n",
       "       'HS Graduate', 'HS Graduate', 'HS Graduate', 'HS Graduate',\n",
       "       'HS Graduate', 'HS Graduate', 'HS Graduate', 'HS Graduate',\n",
       "       'College', 'HS Graduate', 'HS Graduate', 'HS Graduate',\n",
       "       'HS Graduate', 'HS Graduate', 'HS Graduate', 'Some College',\n",
       "       'HS Graduate', 'HS Graduate', 'HS Graduate', 'HS Graduate',\n",
       "       'HS Graduate', 'HS Graduate', 'College', 'HS Graduate',\n",
       "       'HS Graduate', 'HS Graduate', 'HS Graduate', 'HS Graduate',\n",
       "       'HS Graduate', 'HS Graduate', 'HS Graduate', 'HS Graduate',\n",
       "       'HS Graduate', 'HS Graduate', 'HS Graduate', 'HS Graduate',\n",
       "       'HS Graduate', 'HS Graduate', 'HS Graduate', 'HS Graduate',\n",
       "       'HS Graduate', 'HS Graduate', 'HS Graduate', 'HS Graduate',\n",
       "       'HS Graduate', 'HS Graduate', 'HS Graduate', 'HS Graduate',\n",
       "       'HS Graduate', 'HS Graduate', 'College', 'HS Graduate',\n",
       "       'HS Graduate', 'HS Graduate', 'College', 'HS Graduate',\n",
       "       'HS Graduate', 'HS Graduate', 'HS Graduate', 'HS Graduate',\n",
       "       'HS Graduate', 'HS Graduate', 'HS Graduate', 'HS Graduate',\n",
       "       'HS Graduate', 'HS Graduate', 'HS Graduate', 'HS Graduate',\n",
       "       'HS Graduate', 'HS Graduate', 'HS Graduate', 'HS Graduate',\n",
       "       'HS Graduate', 'HS Graduate', 'HS Graduate', 'HS Graduate',\n",
       "       'HS Graduate', 'HS Graduate', 'HS Graduate', 'HS Graduate',\n",
       "       'HS Graduate', 'HS Graduate', 'HS Graduate', 'HS Graduate',\n",
       "       'HS Graduate', 'HS Graduate', 'HS Graduate', 'HS Graduate',\n",
       "       'HS Graduate', 'HS Graduate', '11', 'HS Graduate', 'HS Graduate',\n",
       "       'HS Graduate', 'HS Graduate', 'HS Graduate', 'HS Graduate',\n",
       "       'HS Graduate', 'HS Graduate', 'HS Graduate', 'HS Graduate',\n",
       "       'HS Graduate', 'HS Graduate', 'Some College', 'College',\n",
       "       'HS Graduate', 'HS Graduate', 'HS Graduate', 'HS Graduate',\n",
       "       'HS Graduate', 'HS Graduate', 'HS Graduate', 'HS Graduate',\n",
       "       'HS Graduate', 'HS Graduate', 'HS Graduate', 'HS Graduate',\n",
       "       'HS Graduate', 'HS Graduate', 'HS Graduate', 'HS Graduate',\n",
       "       'HS Graduate', 'HS Graduate', 'HS Graduate', 'HS Graduate',\n",
       "       'HS Graduate', 'HS Graduate', 'College', 'HS Graduate',\n",
       "       'HS Graduate', 'HS Graduate', '11', 'HS Graduate', 'HS Graduate',\n",
       "       'HS Graduate', 'HS Graduate', 'HS Graduate', 'HS Graduate',\n",
       "       'HS Graduate', 'HS Graduate', 'College', 'HS Graduate',\n",
       "       'HS Graduate', 'College', 'HS Graduate', 'HS Graduate',\n",
       "       'HS Graduate', 'HS Graduate', 'HS Graduate', 'HS Graduate',\n",
       "       'HS Graduate', 'HS Graduate', 'HS Graduate', 'HS Graduate',\n",
       "       'HS Graduate', 'HS Graduate', 'HS Graduate', 'HS Graduate',\n",
       "       'HS Graduate', 'HS Graduate', 'HS Graduate', 'HS Graduate',\n",
       "       'HS Graduate', 'HS Graduate', 'HS Graduate', 'HS Graduate',\n",
       "       'HS Graduate', 'HS Graduate', 'HS Graduate', 'HS Graduate',\n",
       "       'HS Graduate', 'HS Graduate', 'HS Graduate', 'HS Graduate',\n",
       "       'HS Graduate', 'HS Graduate', 'HS Graduate', 'HS Graduate',\n",
       "       'HS Graduate', 'HS Graduate', 'HS Graduate', 'HS Graduate',\n",
       "       'HS Graduate', 'HS Graduate', 'HS Graduate', 'HS Graduate',\n",
       "       'HS Graduate', '10', 'HS Graduate', 'HS Graduate', 'HS Graduate',\n",
       "       'HS Graduate', 'HS Graduate', 'HS Graduate', 'HS Graduate',\n",
       "       'HS Graduate', 'HS Graduate', 'HS Graduate', 'HS Graduate',\n",
       "       'HS Graduate', 'HS Graduate', 'HS Graduate', 'HS Graduate',\n",
       "       'HS Graduate', 'HS Graduate', 'HS Graduate', 'HS Graduate',\n",
       "       'HS Graduate', 'College', 'HS Graduate', 'HS Graduate',\n",
       "       'Some College', 'HS Graduate', 'HS Graduate', 'HS Graduate',\n",
       "       'HS Graduate', 'HS Graduate', 'HS Graduate', 'HS Graduate',\n",
       "       'HS Graduate', 'HS Graduate', 'HS Graduate', 'HS Graduate',\n",
       "       'HS Graduate', 'Some College', 'HS Graduate', 'HS Graduate',\n",
       "       'HS Graduate', 'HS Graduate', 'HS Graduate', 'HS Graduate',\n",
       "       'HS Graduate', 'HS Graduate', 'HS Graduate', 'HS Graduate',\n",
       "       'HS Graduate', 'HS Graduate', 'HS Graduate', 'HS Graduate',\n",
       "       'College', 'College', 'HS Graduate', 'HS Graduate', 'College',\n",
       "       'HS Graduate', 'HS Graduate', 'HS Graduate', 'HS Graduate',\n",
       "       'HS Graduate', 'HS Graduate', 'HS Graduate', 'HS Graduate',\n",
       "       'College', 'HS Graduate', 'HS Graduate', 'College', 'HS Graduate',\n",
       "       'Post Graduate', 'HS Graduate', 'HS Graduate', 'HS Graduate',\n",
       "       'HS Graduate', 'HS Graduate', 'HS Graduate', 'HS Graduate',\n",
       "       'HS Graduate', 'HS Graduate', 'HS Graduate', 'HS Graduate',\n",
       "       'HS Graduate', 'HS Graduate', 'HS Graduate', 'HS Graduate',\n",
       "       'HS Graduate', 'HS Graduate', 'HS Graduate', 'HS Graduate',\n",
       "       'HS Graduate', 'HS Graduate', 'HS Graduate', 'HS Graduate',\n",
       "       'HS Graduate', 'HS Graduate', 'College', 'HS Graduate',\n",
       "       'HS Graduate', 'HS Graduate', 'HS Graduate', 'HS Graduate',\n",
       "       'HS Graduate', 'HS Graduate', 'College', 'HS Graduate',\n",
       "       'HS Graduate', 'HS Graduate', 'HS Graduate', 'HS Graduate',\n",
       "       'HS Graduate', 'College', 'HS Graduate', 'HS Graduate',\n",
       "       'HS Graduate', 'HS Graduate', 'HS Graduate', 'HS Graduate',\n",
       "       'HS Graduate', 'HS Graduate', 'HS Graduate', 'HS Graduate',\n",
       "       'HS Graduate', 'HS Graduate', 'HS Graduate', 'HS Graduate',\n",
       "       'HS Graduate', 'HS Graduate', 'HS Graduate', 'HS Graduate',\n",
       "       'HS Graduate', 'HS Graduate', 'College', 'HS Graduate',\n",
       "       'HS Graduate', 'HS Graduate', 'HS Graduate', 'HS Graduate',\n",
       "       'HS Graduate', 'HS Graduate', 'HS Graduate', 'HS Graduate',\n",
       "       'HS Graduate', 'HS Graduate', 'HS Graduate', 'HS Graduate',\n",
       "       'HS Graduate', 'HS Graduate', 'HS Graduate', 'HS Graduate',\n",
       "       'HS Graduate', 'HS Graduate', 'HS Graduate', 'HS Graduate',\n",
       "       'HS Graduate', 'HS Graduate', 'HS Graduate', 'HS Graduate',\n",
       "       'HS Graduate', 'HS Graduate', 'HS Graduate', 'HS Graduate',\n",
       "       'HS Graduate', 'HS Graduate', 'HS Graduate', 'HS Graduate',\n",
       "       'HS Graduate', 'HS Graduate', 'HS Graduate', 'HS Graduate',\n",
       "       'HS Graduate', 'HS Graduate', 'HS Graduate', 'HS Graduate',\n",
       "       'HS Graduate', 'HS Graduate', 'HS Graduate', 'HS Graduate',\n",
       "       'Some College', 'HS Graduate', 'HS Graduate', 'Some College',\n",
       "       'HS Graduate', 'HS Graduate', 'HS Graduate', 'HS Graduate',\n",
       "       'HS Graduate', 'HS Graduate', 'College', 'HS Graduate',\n",
       "       'HS Graduate', 'HS Graduate', 'HS Graduate', 'HS Graduate',\n",
       "       'HS Graduate', 'HS Graduate', 'HS Graduate', 'HS Graduate',\n",
       "       'HS Graduate', 'HS Graduate', 'HS Graduate', 'HS Graduate',\n",
       "       'HS Graduate', 'HS Graduate', 'HS Graduate', 'HS Graduate',\n",
       "       'HS Graduate', 'College', 'HS Graduate', 'HS Graduate',\n",
       "       'HS Graduate', 'HS Graduate', 'HS Graduate', 'HS Graduate',\n",
       "       'HS Graduate', 'HS Graduate', 'HS Graduate', 'HS Graduate',\n",
       "       'HS Graduate', 'HS Graduate', 'HS Graduate', '10', 'HS Graduate',\n",
       "       'HS Graduate', 'HS Graduate', 'HS Graduate', 'HS Graduate',\n",
       "       'HS Graduate', 'HS Graduate', 'HS Graduate', 'HS Graduate',\n",
       "       'HS Graduate', 'HS Graduate', 'HS Graduate', 'HS Graduate',\n",
       "       'HS Graduate', 'HS Graduate', 'HS Graduate', 'HS Graduate',\n",
       "       'HS Graduate', 'HS Graduate', 'HS Graduate', 'HS Graduate',\n",
       "       'HS Graduate', 'HS Graduate', 'HS Graduate', 'HS Graduate',\n",
       "       'HS Graduate', 'HS Graduate', 'HS Graduate', 'HS Graduate',\n",
       "       'HS Graduate', 'HS Graduate', 'HS Graduate', 'HS Graduate',\n",
       "       'HS Graduate', 'HS Graduate', 'HS Graduate', 'HS Graduate',\n",
       "       'HS Graduate', 'HS Graduate', 'HS Graduate', 'HS Graduate',\n",
       "       'HS Graduate', 'HS Graduate', 'HS Graduate', 'HS Graduate',\n",
       "       'HS Graduate', 'HS Graduate', 'HS Graduate', 'HS Graduate',\n",
       "       'HS Graduate', 'HS Graduate', 'Post Graduate', 'HS Graduate',\n",
       "       'HS Graduate', 'HS Graduate', 'HS Graduate', 'HS Graduate',\n",
       "       'HS Graduate', 'HS Graduate', 'College', 'HS Graduate',\n",
       "       'HS Graduate', 'HS Graduate', 'HS Graduate', 'HS Graduate',\n",
       "       'HS Graduate', 'HS Graduate', 'HS Graduate', 'HS Graduate',\n",
       "       'HS Graduate', 'HS Graduate', 'HS Graduate', 'HS Graduate',\n",
       "       'HS Graduate', 'HS Graduate', 'College', 'HS Graduate',\n",
       "       'HS Graduate', 'HS Graduate', 'HS Graduate', 'HS Graduate',\n",
       "       'HS Graduate', 'HS Graduate', 'HS Graduate', 'HS Graduate',\n",
       "       'HS Graduate', 'HS Graduate', 'HS Graduate', 'HS Graduate',\n",
       "       'HS Graduate', 'HS Graduate', 'HS Graduate', 'HS Graduate',\n",
       "       'HS Graduate', 'HS Graduate', 'HS Graduate', 'HS Graduate',\n",
       "       'HS Graduate', 'HS Graduate', 'HS Graduate', 'HS Graduate',\n",
       "       'HS Graduate', 'HS Graduate', 'HS Graduate', 'HS Graduate',\n",
       "       'HS Graduate', 'HS Graduate', 'HS Graduate', 'HS Graduate',\n",
       "       'HS Graduate', 'HS Graduate', 'HS Graduate', 'HS Graduate',\n",
       "       'HS Graduate', 'HS Graduate', 'HS Graduate', 'HS Graduate',\n",
       "       'HS Graduate', 'HS Graduate', 'HS Graduate', 'HS Graduate',\n",
       "       'HS Graduate', 'HS Graduate', 'HS Graduate', 'HS Graduate',\n",
       "       'HS Graduate', 'HS Graduate', 'HS Graduate', 'HS Graduate',\n",
       "       'HS Graduate', 'College', 'HS Graduate', 'HS Graduate',\n",
       "       'HS Graduate', 'HS Graduate', 'HS Graduate', 'College',\n",
       "       'HS Graduate', 'HS Graduate', 'HS Graduate', 'HS Graduate',\n",
       "       'HS Graduate', 'HS Graduate', 'HS Graduate', 'College',\n",
       "       'HS Graduate', 'HS Graduate', 'HS Graduate', 'HS Graduate',\n",
       "       'HS Graduate', 'HS Graduate', 'HS Graduate', 'HS Graduate',\n",
       "       'HS Graduate', 'HS Graduate', 'HS Graduate', 'HS Graduate',\n",
       "       'HS Graduate'], dtype=object)"
      ]
     },
     "execution_count": 96,
     "metadata": {},
     "output_type": "execute_result"
    }
   ],
   "source": [
    "randomforest_FTE.predict(X_test2)"
   ]
  },
  {
   "cell_type": "code",
   "execution_count": 97,
   "metadata": {},
   "outputs": [
    {
     "data": {
      "text/plain": [
       "0.8766788766788767"
      ]
     },
     "execution_count": 97,
     "metadata": {},
     "output_type": "execute_result"
    }
   ],
   "source": [
    "randomforest_FTE.score(X_test2,y_test2)"
   ]
  },
  {
   "cell_type": "code",
   "execution_count": 98,
   "metadata": {},
   "outputs": [
    {
     "name": "stderr",
     "output_type": "stream",
     "text": [
      "D:\\Python NYU\\lib\\site-packages\\sklearn\\ensemble\\forest.py:246: FutureWarning: The default value of n_estimators will change from 10 in version 0.20 to 100 in 0.22.\n",
      "  \"10 in version 0.20 to 100 in 0.22.\", FutureWarning)\n",
      "D:\\Python NYU\\lib\\site-packages\\sklearn\\ensemble\\forest.py:246: FutureWarning: The default value of n_estimators will change from 10 in version 0.20 to 100 in 0.22.\n",
      "  \"10 in version 0.20 to 100 in 0.22.\", FutureWarning)\n",
      "D:\\Python NYU\\lib\\site-packages\\sklearn\\ensemble\\forest.py:246: FutureWarning: The default value of n_estimators will change from 10 in version 0.20 to 100 in 0.22.\n",
      "  \"10 in version 0.20 to 100 in 0.22.\", FutureWarning)\n",
      "D:\\Python NYU\\lib\\site-packages\\sklearn\\ensemble\\forest.py:246: FutureWarning: The default value of n_estimators will change from 10 in version 0.20 to 100 in 0.22.\n",
      "  \"10 in version 0.20 to 100 in 0.22.\", FutureWarning)\n",
      "D:\\Python NYU\\lib\\site-packages\\sklearn\\ensemble\\forest.py:246: FutureWarning: The default value of n_estimators will change from 10 in version 0.20 to 100 in 0.22.\n",
      "  \"10 in version 0.20 to 100 in 0.22.\", FutureWarning)\n",
      "D:\\Python NYU\\lib\\site-packages\\sklearn\\ensemble\\forest.py:246: FutureWarning: The default value of n_estimators will change from 10 in version 0.20 to 100 in 0.22.\n",
      "  \"10 in version 0.20 to 100 in 0.22.\", FutureWarning)\n",
      "D:\\Python NYU\\lib\\site-packages\\sklearn\\ensemble\\forest.py:246: FutureWarning: The default value of n_estimators will change from 10 in version 0.20 to 100 in 0.22.\n",
      "  \"10 in version 0.20 to 100 in 0.22.\", FutureWarning)\n",
      "D:\\Python NYU\\lib\\site-packages\\sklearn\\ensemble\\forest.py:246: FutureWarning: The default value of n_estimators will change from 10 in version 0.20 to 100 in 0.22.\n",
      "  \"10 in version 0.20 to 100 in 0.22.\", FutureWarning)\n",
      "D:\\Python NYU\\lib\\site-packages\\sklearn\\ensemble\\forest.py:246: FutureWarning: The default value of n_estimators will change from 10 in version 0.20 to 100 in 0.22.\n",
      "  \"10 in version 0.20 to 100 in 0.22.\", FutureWarning)\n",
      "D:\\Python NYU\\lib\\site-packages\\sklearn\\ensemble\\forest.py:246: FutureWarning: The default value of n_estimators will change from 10 in version 0.20 to 100 in 0.22.\n",
      "  \"10 in version 0.20 to 100 in 0.22.\", FutureWarning)\n"
     ]
    }
   ],
   "source": [
    "scorelist_ranFTE =[]\n",
    "length_ranFTE = len(scorelist_ranFTE)\n",
    "\n",
    "#use for loop to list 10 scores calculated randomly by randomforest\n",
    "for length_ranFTE in range(1,11):\n",
    "    from sklearn.ensemble import RandomForestClassifier\n",
    "    randomforest_FTE = RandomForestClassifier()    \n",
    "    randomforest_FTE.fit(X_train2,y_train2)\n",
    "    \n",
    "    scorelist_ranFTE.append(randomforest_FTE.score(X_test2,y_test2))"
   ]
  },
  {
   "cell_type": "code",
   "execution_count": 99,
   "metadata": {},
   "outputs": [
    {
     "data": {
      "text/plain": [
       "[0.873015873015873,\n",
       " 0.8717948717948718,\n",
       " 0.8693528693528694,\n",
       " 0.8669108669108669,\n",
       " 0.8742368742368742,\n",
       " 0.8681318681318682,\n",
       " 0.8705738705738706,\n",
       " 0.8681318681318682,\n",
       " 0.8717948717948718,\n",
       " 0.8717948717948718]"
      ]
     },
     "execution_count": 99,
     "metadata": {},
     "output_type": "execute_result"
    }
   ],
   "source": [
    "scorelist_ranFTE"
   ]
  },
  {
   "cell_type": "code",
   "execution_count": 100,
   "metadata": {},
   "outputs": [
    {
     "data": {
      "text/plain": [
       "0.8705738705738707"
      ]
     },
     "execution_count": 100,
     "metadata": {},
     "output_type": "execute_result"
    }
   ],
   "source": [
    "np.mean(scorelist_ranFTE)"
   ]
  },
  {
   "cell_type": "code",
   "execution_count": 101,
   "metadata": {},
   "outputs": [
    {
     "data": {
      "text/html": [
       "<div>\n",
       "<style scoped>\n",
       "    .dataframe tbody tr th:only-of-type {\n",
       "        vertical-align: middle;\n",
       "    }\n",
       "\n",
       "    .dataframe tbody tr th {\n",
       "        vertical-align: top;\n",
       "    }\n",
       "\n",
       "    .dataframe thead th {\n",
       "        text-align: right;\n",
       "    }\n",
       "</style>\n",
       "<table border=\"1\" class=\"dataframe\">\n",
       "  <thead>\n",
       "    <tr style=\"text-align: right;\">\n",
       "      <th>Prediction</th>\n",
       "      <th>Full-Time Education</th>\n",
       "    </tr>\n",
       "  </thead>\n",
       "  <tbody>\n",
       "    <tr>\n",
       "      <th>Logistic Regression</th>\n",
       "      <td>0.89377</td>\n",
       "    </tr>\n",
       "    <tr>\n",
       "      <th>K Nearest Neighbors</th>\n",
       "      <td>0.88767</td>\n",
       "    </tr>\n",
       "    <tr>\n",
       "      <th>Classification Tree</th>\n",
       "      <td>0.83040</td>\n",
       "    </tr>\n",
       "    <tr>\n",
       "      <th>Random Forest</th>\n",
       "      <td>0.87082</td>\n",
       "    </tr>\n",
       "  </tbody>\n",
       "</table>\n",
       "</div>"
      ],
      "text/plain": [
       "Prediction           Full-Time Education\n",
       "Logistic Regression              0.89377\n",
       "K Nearest Neighbors              0.88767\n",
       "Classification Tree              0.83040\n",
       "Random Forest                    0.87082"
      ]
     },
     "execution_count": 101,
     "metadata": {},
     "output_type": "execute_result"
    }
   ],
   "source": [
    "#Create a table for score comparison of different model of full time education\n",
    "FscoreTable = {'Logistic Regression': [0.89377],\n",
    "'K Nearest Neighbors': [0.88767],\n",
    "'Classification Tree': [0.83040],\n",
    "'Random Forest': [0.87082]}\n",
    "FscoreTable = pd.DataFrame(FscoreTable)\n",
    "FscoreTable[\"Prediction\"] = list([\"Full-Time Education\"])\n",
    "FscoreTable = FscoreTable.set_index(\"Prediction\")\n",
    "FscoreTable = FscoreTable.T\n",
    "FscoreTable"
   ]
  },
  {
   "cell_type": "markdown",
   "metadata": {},
   "source": [
    "#####  As we can see from above table, for Full-Time Education, we should choose Logistic Regression as the score of this model is the highest, compared to other three ones\n",
    "\n",
    "##### Score Rank for Full Time Education: Logisctic Regression > KNN > Random Forest > Classification Tree\n",
    "\n",
    "### When we have information of gender, age, position, and total wages, we can use logistic regression model to predict education for full-time employees. "
   ]
  },
  {
   "cell_type": "markdown",
   "metadata": {},
   "source": [
    "### 2.2.2 Part-Time Position"
   ]
  },
  {
   "cell_type": "markdown",
   "metadata": {},
   "source": [
    "#### 2.2.2 a) Logistic Regression"
   ]
  },
  {
   "cell_type": "code",
   "execution_count": 102,
   "metadata": {},
   "outputs": [
    {
     "data": {
      "text/plain": [
       "array([['male', 'HS Graduate'],\n",
       "       ['male', 'HS Graduate'],\n",
       "       ['male', 'HS Graduate'],\n",
       "       ...,\n",
       "       ['female', 'HS Graduate'],\n",
       "       ['female', 'HS Graduate'],\n",
       "       ['male', 'HS Graduate']], dtype=object)"
      ]
     },
     "execution_count": 102,
     "metadata": {},
     "output_type": "execute_result"
    }
   ],
   "source": [
    "Features22 = PT[[\"GENDER\",\"EDUCATION\"]].values\n",
    "Features22"
   ]
  },
  {
   "cell_type": "code",
   "execution_count": 103,
   "metadata": {},
   "outputs": [
    {
     "data": {
      "text/html": [
       "<div>\n",
       "<style scoped>\n",
       "    .dataframe tbody tr th:only-of-type {\n",
       "        vertical-align: middle;\n",
       "    }\n",
       "\n",
       "    .dataframe tbody tr th {\n",
       "        vertical-align: top;\n",
       "    }\n",
       "\n",
       "    .dataframe thead th {\n",
       "        text-align: right;\n",
       "    }\n",
       "</style>\n",
       "<table border=\"1\" class=\"dataframe\">\n",
       "  <thead>\n",
       "    <tr style=\"text-align: right;\">\n",
       "      <th></th>\n",
       "      <th>0</th>\n",
       "      <th>1</th>\n",
       "      <th>2</th>\n",
       "      <th>3</th>\n",
       "      <th>4</th>\n",
       "      <th>5</th>\n",
       "      <th>6</th>\n",
       "      <th>7</th>\n",
       "      <th>8</th>\n",
       "      <th>9</th>\n",
       "      <th>AGE</th>\n",
       "      <th>TotalWages</th>\n",
       "    </tr>\n",
       "  </thead>\n",
       "  <tbody>\n",
       "    <tr>\n",
       "      <th>0</th>\n",
       "      <td>0.0</td>\n",
       "      <td>1.0</td>\n",
       "      <td>0.0</td>\n",
       "      <td>0.0</td>\n",
       "      <td>0.0</td>\n",
       "      <td>0.0</td>\n",
       "      <td>0.0</td>\n",
       "      <td>1.0</td>\n",
       "      <td>0.0</td>\n",
       "      <td>0.0</td>\n",
       "      <td>29</td>\n",
       "      <td>468.0</td>\n",
       "    </tr>\n",
       "    <tr>\n",
       "      <th>1</th>\n",
       "      <td>0.0</td>\n",
       "      <td>1.0</td>\n",
       "      <td>0.0</td>\n",
       "      <td>0.0</td>\n",
       "      <td>0.0</td>\n",
       "      <td>0.0</td>\n",
       "      <td>0.0</td>\n",
       "      <td>1.0</td>\n",
       "      <td>0.0</td>\n",
       "      <td>0.0</td>\n",
       "      <td>50</td>\n",
       "      <td>262.5</td>\n",
       "    </tr>\n",
       "    <tr>\n",
       "      <th>2</th>\n",
       "      <td>0.0</td>\n",
       "      <td>1.0</td>\n",
       "      <td>0.0</td>\n",
       "      <td>0.0</td>\n",
       "      <td>0.0</td>\n",
       "      <td>0.0</td>\n",
       "      <td>0.0</td>\n",
       "      <td>1.0</td>\n",
       "      <td>0.0</td>\n",
       "      <td>0.0</td>\n",
       "      <td>50</td>\n",
       "      <td>560.0</td>\n",
       "    </tr>\n",
       "    <tr>\n",
       "      <th>3</th>\n",
       "      <td>0.0</td>\n",
       "      <td>1.0</td>\n",
       "      <td>0.0</td>\n",
       "      <td>0.0</td>\n",
       "      <td>0.0</td>\n",
       "      <td>0.0</td>\n",
       "      <td>0.0</td>\n",
       "      <td>1.0</td>\n",
       "      <td>0.0</td>\n",
       "      <td>0.0</td>\n",
       "      <td>50</td>\n",
       "      <td>262.5</td>\n",
       "    </tr>\n",
       "    <tr>\n",
       "      <th>4</th>\n",
       "      <td>0.0</td>\n",
       "      <td>1.0</td>\n",
       "      <td>0.0</td>\n",
       "      <td>0.0</td>\n",
       "      <td>0.0</td>\n",
       "      <td>0.0</td>\n",
       "      <td>0.0</td>\n",
       "      <td>1.0</td>\n",
       "      <td>0.0</td>\n",
       "      <td>0.0</td>\n",
       "      <td>26</td>\n",
       "      <td>577.5</td>\n",
       "    </tr>\n",
       "  </tbody>\n",
       "</table>\n",
       "</div>"
      ],
      "text/plain": [
       "     0    1    2    3    4    5    6    7    8    9  AGE  TotalWages\n",
       "0  0.0  1.0  0.0  0.0  0.0  0.0  0.0  1.0  0.0  0.0   29       468.0\n",
       "1  0.0  1.0  0.0  0.0  0.0  0.0  0.0  1.0  0.0  0.0   50       262.5\n",
       "2  0.0  1.0  0.0  0.0  0.0  0.0  0.0  1.0  0.0  0.0   50       560.0\n",
       "3  0.0  1.0  0.0  0.0  0.0  0.0  0.0  1.0  0.0  0.0   50       262.5\n",
       "4  0.0  1.0  0.0  0.0  0.0  0.0  0.0  1.0  0.0  0.0   26       577.5"
      ]
     },
     "execution_count": 103,
     "metadata": {},
     "output_type": "execute_result"
    }
   ],
   "source": [
    "from sklearn.preprocessing import OneHotEncoder\n",
    "enc = OneHotEncoder()\n",
    "\n",
    "encFeatures22 = enc.fit_transform(Features22).toarray()\n",
    "encFeatures22 = pd.DataFrame(data=encFeatures22)\n",
    "encFeatures22[\"AGE\"] = list(PT[\"AGE\"])\n",
    "encFeatures22[\"TotalWages\"] = list(PT[\"TotalWages\"])\n",
    "encFeatures22.head()"
   ]
  },
  {
   "cell_type": "code",
   "execution_count": 104,
   "metadata": {},
   "outputs": [],
   "source": [
    "X_train22, X_test22, y_train22, y_test22 = train_test_split(encFeatures22,PT[\"POSITION\"], random_state=33)"
   ]
  },
  {
   "cell_type": "code",
   "execution_count": 105,
   "metadata": {},
   "outputs": [],
   "source": [
    "from sklearn.linear_model import LogisticRegression\n",
    "log_reg = LogisticRegression()"
   ]
  },
  {
   "cell_type": "code",
   "execution_count": 106,
   "metadata": {},
   "outputs": [
    {
     "name": "stderr",
     "output_type": "stream",
     "text": [
      "D:\\Python NYU\\lib\\site-packages\\sklearn\\linear_model\\logistic.py:433: FutureWarning: Default solver will be changed to 'lbfgs' in 0.22. Specify a solver to silence this warning.\n",
      "  FutureWarning)\n",
      "D:\\Python NYU\\lib\\site-packages\\sklearn\\linear_model\\logistic.py:460: FutureWarning: Default multi_class will be changed to 'auto' in 0.22. Specify the multi_class option to silence this warning.\n",
      "  \"this warning.\", FutureWarning)\n"
     ]
    },
    {
     "data": {
      "text/plain": [
       "LogisticRegression(C=1.0, class_weight=None, dual=False, fit_intercept=True,\n",
       "          intercept_scaling=1, max_iter=100, multi_class='warn',\n",
       "          n_jobs=None, penalty='l2', random_state=None, solver='warn',\n",
       "          tol=0.0001, verbose=0, warm_start=False)"
      ]
     },
     "execution_count": 106,
     "metadata": {},
     "output_type": "execute_result"
    }
   ],
   "source": [
    "log_reg.fit(X_train22, y_train22)"
   ]
  },
  {
   "cell_type": "code",
   "execution_count": 107,
   "metadata": {},
   "outputs": [
    {
     "data": {
      "text/html": [
       "<div>\n",
       "<style scoped>\n",
       "    .dataframe tbody tr th:only-of-type {\n",
       "        vertical-align: middle;\n",
       "    }\n",
       "\n",
       "    .dataframe tbody tr th {\n",
       "        vertical-align: top;\n",
       "    }\n",
       "\n",
       "    .dataframe thead th {\n",
       "        text-align: right;\n",
       "    }\n",
       "</style>\n",
       "<table border=\"1\" class=\"dataframe\">\n",
       "  <thead>\n",
       "    <tr style=\"text-align: right;\">\n",
       "      <th></th>\n",
       "      <th>0</th>\n",
       "      <th>1</th>\n",
       "      <th>2</th>\n",
       "      <th>3</th>\n",
       "      <th>4</th>\n",
       "      <th>5</th>\n",
       "      <th>6</th>\n",
       "      <th>7</th>\n",
       "      <th>8</th>\n",
       "      <th>9</th>\n",
       "      <th>AGE</th>\n",
       "      <th>TotalWages</th>\n",
       "    </tr>\n",
       "  </thead>\n",
       "  <tbody>\n",
       "    <tr>\n",
       "      <th>9864</th>\n",
       "      <td>1.0</td>\n",
       "      <td>0.0</td>\n",
       "      <td>0.0</td>\n",
       "      <td>0.0</td>\n",
       "      <td>0.0</td>\n",
       "      <td>0.0</td>\n",
       "      <td>0.0</td>\n",
       "      <td>1.0</td>\n",
       "      <td>0.0</td>\n",
       "      <td>0.0</td>\n",
       "      <td>48</td>\n",
       "      <td>270.0</td>\n",
       "    </tr>\n",
       "    <tr>\n",
       "      <th>10584</th>\n",
       "      <td>0.0</td>\n",
       "      <td>1.0</td>\n",
       "      <td>0.0</td>\n",
       "      <td>0.0</td>\n",
       "      <td>0.0</td>\n",
       "      <td>0.0</td>\n",
       "      <td>0.0</td>\n",
       "      <td>1.0</td>\n",
       "      <td>0.0</td>\n",
       "      <td>0.0</td>\n",
       "      <td>29</td>\n",
       "      <td>300.0</td>\n",
       "    </tr>\n",
       "    <tr>\n",
       "      <th>14161</th>\n",
       "      <td>0.0</td>\n",
       "      <td>1.0</td>\n",
       "      <td>0.0</td>\n",
       "      <td>0.0</td>\n",
       "      <td>0.0</td>\n",
       "      <td>0.0</td>\n",
       "      <td>0.0</td>\n",
       "      <td>1.0</td>\n",
       "      <td>0.0</td>\n",
       "      <td>0.0</td>\n",
       "      <td>33</td>\n",
       "      <td>280.0</td>\n",
       "    </tr>\n",
       "    <tr>\n",
       "      <th>11206</th>\n",
       "      <td>0.0</td>\n",
       "      <td>1.0</td>\n",
       "      <td>0.0</td>\n",
       "      <td>0.0</td>\n",
       "      <td>0.0</td>\n",
       "      <td>0.0</td>\n",
       "      <td>0.0</td>\n",
       "      <td>1.0</td>\n",
       "      <td>0.0</td>\n",
       "      <td>0.0</td>\n",
       "      <td>21</td>\n",
       "      <td>176.0</td>\n",
       "    </tr>\n",
       "    <tr>\n",
       "      <th>3985</th>\n",
       "      <td>1.0</td>\n",
       "      <td>0.0</td>\n",
       "      <td>0.0</td>\n",
       "      <td>0.0</td>\n",
       "      <td>0.0</td>\n",
       "      <td>0.0</td>\n",
       "      <td>0.0</td>\n",
       "      <td>1.0</td>\n",
       "      <td>0.0</td>\n",
       "      <td>0.0</td>\n",
       "      <td>37</td>\n",
       "      <td>160.0</td>\n",
       "    </tr>\n",
       "  </tbody>\n",
       "</table>\n",
       "</div>"
      ],
      "text/plain": [
       "         0    1    2    3    4    5    6    7    8    9  AGE  TotalWages\n",
       "9864   1.0  0.0  0.0  0.0  0.0  0.0  0.0  1.0  0.0  0.0   48       270.0\n",
       "10584  0.0  1.0  0.0  0.0  0.0  0.0  0.0  1.0  0.0  0.0   29       300.0\n",
       "14161  0.0  1.0  0.0  0.0  0.0  0.0  0.0  1.0  0.0  0.0   33       280.0\n",
       "11206  0.0  1.0  0.0  0.0  0.0  0.0  0.0  1.0  0.0  0.0   21       176.0\n",
       "3985   1.0  0.0  0.0  0.0  0.0  0.0  0.0  1.0  0.0  0.0   37       160.0"
      ]
     },
     "execution_count": 107,
     "metadata": {},
     "output_type": "execute_result"
    }
   ],
   "source": [
    "X_test22.head()"
   ]
  },
  {
   "cell_type": "code",
   "execution_count": 108,
   "metadata": {},
   "outputs": [
    {
     "data": {
      "text/plain": [
       "array(['Healthcare', 'Food Service', 'Food Service', ..., 'Retail',\n",
       "       'Janitorial Services', 'Healthcare'], dtype=object)"
      ]
     },
     "execution_count": 108,
     "metadata": {},
     "output_type": "execute_result"
    }
   ],
   "source": [
    "log_reg.predict(X_test22)"
   ]
  },
  {
   "cell_type": "code",
   "execution_count": 109,
   "metadata": {},
   "outputs": [
    {
     "data": {
      "text/plain": [
       "0.23182474723158403"
      ]
     },
     "execution_count": 109,
     "metadata": {},
     "output_type": "execute_result"
    }
   ],
   "source": [
    "log_reg.score(X_test22, y_test22)"
   ]
  },
  {
   "cell_type": "code",
   "execution_count": 110,
   "metadata": {},
   "outputs": [
    {
     "name": "stderr",
     "output_type": "stream",
     "text": [
      "D:\\Python NYU\\lib\\site-packages\\sklearn\\linear_model\\logistic.py:433: FutureWarning: Default solver will be changed to 'lbfgs' in 0.22. Specify a solver to silence this warning.\n",
      "  FutureWarning)\n",
      "D:\\Python NYU\\lib\\site-packages\\sklearn\\linear_model\\logistic.py:460: FutureWarning: Default multi_class will be changed to 'auto' in 0.22. Specify the multi_class option to silence this warning.\n",
      "  \"this warning.\", FutureWarning)\n",
      "D:\\Python NYU\\lib\\site-packages\\sklearn\\linear_model\\logistic.py:433: FutureWarning: Default solver will be changed to 'lbfgs' in 0.22. Specify a solver to silence this warning.\n",
      "  FutureWarning)\n",
      "D:\\Python NYU\\lib\\site-packages\\sklearn\\linear_model\\logistic.py:460: FutureWarning: Default multi_class will be changed to 'auto' in 0.22. Specify the multi_class option to silence this warning.\n",
      "  \"this warning.\", FutureWarning)\n",
      "D:\\Python NYU\\lib\\site-packages\\sklearn\\linear_model\\logistic.py:433: FutureWarning: Default solver will be changed to 'lbfgs' in 0.22. Specify a solver to silence this warning.\n",
      "  FutureWarning)\n",
      "D:\\Python NYU\\lib\\site-packages\\sklearn\\linear_model\\logistic.py:460: FutureWarning: Default multi_class will be changed to 'auto' in 0.22. Specify the multi_class option to silence this warning.\n",
      "  \"this warning.\", FutureWarning)\n",
      "D:\\Python NYU\\lib\\site-packages\\sklearn\\linear_model\\logistic.py:433: FutureWarning: Default solver will be changed to 'lbfgs' in 0.22. Specify a solver to silence this warning.\n",
      "  FutureWarning)\n",
      "D:\\Python NYU\\lib\\site-packages\\sklearn\\linear_model\\logistic.py:460: FutureWarning: Default multi_class will be changed to 'auto' in 0.22. Specify the multi_class option to silence this warning.\n",
      "  \"this warning.\", FutureWarning)\n",
      "D:\\Python NYU\\lib\\site-packages\\sklearn\\linear_model\\logistic.py:433: FutureWarning: Default solver will be changed to 'lbfgs' in 0.22. Specify a solver to silence this warning.\n",
      "  FutureWarning)\n",
      "D:\\Python NYU\\lib\\site-packages\\sklearn\\linear_model\\logistic.py:460: FutureWarning: Default multi_class will be changed to 'auto' in 0.22. Specify the multi_class option to silence this warning.\n",
      "  \"this warning.\", FutureWarning)\n",
      "D:\\Python NYU\\lib\\site-packages\\sklearn\\linear_model\\logistic.py:433: FutureWarning: Default solver will be changed to 'lbfgs' in 0.22. Specify a solver to silence this warning.\n",
      "  FutureWarning)\n",
      "D:\\Python NYU\\lib\\site-packages\\sklearn\\linear_model\\logistic.py:460: FutureWarning: Default multi_class will be changed to 'auto' in 0.22. Specify the multi_class option to silence this warning.\n",
      "  \"this warning.\", FutureWarning)\n",
      "D:\\Python NYU\\lib\\site-packages\\sklearn\\linear_model\\logistic.py:433: FutureWarning: Default solver will be changed to 'lbfgs' in 0.22. Specify a solver to silence this warning.\n",
      "  FutureWarning)\n",
      "D:\\Python NYU\\lib\\site-packages\\sklearn\\linear_model\\logistic.py:460: FutureWarning: Default multi_class will be changed to 'auto' in 0.22. Specify the multi_class option to silence this warning.\n",
      "  \"this warning.\", FutureWarning)\n",
      "D:\\Python NYU\\lib\\site-packages\\sklearn\\linear_model\\logistic.py:433: FutureWarning: Default solver will be changed to 'lbfgs' in 0.22. Specify a solver to silence this warning.\n",
      "  FutureWarning)\n",
      "D:\\Python NYU\\lib\\site-packages\\sklearn\\linear_model\\logistic.py:460: FutureWarning: Default multi_class will be changed to 'auto' in 0.22. Specify the multi_class option to silence this warning.\n",
      "  \"this warning.\", FutureWarning)\n",
      "D:\\Python NYU\\lib\\site-packages\\sklearn\\linear_model\\logistic.py:433: FutureWarning: Default solver will be changed to 'lbfgs' in 0.22. Specify a solver to silence this warning.\n",
      "  FutureWarning)\n",
      "D:\\Python NYU\\lib\\site-packages\\sklearn\\linear_model\\logistic.py:460: FutureWarning: Default multi_class will be changed to 'auto' in 0.22. Specify the multi_class option to silence this warning.\n",
      "  \"this warning.\", FutureWarning)\n",
      "D:\\Python NYU\\lib\\site-packages\\sklearn\\linear_model\\logistic.py:433: FutureWarning: Default solver will be changed to 'lbfgs' in 0.22. Specify a solver to silence this warning.\n",
      "  FutureWarning)\n",
      "D:\\Python NYU\\lib\\site-packages\\sklearn\\linear_model\\logistic.py:460: FutureWarning: Default multi_class will be changed to 'auto' in 0.22. Specify the multi_class option to silence this warning.\n",
      "  \"this warning.\", FutureWarning)\n"
     ]
    }
   ],
   "source": [
    "scorelist_logregPTP =[]\n",
    "length_logregPTP = len(scorelist_logregPTP)\n",
    "\n",
    "#use for loop to list 10 scores calculated randomly by logistic regression\n",
    "for length_logregPTP in range(1,11):\n",
    "    from sklearn.linear_model import LogisticRegression\n",
    "    log_regPTP = LogisticRegression()    \n",
    "    log_regPTP.fit(X_train22,y_train22)\n",
    "\n",
    "    scorelist_logregPTP.append(log_regPTP.score(X_test22, y_test22))"
   ]
  },
  {
   "cell_type": "code",
   "execution_count": 111,
   "metadata": {},
   "outputs": [
    {
     "data": {
      "text/plain": [
       "[0.23182474723158403,\n",
       " 0.23182474723158403,\n",
       " 0.23182474723158403,\n",
       " 0.23182474723158403,\n",
       " 0.23182474723158403,\n",
       " 0.23182474723158403,\n",
       " 0.23182474723158403,\n",
       " 0.23182474723158403,\n",
       " 0.23182474723158403,\n",
       " 0.23182474723158403]"
      ]
     },
     "execution_count": 111,
     "metadata": {},
     "output_type": "execute_result"
    }
   ],
   "source": [
    "scorelist_logregPTP"
   ]
  },
  {
   "cell_type": "code",
   "execution_count": 112,
   "metadata": {},
   "outputs": [
    {
     "data": {
      "text/plain": [
       "0.23182474723158406"
      ]
     },
     "execution_count": 112,
     "metadata": {},
     "output_type": "execute_result"
    }
   ],
   "source": [
    "np.mean(scorelist_logregPTP)"
   ]
  },
  {
   "cell_type": "markdown",
   "metadata": {},
   "source": [
    "#####  Although there is no difference shown above , there is variation in score when we increase the run times in for loop. Therefore, for more accurate score, we can increase run time to at least 100. (Here is just for saving computation time)"
   ]
  },
  {
   "cell_type": "markdown",
   "metadata": {},
   "source": [
    "#### 2.2.2 b) K-Nearest Neighbors"
   ]
  },
  {
   "cell_type": "code",
   "execution_count": 113,
   "metadata": {},
   "outputs": [],
   "source": [
    "from sklearn import neighbors"
   ]
  },
  {
   "cell_type": "code",
   "execution_count": 114,
   "metadata": {},
   "outputs": [],
   "source": [
    "# We aim to select optimal K value that yields the highest accuracy\n",
    "# Assume the range of k is from 1 to 100 in integer\n",
    "# Returns a sequence of integers for k from 1 to 100\n",
    "k_PTP_range = range(1,101) \n",
    "scoresPTP_list=[]\n",
    "\n",
    "#Here we use the same splitted data from Logistic Regression Part Time Position Part\n",
    "for k in k_PTP_range:\n",
    "    knnPTP = neighbors.KNeighborsClassifier(n_neighbors=k) \n",
    "    knnPTP.fit(X_train22, y_train22)\n",
    "      \n",
    "    scoresPTP_list.append(knnPTP.score(X_test22, y_test22))"
   ]
  },
  {
   "cell_type": "code",
   "execution_count": 115,
   "metadata": {},
   "outputs": [
    {
     "data": {
      "text/plain": [
       "Text(0, 0.5, 'Accuracy score')"
      ]
     },
     "execution_count": 115,
     "metadata": {},
     "output_type": "execute_result"
    },
    {
     "data": {
      "image/png": "[encoded data removed]",
      "text/plain": [
       "<Figure size 432x288 with 1 Axes>"
      ]
     },
     "metadata": {
      "needs_background": "light"
     },
     "output_type": "display_data"
    }
   ],
   "source": [
    "#Make a plot showing accuracy scores vs their corresponding k value\n",
    "plt.plot(k_PTP_range,scoresPTP_list)\n",
    "plt.xlabel('Value of K')\n",
    "plt.ylabel('Accuracy score')"
   ]
  },
  {
   "cell_type": "code",
   "execution_count": 116,
   "metadata": {},
   "outputs": [
    {
     "name": "stdout",
     "output_type": "stream",
     "text": [
      "Optimal K is 78 with highest accuracy = 0.26624939817043813\n"
     ]
    }
   ],
   "source": [
    "#Select optimal k value\n",
    "Accuracy_highest_PTP = max(scoresPTP_list)\n",
    "K_HighestAccuracy_PTP = k_PTP_range[scoresPTP_list.index(Accuracy_highest_PTP)]\n",
    "print (\"Optimal K is\",K_HighestAccuracy_PTP, \"with highest accuracy =\",Accuracy_highest_PTP)"
   ]
  },
  {
   "cell_type": "code",
   "execution_count": 117,
   "metadata": {},
   "outputs": [],
   "source": [
    "from sklearn import neighbors\n",
    "knn = neighbors.KNeighborsClassifier(n_neighbors=78)"
   ]
  },
  {
   "cell_type": "code",
   "execution_count": 118,
   "metadata": {},
   "outputs": [
    {
     "data": {
      "text/plain": [
       "KNeighborsClassifier(algorithm='auto', leaf_size=30, metric='minkowski',\n",
       "           metric_params=None, n_jobs=None, n_neighbors=78, p=2,\n",
       "           weights='uniform')"
      ]
     },
     "execution_count": 118,
     "metadata": {},
     "output_type": "execute_result"
    }
   ],
   "source": [
    "knn.fit(X_train22,y_train22)"
   ]
  },
  {
   "cell_type": "code",
   "execution_count": 119,
   "metadata": {},
   "outputs": [
    {
     "data": {
      "text/plain": [
       "array(['Food Service', 'Food Service', 'Food Service', ...,\n",
       "       'Food Service', 'Food Service', 'Retail'], dtype=object)"
      ]
     },
     "execution_count": 119,
     "metadata": {},
     "output_type": "execute_result"
    }
   ],
   "source": [
    "knn.predict(X_test22)"
   ]
  },
  {
   "cell_type": "code",
   "execution_count": 120,
   "metadata": {},
   "outputs": [
    {
     "data": {
      "text/plain": [
       "0.26624939817043813"
      ]
     },
     "execution_count": 120,
     "metadata": {},
     "output_type": "execute_result"
    }
   ],
   "source": [
    "knn.score(X_test22,y_test22)"
   ]
  },
  {
   "cell_type": "code",
   "execution_count": 121,
   "metadata": {},
   "outputs": [],
   "source": [
    "scorelistPTP =[]\n",
    "lengthPTP = len(scorelistPTP)\n",
    "\n",
    "#Use a for loop to list 10 scores calculated randomly by knn \n",
    "for lengthPTP in range(1,11):\n",
    "    from sklearn import neighbors\n",
    "    knnPTP = neighbors.KNeighborsClassifier(n_neighbors=78)\n",
    "    knnPTP.fit(X_train22,y_train22)\n",
    "\n",
    "    scorelistPTP.append(knnPTP.score(X_test22,y_test22))"
   ]
  },
  {
   "cell_type": "code",
   "execution_count": 122,
   "metadata": {},
   "outputs": [
    {
     "data": {
      "text/plain": [
       "[0.26624939817043813,\n",
       " 0.26624939817043813,\n",
       " 0.26624939817043813,\n",
       " 0.26624939817043813,\n",
       " 0.26624939817043813,\n",
       " 0.26624939817043813,\n",
       " 0.26624939817043813,\n",
       " 0.26624939817043813,\n",
       " 0.26624939817043813,\n",
       " 0.26624939817043813]"
      ]
     },
     "execution_count": 122,
     "metadata": {},
     "output_type": "execute_result"
    }
   ],
   "source": [
    "scorelistPTP"
   ]
  },
  {
   "cell_type": "code",
   "execution_count": 123,
   "metadata": {},
   "outputs": [
    {
     "data": {
      "text/plain": [
       "0.26624939817043813"
      ]
     },
     "execution_count": 123,
     "metadata": {},
     "output_type": "execute_result"
    }
   ],
   "source": [
    "#Compute average score\n",
    "np.mean(scorelistPTP)"
   ]
  },
  {
   "cell_type": "markdown",
   "metadata": {},
   "source": [
    "##### Although there is no difference shown above , there is variation in score when we increase the run times in for loop. Therefore, for more accurate score, we can increase run time to at least 100. (Here is just for saving computation time)\n",
    "\n",
    "##### In some conditions, this score is high enough. However, if we want to let this model more accuracy, we can also normalize our data as z-score to manipulate.  "
   ]
  },
  {
   "cell_type": "markdown",
   "metadata": {},
   "source": [
    "#### 2.2.2 c) Classification Tree"
   ]
  },
  {
   "cell_type": "code",
   "execution_count": 124,
   "metadata": {},
   "outputs": [],
   "source": [
    "from sklearn.tree import DecisionTreeClassifier\n",
    "Cat_tree = DecisionTreeClassifier()"
   ]
  },
  {
   "cell_type": "code",
   "execution_count": 125,
   "metadata": {},
   "outputs": [
    {
     "data": {
      "text/plain": [
       "DecisionTreeClassifier(class_weight=None, criterion='gini', max_depth=None,\n",
       "            max_features=None, max_leaf_nodes=None,\n",
       "            min_impurity_decrease=0.0, min_impurity_split=None,\n",
       "            min_samples_leaf=1, min_samples_split=2,\n",
       "            min_weight_fraction_leaf=0.0, presort=False, random_state=None,\n",
       "            splitter='best')"
      ]
     },
     "execution_count": 125,
     "metadata": {},
     "output_type": "execute_result"
    }
   ],
   "source": [
    "Cat_tree.fit(X_train22,y_train22)"
   ]
  },
  {
   "cell_type": "code",
   "execution_count": 126,
   "metadata": {},
   "outputs": [
    {
     "data": {
      "text/plain": [
       "array(['Leisure And Hospitality', 'Other', 'Retail', ..., 'Food Service',\n",
       "       'Janitorial Services', 'Telemarketing'], dtype=object)"
      ]
     },
     "execution_count": 126,
     "metadata": {},
     "output_type": "execute_result"
    }
   ],
   "source": [
    "Cat_tree.predict(X_test22)"
   ]
  },
  {
   "cell_type": "code",
   "execution_count": 127,
   "metadata": {},
   "outputs": [
    {
     "data": {
      "text/plain": [
       "0.2676937891189215"
      ]
     },
     "execution_count": 127,
     "metadata": {},
     "output_type": "execute_result"
    }
   ],
   "source": [
    "Cat_tree.score(X_test22,y_test22)"
   ]
  },
  {
   "cell_type": "code",
   "execution_count": 128,
   "metadata": {},
   "outputs": [],
   "source": [
    "scorelist_catPTP =[]\n",
    "length_catPTP = len(scorelist_catPTP)\n",
    "\n",
    "#use for loop to list 10 scores calculated randomly by categorical tree\n",
    "for length_catPTP in range(1,11):\n",
    "    from sklearn.tree import DecisionTreeClassifier\n",
    "    Cat_tree_PTP = DecisionTreeClassifier()    \n",
    "    Cat_tree_PTP.fit(X_train22,y_train22)\n",
    "\n",
    "    scorelist_catPTP.append(Cat_tree_PTP.score(X_test22,y_test22))"
   ]
  },
  {
   "cell_type": "code",
   "execution_count": 129,
   "metadata": {},
   "outputs": [
    {
     "data": {
      "text/plain": [
       "[0.2698603755416466,\n",
       " 0.268175252768416,\n",
       " 0.26937891189215213,\n",
       " 0.2691381800674049,\n",
       " 0.2696196437168994,\n",
       " 0.2667308618199326,\n",
       " 0.26937891189215213,\n",
       " 0.2674530572941743,\n",
       " 0.2676937891189215,\n",
       " 0.26841598459316324]"
      ]
     },
     "execution_count": 129,
     "metadata": {},
     "output_type": "execute_result"
    }
   ],
   "source": [
    "scorelist_catPTP"
   ]
  },
  {
   "cell_type": "code",
   "execution_count": 130,
   "metadata": {},
   "outputs": [
    {
     "data": {
      "text/plain": [
       "0.2685844968704863"
      ]
     },
     "execution_count": 130,
     "metadata": {},
     "output_type": "execute_result"
    }
   ],
   "source": [
    "np.mean(scorelist_catPTP)"
   ]
  },
  {
   "cell_type": "markdown",
   "metadata": {},
   "source": [
    "#### 2.2.2 d) Random Forest"
   ]
  },
  {
   "cell_type": "code",
   "execution_count": 131,
   "metadata": {},
   "outputs": [],
   "source": [
    "from sklearn.ensemble import RandomForestClassifier\n",
    "randomforest = RandomForestClassifier()"
   ]
  },
  {
   "cell_type": "code",
   "execution_count": 132,
   "metadata": {},
   "outputs": [
    {
     "name": "stderr",
     "output_type": "stream",
     "text": [
      "D:\\Python NYU\\lib\\site-packages\\sklearn\\ensemble\\forest.py:246: FutureWarning: The default value of n_estimators will change from 10 in version 0.20 to 100 in 0.22.\n",
      "  \"10 in version 0.20 to 100 in 0.22.\", FutureWarning)\n"
     ]
    },
    {
     "data": {
      "text/plain": [
       "RandomForestClassifier(bootstrap=True, class_weight=None, criterion='gini',\n",
       "            max_depth=None, max_features='auto', max_leaf_nodes=None,\n",
       "            min_impurity_decrease=0.0, min_impurity_split=None,\n",
       "            min_samples_leaf=1, min_samples_split=2,\n",
       "            min_weight_fraction_leaf=0.0, n_estimators=10, n_jobs=None,\n",
       "            oob_score=False, random_state=None, verbose=0,\n",
       "            warm_start=False)"
      ]
     },
     "execution_count": 132,
     "metadata": {},
     "output_type": "execute_result"
    }
   ],
   "source": [
    "randomforest.fit(X_train22,y_train22)"
   ]
  },
  {
   "cell_type": "code",
   "execution_count": 133,
   "metadata": {},
   "outputs": [
    {
     "data": {
      "text/plain": [
       "array(['Leisure And Hospitality', 'Other', 'Retail', ..., 'Food Service',\n",
       "       'Telemarketing', 'Telemarketing'], dtype=object)"
      ]
     },
     "execution_count": 133,
     "metadata": {},
     "output_type": "execute_result"
    }
   ],
   "source": [
    "randomforest.predict(X_test22)"
   ]
  },
  {
   "cell_type": "code",
   "execution_count": 134,
   "metadata": {},
   "outputs": [
    {
     "data": {
      "text/plain": [
       "0.2563793933558016"
      ]
     },
     "execution_count": 134,
     "metadata": {},
     "output_type": "execute_result"
    }
   ],
   "source": [
    "randomforest.score(X_test22,y_test22)"
   ]
  },
  {
   "cell_type": "code",
   "execution_count": 135,
   "metadata": {},
   "outputs": [],
   "source": [
    "scorelist_ranPTP =[]\n",
    "length_ranPTP = len(scorelist_ranPTP)\n",
    "\n",
    "#use for loop to list 10 scores calculated randomly by randomforest\n",
    "for length_ranPTP in range(1,11):\n",
    "    from sklearn.ensemble import RandomForestClassifier\n",
    "    randomforest_PTP = RandomForestClassifier(n_estimators = 10)    \n",
    "    randomforest_PTP.fit(X_train22,y_train22)\n",
    "\n",
    "    scorelist_ranPTP.append(randomforest_PTP.score(X_test22,y_test22))"
   ]
  },
  {
   "cell_type": "code",
   "execution_count": 136,
   "metadata": {},
   "outputs": [
    {
     "data": {
      "text/plain": [
       "[0.25252768415984594,\n",
       " 0.25589792970630715,\n",
       " 0.25493500240731826,\n",
       " 0.2623976889744824,\n",
       " 0.2522869523350987,\n",
       " 0.2537313432835821,\n",
       " 0.2590274434280212,\n",
       " 0.25180548868560426,\n",
       " 0.2616754935002407,\n",
       " 0.2621569571497352]"
      ]
     },
     "execution_count": 136,
     "metadata": {},
     "output_type": "execute_result"
    }
   ],
   "source": [
    "scorelist_ranPTP"
   ]
  },
  {
   "cell_type": "code",
   "execution_count": 137,
   "metadata": {},
   "outputs": [
    {
     "data": {
      "text/plain": [
       "0.25664419836302355"
      ]
     },
     "execution_count": 137,
     "metadata": {},
     "output_type": "execute_result"
    }
   ],
   "source": [
    "#Compute average score\n",
    "np.mean(scorelist_ranPTP)"
   ]
  },
  {
   "cell_type": "code",
   "execution_count": 138,
   "metadata": {},
   "outputs": [
    {
     "data": {
      "text/html": [
       "<div>\n",
       "<style scoped>\n",
       "    .dataframe tbody tr th:only-of-type {\n",
       "        vertical-align: middle;\n",
       "    }\n",
       "\n",
       "    .dataframe tbody tr th {\n",
       "        vertical-align: top;\n",
       "    }\n",
       "\n",
       "    .dataframe thead th {\n",
       "        text-align: right;\n",
       "    }\n",
       "</style>\n",
       "<table border=\"1\" class=\"dataframe\">\n",
       "  <thead>\n",
       "    <tr style=\"text-align: right;\">\n",
       "      <th>Prediction</th>\n",
       "      <th>Part-Time Position</th>\n",
       "    </tr>\n",
       "  </thead>\n",
       "  <tbody>\n",
       "    <tr>\n",
       "      <th>Logistic Regression</th>\n",
       "      <td>0.23279</td>\n",
       "    </tr>\n",
       "    <tr>\n",
       "      <th>K Nearest Neighbors</th>\n",
       "      <td>0.26625</td>\n",
       "    </tr>\n",
       "    <tr>\n",
       "      <th>Classification Tree</th>\n",
       "      <td>0.26844</td>\n",
       "    </tr>\n",
       "    <tr>\n",
       "      <th>Random Forest</th>\n",
       "      <td>0.25867</td>\n",
       "    </tr>\n",
       "  </tbody>\n",
       "</table>\n",
       "</div>"
      ],
      "text/plain": [
       "Prediction           Part-Time Position\n",
       "Logistic Regression             0.23279\n",
       "K Nearest Neighbors             0.26625\n",
       "Classification Tree             0.26844\n",
       "Random Forest                   0.25867"
      ]
     },
     "execution_count": 138,
     "metadata": {},
     "output_type": "execute_result"
    }
   ],
   "source": [
    "#Create a table for score comparison of different model of part time position\n",
    "PscoreTable = {'Logistic Regression': [0.23279],\n",
    "'K Nearest Neighbors': [0.26625],\n",
    "'Classification Tree': [0.26844],\n",
    "'Random Forest': [0.25867]}\n",
    "PscoreTable = pd.DataFrame(PscoreTable)\n",
    "PscoreTable[\"Prediction\"] = list([\"Part-Time Position\"])\n",
    "PscoreTable = PscoreTable.set_index(\"Prediction\")\n",
    "PscoreTable = PscoreTable.T\n",
    "PscoreTable"
   ]
  },
  {
   "cell_type": "markdown",
   "metadata": {},
   "source": [
    "##### As we can see from above table, for Part-Time Position, we should choose Classification Tree as the score of this model is the highest, compared to other three ones\n",
    "\n",
    "##### Score Rank for Part Time Position: Classfication Tree > KNN > Random Forest > Logistic Regression\n",
    "\n",
    "### When we have information of gender, age, education, and total wages, we can use logistic regression model to predict position for part-time employees. "
   ]
  },
  {
   "cell_type": "markdown",
   "metadata": {},
   "source": [
    "# 3. Overall Conclusion"
   ]
  },
  {
   "cell_type": "markdown",
   "metadata": {},
   "source": [
    "## 3.1 Numerical Data - Regression"
   ]
  },
  {
   "cell_type": "markdown",
   "metadata": {},
   "source": [
    "#### For Full-time Total Wages, we should use Linear Regression model as the score of Linear Regression (0.35603) is higher than the average score of Regression Tree (0.03236). When we have information of gender, age, position, and education, we can use Multivariable Linear Regression model to predict wages for full-time employees."
   ]
  },
  {
   "cell_type": "markdown",
   "metadata": {},
   "source": [
    "#### For Part-Time TotalWages, we should use Linear Regression model as the score of Linear Regression (0.22077) is higher than the average score of Regression Tree (0.08243). When we have information of gender, age, position, and education, we can use Multivariable Linear Regression model to predict wages for part-time employees."
   ]
  },
  {
   "cell_type": "markdown",
   "metadata": {},
   "source": [
    "##### For conclusion, we create a table for complete comparison of each Model for Numerical Data:"
   ]
  },
  {
   "cell_type": "code",
   "execution_count": 139,
   "metadata": {},
   "outputs": [
    {
     "data": {
      "text/html": [
       "<div>\n",
       "<style scoped>\n",
       "    .dataframe tbody tr th:only-of-type {\n",
       "        vertical-align: middle;\n",
       "    }\n",
       "\n",
       "    .dataframe tbody tr th {\n",
       "        vertical-align: top;\n",
       "    }\n",
       "\n",
       "    .dataframe thead th {\n",
       "        text-align: right;\n",
       "    }\n",
       "</style>\n",
       "<table border=\"1\" class=\"dataframe\">\n",
       "  <thead>\n",
       "    <tr style=\"text-align: right;\">\n",
       "      <th>Prediction</th>\n",
       "      <th>Full-Time TotalWages</th>\n",
       "      <th>Part-Time TotalWages</th>\n",
       "    </tr>\n",
       "  </thead>\n",
       "  <tbody>\n",
       "    <tr>\n",
       "      <th>Linear Regression</th>\n",
       "      <td>0.35603</td>\n",
       "      <td>0.22077</td>\n",
       "    </tr>\n",
       "    <tr>\n",
       "      <th>Regression Tree</th>\n",
       "      <td>0.03236</td>\n",
       "      <td>0.08243</td>\n",
       "    </tr>\n",
       "  </tbody>\n",
       "</table>\n",
       "</div>"
      ],
      "text/plain": [
       "Prediction         Full-Time TotalWages  Part-Time TotalWages\n",
       "Linear Regression               0.35603               0.22077\n",
       "Regression Tree                 0.03236               0.08243"
      ]
     },
     "execution_count": 139,
     "metadata": {},
     "output_type": "execute_result"
    }
   ],
   "source": [
    "scoreTable = {'Linear Regression': [0.35603,0.22077],\n",
    "'Regression Tree': [0.03236,0.08243]}\n",
    "scoreTable = pd.DataFrame(scoreTable)\n",
    "scoreTable[\"Prediction\"] = list([\"Full-Time TotalWages\",\"Part-Time TotalWages\"])\n",
    "scoreTable = scoreTable.set_index(\"Prediction\")\n",
    "scoreTable = scoreTable.T\n",
    "scoreTable"
   ]
  },
  {
   "cell_type": "markdown",
   "metadata": {},
   "source": [
    "## 3.2 Categorical Data - Classification"
   ]
  },
  {
   "cell_type": "markdown",
   "metadata": {},
   "source": [
    "#### For Full-Time Education, we should choose Logistic Regression as the score of this model is the highest, compared to other three ones.When we have information of gender, age, position, and total wages, we can use Logistic Regression model to predict education for full-time employees."
   ]
  },
  {
   "cell_type": "markdown",
   "metadata": {},
   "source": [
    "#### For Part-Time Position, we should choose Classification Tree as the score of this model is the highest, compared to other three ones.When we have information of gender, age, education, and total wages, we can use Classification Tree model to predict position for part-time employees."
   ]
  },
  {
   "cell_type": "markdown",
   "metadata": {},
   "source": [
    "##### For conclusion, we create a table for complete comparison of each Model for Categorical Data:"
   ]
  },
  {
   "cell_type": "code",
   "execution_count": 140,
   "metadata": {},
   "outputs": [],
   "source": [
    "PscoreTable = pd.DataFrame(data=PscoreTable)\n",
    "PscoreTable = PscoreTable.reset_index()\n",
    "FscoreTable = pd.DataFrame(data=FscoreTable)\n",
    "FscoreTable = FscoreTable.reset_index()"
   ]
  },
  {
   "cell_type": "code",
   "execution_count": 141,
   "metadata": {},
   "outputs": [
    {
     "data": {
      "text/html": [
       "<div>\n",
       "<style scoped>\n",
       "    .dataframe tbody tr th:only-of-type {\n",
       "        vertical-align: middle;\n",
       "    }\n",
       "\n",
       "    .dataframe tbody tr th {\n",
       "        vertical-align: top;\n",
       "    }\n",
       "\n",
       "    .dataframe thead th {\n",
       "        text-align: right;\n",
       "    }\n",
       "</style>\n",
       "<table border=\"1\" class=\"dataframe\">\n",
       "  <thead>\n",
       "    <tr style=\"text-align: right;\">\n",
       "      <th>Prediction</th>\n",
       "      <th>Part-Time Position</th>\n",
       "      <th>Full-Time Education</th>\n",
       "    </tr>\n",
       "    <tr>\n",
       "      <th>index</th>\n",
       "      <th></th>\n",
       "      <th></th>\n",
       "    </tr>\n",
       "  </thead>\n",
       "  <tbody>\n",
       "    <tr>\n",
       "      <th>Logistic Regression</th>\n",
       "      <td>0.23279</td>\n",
       "      <td>0.89377</td>\n",
       "    </tr>\n",
       "    <tr>\n",
       "      <th>K Nearest Neighbors</th>\n",
       "      <td>0.26625</td>\n",
       "      <td>0.88767</td>\n",
       "    </tr>\n",
       "    <tr>\n",
       "      <th>Classification Tree</th>\n",
       "      <td>0.26844</td>\n",
       "      <td>0.83040</td>\n",
       "    </tr>\n",
       "    <tr>\n",
       "      <th>Random Forest</th>\n",
       "      <td>0.25867</td>\n",
       "      <td>0.87082</td>\n",
       "    </tr>\n",
       "  </tbody>\n",
       "</table>\n",
       "</div>"
      ],
      "text/plain": [
       "Prediction           Part-Time Position  Full-Time Education\n",
       "index                                                       \n",
       "Logistic Regression             0.23279              0.89377\n",
       "K Nearest Neighbors             0.26625              0.88767\n",
       "Classification Tree             0.26844              0.83040\n",
       "Random Forest                   0.25867              0.87082"
      ]
     },
     "execution_count": 141,
     "metadata": {},
     "output_type": "execute_result"
    }
   ],
   "source": [
    "Table = PscoreTable.merge(FscoreTable,on='index',how='inner')\n",
    "Table.set_index(\"index\")"
   ]
  }
 ],
 "metadata": {
  "kernelspec": {
   "display_name": "Python 3",
   "language": "python",
   "name": "python3"
  },
  "language_info": {
   "codemirror_mode": {
    "name": "ipython",
    "version": 3
   },
   "file_extension": ".py",
   "mimetype": "text/x-python",
   "name": "python",
   "nbconvert_exporter": "python",
   "pygments_lexer": "ipython3",
   "version": "3.7.1"
  }
 },
 "nbformat": 4,
 "nbformat_minor": 2
}
